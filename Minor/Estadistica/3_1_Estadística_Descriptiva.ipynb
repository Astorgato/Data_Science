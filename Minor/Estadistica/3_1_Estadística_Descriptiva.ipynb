{
  "nbformat": 4,
  "nbformat_minor": 0,
  "metadata": {
    "colab": {
      "provenance": [],
      "collapsed_sections": []
    },
    "kernelspec": {
      "name": "python3",
      "display_name": "Python 3"
    },
    "language_info": {
      "name": "python"
    },
    "widgets": {
      "application/vnd.jupyter.widget-state+json": {
        "e3fa7c1010f5443287408888c18cda99": {
          "model_module": "@jupyter-widgets/controls",
          "model_name": "HBoxModel",
          "model_module_version": "1.5.0",
          "state": {
            "_dom_classes": [],
            "_model_module": "@jupyter-widgets/controls",
            "_model_module_version": "1.5.0",
            "_model_name": "HBoxModel",
            "_view_count": null,
            "_view_module": "@jupyter-widgets/controls",
            "_view_module_version": "1.5.0",
            "_view_name": "HBoxView",
            "box_style": "",
            "children": [
              "IPY_MODEL_8b14b97c293747088605c93f8f7f42ed",
              "IPY_MODEL_0a563cb6fe7040b0a16478ddcd151b03",
              "IPY_MODEL_c07b3e012e3c47268c86f8b93a34becb"
            ],
            "layout": "IPY_MODEL_15ba99df02d04c22be6fc975ccc5752f"
          }
        },
        "8b14b97c293747088605c93f8f7f42ed": {
          "model_module": "@jupyter-widgets/controls",
          "model_name": "HTMLModel",
          "model_module_version": "1.5.0",
          "state": {
            "_dom_classes": [],
            "_model_module": "@jupyter-widgets/controls",
            "_model_module_version": "1.5.0",
            "_model_name": "HTMLModel",
            "_view_count": null,
            "_view_module": "@jupyter-widgets/controls",
            "_view_module_version": "1.5.0",
            "_view_name": "HTMLView",
            "description": "",
            "description_tooltip": null,
            "layout": "IPY_MODEL_afc5af403382486590be472b183431f2",
            "placeholder": "​",
            "style": "IPY_MODEL_c34e66d52bf0460e8ac51145b63b1ff6",
            "value": "Summarize dataset: 100%"
          }
        },
        "0a563cb6fe7040b0a16478ddcd151b03": {
          "model_module": "@jupyter-widgets/controls",
          "model_name": "FloatProgressModel",
          "model_module_version": "1.5.0",
          "state": {
            "_dom_classes": [],
            "_model_module": "@jupyter-widgets/controls",
            "_model_module_version": "1.5.0",
            "_model_name": "FloatProgressModel",
            "_view_count": null,
            "_view_module": "@jupyter-widgets/controls",
            "_view_module_version": "1.5.0",
            "_view_name": "ProgressView",
            "bar_style": "success",
            "description": "",
            "description_tooltip": null,
            "layout": "IPY_MODEL_84acfe4fd77b41c986ec1c42d84a6c1b",
            "max": 5,
            "min": 0,
            "orientation": "horizontal",
            "style": "IPY_MODEL_a1cb5626dc1c4e1ea7eb62c446c6b377",
            "value": 5
          }
        },
        "c07b3e012e3c47268c86f8b93a34becb": {
          "model_module": "@jupyter-widgets/controls",
          "model_name": "HTMLModel",
          "model_module_version": "1.5.0",
          "state": {
            "_dom_classes": [],
            "_model_module": "@jupyter-widgets/controls",
            "_model_module_version": "1.5.0",
            "_model_name": "HTMLModel",
            "_view_count": null,
            "_view_module": "@jupyter-widgets/controls",
            "_view_module_version": "1.5.0",
            "_view_name": "HTMLView",
            "description": "",
            "description_tooltip": null,
            "layout": "IPY_MODEL_4f5b530dad7d4126b3b6cfe6da995c29",
            "placeholder": "​",
            "style": "IPY_MODEL_d9477678177b4c549ad63e1eedf4156d",
            "value": " 23/23 [00:02&lt;00:00,  8.08it/s, Completed]"
          }
        },
        "15ba99df02d04c22be6fc975ccc5752f": {
          "model_module": "@jupyter-widgets/base",
          "model_name": "LayoutModel",
          "model_module_version": "1.2.0",
          "state": {
            "_model_module": "@jupyter-widgets/base",
            "_model_module_version": "1.2.0",
            "_model_name": "LayoutModel",
            "_view_count": null,
            "_view_module": "@jupyter-widgets/base",
            "_view_module_version": "1.2.0",
            "_view_name": "LayoutView",
            "align_content": null,
            "align_items": null,
            "align_self": null,
            "border": null,
            "bottom": null,
            "display": null,
            "flex": null,
            "flex_flow": null,
            "grid_area": null,
            "grid_auto_columns": null,
            "grid_auto_flow": null,
            "grid_auto_rows": null,
            "grid_column": null,
            "grid_gap": null,
            "grid_row": null,
            "grid_template_areas": null,
            "grid_template_columns": null,
            "grid_template_rows": null,
            "height": null,
            "justify_content": null,
            "justify_items": null,
            "left": null,
            "margin": null,
            "max_height": null,
            "max_width": null,
            "min_height": null,
            "min_width": null,
            "object_fit": null,
            "object_position": null,
            "order": null,
            "overflow": null,
            "overflow_x": null,
            "overflow_y": null,
            "padding": null,
            "right": null,
            "top": null,
            "visibility": null,
            "width": null
          }
        },
        "afc5af403382486590be472b183431f2": {
          "model_module": "@jupyter-widgets/base",
          "model_name": "LayoutModel",
          "model_module_version": "1.2.0",
          "state": {
            "_model_module": "@jupyter-widgets/base",
            "_model_module_version": "1.2.0",
            "_model_name": "LayoutModel",
            "_view_count": null,
            "_view_module": "@jupyter-widgets/base",
            "_view_module_version": "1.2.0",
            "_view_name": "LayoutView",
            "align_content": null,
            "align_items": null,
            "align_self": null,
            "border": null,
            "bottom": null,
            "display": null,
            "flex": null,
            "flex_flow": null,
            "grid_area": null,
            "grid_auto_columns": null,
            "grid_auto_flow": null,
            "grid_auto_rows": null,
            "grid_column": null,
            "grid_gap": null,
            "grid_row": null,
            "grid_template_areas": null,
            "grid_template_columns": null,
            "grid_template_rows": null,
            "height": null,
            "justify_content": null,
            "justify_items": null,
            "left": null,
            "margin": null,
            "max_height": null,
            "max_width": null,
            "min_height": null,
            "min_width": null,
            "object_fit": null,
            "object_position": null,
            "order": null,
            "overflow": null,
            "overflow_x": null,
            "overflow_y": null,
            "padding": null,
            "right": null,
            "top": null,
            "visibility": null,
            "width": null
          }
        },
        "c34e66d52bf0460e8ac51145b63b1ff6": {
          "model_module": "@jupyter-widgets/controls",
          "model_name": "DescriptionStyleModel",
          "model_module_version": "1.5.0",
          "state": {
            "_model_module": "@jupyter-widgets/controls",
            "_model_module_version": "1.5.0",
            "_model_name": "DescriptionStyleModel",
            "_view_count": null,
            "_view_module": "@jupyter-widgets/base",
            "_view_module_version": "1.2.0",
            "_view_name": "StyleView",
            "description_width": ""
          }
        },
        "84acfe4fd77b41c986ec1c42d84a6c1b": {
          "model_module": "@jupyter-widgets/base",
          "model_name": "LayoutModel",
          "model_module_version": "1.2.0",
          "state": {
            "_model_module": "@jupyter-widgets/base",
            "_model_module_version": "1.2.0",
            "_model_name": "LayoutModel",
            "_view_count": null,
            "_view_module": "@jupyter-widgets/base",
            "_view_module_version": "1.2.0",
            "_view_name": "LayoutView",
            "align_content": null,
            "align_items": null,
            "align_self": null,
            "border": null,
            "bottom": null,
            "display": null,
            "flex": null,
            "flex_flow": null,
            "grid_area": null,
            "grid_auto_columns": null,
            "grid_auto_flow": null,
            "grid_auto_rows": null,
            "grid_column": null,
            "grid_gap": null,
            "grid_row": null,
            "grid_template_areas": null,
            "grid_template_columns": null,
            "grid_template_rows": null,
            "height": null,
            "justify_content": null,
            "justify_items": null,
            "left": null,
            "margin": null,
            "max_height": null,
            "max_width": null,
            "min_height": null,
            "min_width": null,
            "object_fit": null,
            "object_position": null,
            "order": null,
            "overflow": null,
            "overflow_x": null,
            "overflow_y": null,
            "padding": null,
            "right": null,
            "top": null,
            "visibility": null,
            "width": null
          }
        },
        "a1cb5626dc1c4e1ea7eb62c446c6b377": {
          "model_module": "@jupyter-widgets/controls",
          "model_name": "ProgressStyleModel",
          "model_module_version": "1.5.0",
          "state": {
            "_model_module": "@jupyter-widgets/controls",
            "_model_module_version": "1.5.0",
            "_model_name": "ProgressStyleModel",
            "_view_count": null,
            "_view_module": "@jupyter-widgets/base",
            "_view_module_version": "1.2.0",
            "_view_name": "StyleView",
            "bar_color": null,
            "description_width": ""
          }
        },
        "4f5b530dad7d4126b3b6cfe6da995c29": {
          "model_module": "@jupyter-widgets/base",
          "model_name": "LayoutModel",
          "model_module_version": "1.2.0",
          "state": {
            "_model_module": "@jupyter-widgets/base",
            "_model_module_version": "1.2.0",
            "_model_name": "LayoutModel",
            "_view_count": null,
            "_view_module": "@jupyter-widgets/base",
            "_view_module_version": "1.2.0",
            "_view_name": "LayoutView",
            "align_content": null,
            "align_items": null,
            "align_self": null,
            "border": null,
            "bottom": null,
            "display": null,
            "flex": null,
            "flex_flow": null,
            "grid_area": null,
            "grid_auto_columns": null,
            "grid_auto_flow": null,
            "grid_auto_rows": null,
            "grid_column": null,
            "grid_gap": null,
            "grid_row": null,
            "grid_template_areas": null,
            "grid_template_columns": null,
            "grid_template_rows": null,
            "height": null,
            "justify_content": null,
            "justify_items": null,
            "left": null,
            "margin": null,
            "max_height": null,
            "max_width": null,
            "min_height": null,
            "min_width": null,
            "object_fit": null,
            "object_position": null,
            "order": null,
            "overflow": null,
            "overflow_x": null,
            "overflow_y": null,
            "padding": null,
            "right": null,
            "top": null,
            "visibility": null,
            "width": null
          }
        },
        "d9477678177b4c549ad63e1eedf4156d": {
          "model_module": "@jupyter-widgets/controls",
          "model_name": "DescriptionStyleModel",
          "model_module_version": "1.5.0",
          "state": {
            "_model_module": "@jupyter-widgets/controls",
            "_model_module_version": "1.5.0",
            "_model_name": "DescriptionStyleModel",
            "_view_count": null,
            "_view_module": "@jupyter-widgets/base",
            "_view_module_version": "1.2.0",
            "_view_name": "StyleView",
            "description_width": ""
          }
        },
        "9eb9f93874234e65b3bdf8fc09314ecc": {
          "model_module": "@jupyter-widgets/controls",
          "model_name": "HBoxModel",
          "model_module_version": "1.5.0",
          "state": {
            "_dom_classes": [],
            "_model_module": "@jupyter-widgets/controls",
            "_model_module_version": "1.5.0",
            "_model_name": "HBoxModel",
            "_view_count": null,
            "_view_module": "@jupyter-widgets/controls",
            "_view_module_version": "1.5.0",
            "_view_name": "HBoxView",
            "box_style": "",
            "children": [
              "IPY_MODEL_bb3416ac242741bdaeb6ce8a5e9980ec",
              "IPY_MODEL_3bc94286a9e742daae399969b8b9ae26",
              "IPY_MODEL_46c397f8a90243d2af48b317ad3ffb05"
            ],
            "layout": "IPY_MODEL_7f316e2af6844ce5af1f340b8bb738b6"
          }
        },
        "bb3416ac242741bdaeb6ce8a5e9980ec": {
          "model_module": "@jupyter-widgets/controls",
          "model_name": "HTMLModel",
          "model_module_version": "1.5.0",
          "state": {
            "_dom_classes": [],
            "_model_module": "@jupyter-widgets/controls",
            "_model_module_version": "1.5.0",
            "_model_name": "HTMLModel",
            "_view_count": null,
            "_view_module": "@jupyter-widgets/controls",
            "_view_module_version": "1.5.0",
            "_view_name": "HTMLView",
            "description": "",
            "description_tooltip": null,
            "layout": "IPY_MODEL_2183cca2ca41491d807a9dea4c861471",
            "placeholder": "​",
            "style": "IPY_MODEL_d8840401e2774fbcb5176cdc33b3dc03",
            "value": "Generate report structure: 100%"
          }
        },
        "3bc94286a9e742daae399969b8b9ae26": {
          "model_module": "@jupyter-widgets/controls",
          "model_name": "FloatProgressModel",
          "model_module_version": "1.5.0",
          "state": {
            "_dom_classes": [],
            "_model_module": "@jupyter-widgets/controls",
            "_model_module_version": "1.5.0",
            "_model_name": "FloatProgressModel",
            "_view_count": null,
            "_view_module": "@jupyter-widgets/controls",
            "_view_module_version": "1.5.0",
            "_view_name": "ProgressView",
            "bar_style": "success",
            "description": "",
            "description_tooltip": null,
            "layout": "IPY_MODEL_0fc48ebc746d4b7dba72262716290984",
            "max": 1,
            "min": 0,
            "orientation": "horizontal",
            "style": "IPY_MODEL_60906e6b93194984847060b0ed112460",
            "value": 1
          }
        },
        "46c397f8a90243d2af48b317ad3ffb05": {
          "model_module": "@jupyter-widgets/controls",
          "model_name": "HTMLModel",
          "model_module_version": "1.5.0",
          "state": {
            "_dom_classes": [],
            "_model_module": "@jupyter-widgets/controls",
            "_model_module_version": "1.5.0",
            "_model_name": "HTMLModel",
            "_view_count": null,
            "_view_module": "@jupyter-widgets/controls",
            "_view_module_version": "1.5.0",
            "_view_name": "HTMLView",
            "description": "",
            "description_tooltip": null,
            "layout": "IPY_MODEL_a630ce4f04bf4a22bc8d796cc6b76055",
            "placeholder": "​",
            "style": "IPY_MODEL_511958f4ebd0409dab3a8b6c215fbcf9",
            "value": " 1/1 [00:02&lt;00:00,  2.22s/it]"
          }
        },
        "7f316e2af6844ce5af1f340b8bb738b6": {
          "model_module": "@jupyter-widgets/base",
          "model_name": "LayoutModel",
          "model_module_version": "1.2.0",
          "state": {
            "_model_module": "@jupyter-widgets/base",
            "_model_module_version": "1.2.0",
            "_model_name": "LayoutModel",
            "_view_count": null,
            "_view_module": "@jupyter-widgets/base",
            "_view_module_version": "1.2.0",
            "_view_name": "LayoutView",
            "align_content": null,
            "align_items": null,
            "align_self": null,
            "border": null,
            "bottom": null,
            "display": null,
            "flex": null,
            "flex_flow": null,
            "grid_area": null,
            "grid_auto_columns": null,
            "grid_auto_flow": null,
            "grid_auto_rows": null,
            "grid_column": null,
            "grid_gap": null,
            "grid_row": null,
            "grid_template_areas": null,
            "grid_template_columns": null,
            "grid_template_rows": null,
            "height": null,
            "justify_content": null,
            "justify_items": null,
            "left": null,
            "margin": null,
            "max_height": null,
            "max_width": null,
            "min_height": null,
            "min_width": null,
            "object_fit": null,
            "object_position": null,
            "order": null,
            "overflow": null,
            "overflow_x": null,
            "overflow_y": null,
            "padding": null,
            "right": null,
            "top": null,
            "visibility": null,
            "width": null
          }
        },
        "2183cca2ca41491d807a9dea4c861471": {
          "model_module": "@jupyter-widgets/base",
          "model_name": "LayoutModel",
          "model_module_version": "1.2.0",
          "state": {
            "_model_module": "@jupyter-widgets/base",
            "_model_module_version": "1.2.0",
            "_model_name": "LayoutModel",
            "_view_count": null,
            "_view_module": "@jupyter-widgets/base",
            "_view_module_version": "1.2.0",
            "_view_name": "LayoutView",
            "align_content": null,
            "align_items": null,
            "align_self": null,
            "border": null,
            "bottom": null,
            "display": null,
            "flex": null,
            "flex_flow": null,
            "grid_area": null,
            "grid_auto_columns": null,
            "grid_auto_flow": null,
            "grid_auto_rows": null,
            "grid_column": null,
            "grid_gap": null,
            "grid_row": null,
            "grid_template_areas": null,
            "grid_template_columns": null,
            "grid_template_rows": null,
            "height": null,
            "justify_content": null,
            "justify_items": null,
            "left": null,
            "margin": null,
            "max_height": null,
            "max_width": null,
            "min_height": null,
            "min_width": null,
            "object_fit": null,
            "object_position": null,
            "order": null,
            "overflow": null,
            "overflow_x": null,
            "overflow_y": null,
            "padding": null,
            "right": null,
            "top": null,
            "visibility": null,
            "width": null
          }
        },
        "d8840401e2774fbcb5176cdc33b3dc03": {
          "model_module": "@jupyter-widgets/controls",
          "model_name": "DescriptionStyleModel",
          "model_module_version": "1.5.0",
          "state": {
            "_model_module": "@jupyter-widgets/controls",
            "_model_module_version": "1.5.0",
            "_model_name": "DescriptionStyleModel",
            "_view_count": null,
            "_view_module": "@jupyter-widgets/base",
            "_view_module_version": "1.2.0",
            "_view_name": "StyleView",
            "description_width": ""
          }
        },
        "0fc48ebc746d4b7dba72262716290984": {
          "model_module": "@jupyter-widgets/base",
          "model_name": "LayoutModel",
          "model_module_version": "1.2.0",
          "state": {
            "_model_module": "@jupyter-widgets/base",
            "_model_module_version": "1.2.0",
            "_model_name": "LayoutModel",
            "_view_count": null,
            "_view_module": "@jupyter-widgets/base",
            "_view_module_version": "1.2.0",
            "_view_name": "LayoutView",
            "align_content": null,
            "align_items": null,
            "align_self": null,
            "border": null,
            "bottom": null,
            "display": null,
            "flex": null,
            "flex_flow": null,
            "grid_area": null,
            "grid_auto_columns": null,
            "grid_auto_flow": null,
            "grid_auto_rows": null,
            "grid_column": null,
            "grid_gap": null,
            "grid_row": null,
            "grid_template_areas": null,
            "grid_template_columns": null,
            "grid_template_rows": null,
            "height": null,
            "justify_content": null,
            "justify_items": null,
            "left": null,
            "margin": null,
            "max_height": null,
            "max_width": null,
            "min_height": null,
            "min_width": null,
            "object_fit": null,
            "object_position": null,
            "order": null,
            "overflow": null,
            "overflow_x": null,
            "overflow_y": null,
            "padding": null,
            "right": null,
            "top": null,
            "visibility": null,
            "width": null
          }
        },
        "60906e6b93194984847060b0ed112460": {
          "model_module": "@jupyter-widgets/controls",
          "model_name": "ProgressStyleModel",
          "model_module_version": "1.5.0",
          "state": {
            "_model_module": "@jupyter-widgets/controls",
            "_model_module_version": "1.5.0",
            "_model_name": "ProgressStyleModel",
            "_view_count": null,
            "_view_module": "@jupyter-widgets/base",
            "_view_module_version": "1.2.0",
            "_view_name": "StyleView",
            "bar_color": null,
            "description_width": ""
          }
        },
        "a630ce4f04bf4a22bc8d796cc6b76055": {
          "model_module": "@jupyter-widgets/base",
          "model_name": "LayoutModel",
          "model_module_version": "1.2.0",
          "state": {
            "_model_module": "@jupyter-widgets/base",
            "_model_module_version": "1.2.0",
            "_model_name": "LayoutModel",
            "_view_count": null,
            "_view_module": "@jupyter-widgets/base",
            "_view_module_version": "1.2.0",
            "_view_name": "LayoutView",
            "align_content": null,
            "align_items": null,
            "align_self": null,
            "border": null,
            "bottom": null,
            "display": null,
            "flex": null,
            "flex_flow": null,
            "grid_area": null,
            "grid_auto_columns": null,
            "grid_auto_flow": null,
            "grid_auto_rows": null,
            "grid_column": null,
            "grid_gap": null,
            "grid_row": null,
            "grid_template_areas": null,
            "grid_template_columns": null,
            "grid_template_rows": null,
            "height": null,
            "justify_content": null,
            "justify_items": null,
            "left": null,
            "margin": null,
            "max_height": null,
            "max_width": null,
            "min_height": null,
            "min_width": null,
            "object_fit": null,
            "object_position": null,
            "order": null,
            "overflow": null,
            "overflow_x": null,
            "overflow_y": null,
            "padding": null,
            "right": null,
            "top": null,
            "visibility": null,
            "width": null
          }
        },
        "511958f4ebd0409dab3a8b6c215fbcf9": {
          "model_module": "@jupyter-widgets/controls",
          "model_name": "DescriptionStyleModel",
          "model_module_version": "1.5.0",
          "state": {
            "_model_module": "@jupyter-widgets/controls",
            "_model_module_version": "1.5.0",
            "_model_name": "DescriptionStyleModel",
            "_view_count": null,
            "_view_module": "@jupyter-widgets/base",
            "_view_module_version": "1.2.0",
            "_view_name": "StyleView",
            "description_width": ""
          }
        },
        "b5f8e4b6e88f4f0e8c6eca7d6d16819b": {
          "model_module": "@jupyter-widgets/controls",
          "model_name": "HBoxModel",
          "model_module_version": "1.5.0",
          "state": {
            "_dom_classes": [],
            "_model_module": "@jupyter-widgets/controls",
            "_model_module_version": "1.5.0",
            "_model_name": "HBoxModel",
            "_view_count": null,
            "_view_module": "@jupyter-widgets/controls",
            "_view_module_version": "1.5.0",
            "_view_name": "HBoxView",
            "box_style": "",
            "children": [
              "IPY_MODEL_3885bf7822284cc4a8cd587d7c60a947",
              "IPY_MODEL_188faaf8450e448cba16654b741b2df8",
              "IPY_MODEL_a308ddab50914b3d83f85c0b8c3191ef"
            ],
            "layout": "IPY_MODEL_30a172b7523b4054b47dc1a92fc9be6d"
          }
        },
        "3885bf7822284cc4a8cd587d7c60a947": {
          "model_module": "@jupyter-widgets/controls",
          "model_name": "HTMLModel",
          "model_module_version": "1.5.0",
          "state": {
            "_dom_classes": [],
            "_model_module": "@jupyter-widgets/controls",
            "_model_module_version": "1.5.0",
            "_model_name": "HTMLModel",
            "_view_count": null,
            "_view_module": "@jupyter-widgets/controls",
            "_view_module_version": "1.5.0",
            "_view_name": "HTMLView",
            "description": "",
            "description_tooltip": null,
            "layout": "IPY_MODEL_a00c22f86a9a4b6aaa027876a8f0cc7d",
            "placeholder": "​",
            "style": "IPY_MODEL_16ffd59b4c5e4f18a411b492bd9f4c58",
            "value": "Render HTML: 100%"
          }
        },
        "188faaf8450e448cba16654b741b2df8": {
          "model_module": "@jupyter-widgets/controls",
          "model_name": "FloatProgressModel",
          "model_module_version": "1.5.0",
          "state": {
            "_dom_classes": [],
            "_model_module": "@jupyter-widgets/controls",
            "_model_module_version": "1.5.0",
            "_model_name": "FloatProgressModel",
            "_view_count": null,
            "_view_module": "@jupyter-widgets/controls",
            "_view_module_version": "1.5.0",
            "_view_name": "ProgressView",
            "bar_style": "success",
            "description": "",
            "description_tooltip": null,
            "layout": "IPY_MODEL_ce37aeb3c7e845e8891eeacb6d459a84",
            "max": 1,
            "min": 0,
            "orientation": "horizontal",
            "style": "IPY_MODEL_0a9a8b1a17e6486db318c96358045e52",
            "value": 1
          }
        },
        "a308ddab50914b3d83f85c0b8c3191ef": {
          "model_module": "@jupyter-widgets/controls",
          "model_name": "HTMLModel",
          "model_module_version": "1.5.0",
          "state": {
            "_dom_classes": [],
            "_model_module": "@jupyter-widgets/controls",
            "_model_module_version": "1.5.0",
            "_model_name": "HTMLModel",
            "_view_count": null,
            "_view_module": "@jupyter-widgets/controls",
            "_view_module_version": "1.5.0",
            "_view_name": "HTMLView",
            "description": "",
            "description_tooltip": null,
            "layout": "IPY_MODEL_c4999ca8747d4fe18d0d6bc2b5e6cca5",
            "placeholder": "​",
            "style": "IPY_MODEL_412a0fd9966c41088d2e94063ac920e9",
            "value": " 1/1 [00:00&lt;00:00,  1.97it/s]"
          }
        },
        "30a172b7523b4054b47dc1a92fc9be6d": {
          "model_module": "@jupyter-widgets/base",
          "model_name": "LayoutModel",
          "model_module_version": "1.2.0",
          "state": {
            "_model_module": "@jupyter-widgets/base",
            "_model_module_version": "1.2.0",
            "_model_name": "LayoutModel",
            "_view_count": null,
            "_view_module": "@jupyter-widgets/base",
            "_view_module_version": "1.2.0",
            "_view_name": "LayoutView",
            "align_content": null,
            "align_items": null,
            "align_self": null,
            "border": null,
            "bottom": null,
            "display": null,
            "flex": null,
            "flex_flow": null,
            "grid_area": null,
            "grid_auto_columns": null,
            "grid_auto_flow": null,
            "grid_auto_rows": null,
            "grid_column": null,
            "grid_gap": null,
            "grid_row": null,
            "grid_template_areas": null,
            "grid_template_columns": null,
            "grid_template_rows": null,
            "height": null,
            "justify_content": null,
            "justify_items": null,
            "left": null,
            "margin": null,
            "max_height": null,
            "max_width": null,
            "min_height": null,
            "min_width": null,
            "object_fit": null,
            "object_position": null,
            "order": null,
            "overflow": null,
            "overflow_x": null,
            "overflow_y": null,
            "padding": null,
            "right": null,
            "top": null,
            "visibility": null,
            "width": null
          }
        },
        "a00c22f86a9a4b6aaa027876a8f0cc7d": {
          "model_module": "@jupyter-widgets/base",
          "model_name": "LayoutModel",
          "model_module_version": "1.2.0",
          "state": {
            "_model_module": "@jupyter-widgets/base",
            "_model_module_version": "1.2.0",
            "_model_name": "LayoutModel",
            "_view_count": null,
            "_view_module": "@jupyter-widgets/base",
            "_view_module_version": "1.2.0",
            "_view_name": "LayoutView",
            "align_content": null,
            "align_items": null,
            "align_self": null,
            "border": null,
            "bottom": null,
            "display": null,
            "flex": null,
            "flex_flow": null,
            "grid_area": null,
            "grid_auto_columns": null,
            "grid_auto_flow": null,
            "grid_auto_rows": null,
            "grid_column": null,
            "grid_gap": null,
            "grid_row": null,
            "grid_template_areas": null,
            "grid_template_columns": null,
            "grid_template_rows": null,
            "height": null,
            "justify_content": null,
            "justify_items": null,
            "left": null,
            "margin": null,
            "max_height": null,
            "max_width": null,
            "min_height": null,
            "min_width": null,
            "object_fit": null,
            "object_position": null,
            "order": null,
            "overflow": null,
            "overflow_x": null,
            "overflow_y": null,
            "padding": null,
            "right": null,
            "top": null,
            "visibility": null,
            "width": null
          }
        },
        "16ffd59b4c5e4f18a411b492bd9f4c58": {
          "model_module": "@jupyter-widgets/controls",
          "model_name": "DescriptionStyleModel",
          "model_module_version": "1.5.0",
          "state": {
            "_model_module": "@jupyter-widgets/controls",
            "_model_module_version": "1.5.0",
            "_model_name": "DescriptionStyleModel",
            "_view_count": null,
            "_view_module": "@jupyter-widgets/base",
            "_view_module_version": "1.2.0",
            "_view_name": "StyleView",
            "description_width": ""
          }
        },
        "ce37aeb3c7e845e8891eeacb6d459a84": {
          "model_module": "@jupyter-widgets/base",
          "model_name": "LayoutModel",
          "model_module_version": "1.2.0",
          "state": {
            "_model_module": "@jupyter-widgets/base",
            "_model_module_version": "1.2.0",
            "_model_name": "LayoutModel",
            "_view_count": null,
            "_view_module": "@jupyter-widgets/base",
            "_view_module_version": "1.2.0",
            "_view_name": "LayoutView",
            "align_content": null,
            "align_items": null,
            "align_self": null,
            "border": null,
            "bottom": null,
            "display": null,
            "flex": null,
            "flex_flow": null,
            "grid_area": null,
            "grid_auto_columns": null,
            "grid_auto_flow": null,
            "grid_auto_rows": null,
            "grid_column": null,
            "grid_gap": null,
            "grid_row": null,
            "grid_template_areas": null,
            "grid_template_columns": null,
            "grid_template_rows": null,
            "height": null,
            "justify_content": null,
            "justify_items": null,
            "left": null,
            "margin": null,
            "max_height": null,
            "max_width": null,
            "min_height": null,
            "min_width": null,
            "object_fit": null,
            "object_position": null,
            "order": null,
            "overflow": null,
            "overflow_x": null,
            "overflow_y": null,
            "padding": null,
            "right": null,
            "top": null,
            "visibility": null,
            "width": null
          }
        },
        "0a9a8b1a17e6486db318c96358045e52": {
          "model_module": "@jupyter-widgets/controls",
          "model_name": "ProgressStyleModel",
          "model_module_version": "1.5.0",
          "state": {
            "_model_module": "@jupyter-widgets/controls",
            "_model_module_version": "1.5.0",
            "_model_name": "ProgressStyleModel",
            "_view_count": null,
            "_view_module": "@jupyter-widgets/base",
            "_view_module_version": "1.2.0",
            "_view_name": "StyleView",
            "bar_color": null,
            "description_width": ""
          }
        },
        "c4999ca8747d4fe18d0d6bc2b5e6cca5": {
          "model_module": "@jupyter-widgets/base",
          "model_name": "LayoutModel",
          "model_module_version": "1.2.0",
          "state": {
            "_model_module": "@jupyter-widgets/base",
            "_model_module_version": "1.2.0",
            "_model_name": "LayoutModel",
            "_view_count": null,
            "_view_module": "@jupyter-widgets/base",
            "_view_module_version": "1.2.0",
            "_view_name": "LayoutView",
            "align_content": null,
            "align_items": null,
            "align_self": null,
            "border": null,
            "bottom": null,
            "display": null,
            "flex": null,
            "flex_flow": null,
            "grid_area": null,
            "grid_auto_columns": null,
            "grid_auto_flow": null,
            "grid_auto_rows": null,
            "grid_column": null,
            "grid_gap": null,
            "grid_row": null,
            "grid_template_areas": null,
            "grid_template_columns": null,
            "grid_template_rows": null,
            "height": null,
            "justify_content": null,
            "justify_items": null,
            "left": null,
            "margin": null,
            "max_height": null,
            "max_width": null,
            "min_height": null,
            "min_width": null,
            "object_fit": null,
            "object_position": null,
            "order": null,
            "overflow": null,
            "overflow_x": null,
            "overflow_y": null,
            "padding": null,
            "right": null,
            "top": null,
            "visibility": null,
            "width": null
          }
        },
        "412a0fd9966c41088d2e94063ac920e9": {
          "model_module": "@jupyter-widgets/controls",
          "model_name": "DescriptionStyleModel",
          "model_module_version": "1.5.0",
          "state": {
            "_model_module": "@jupyter-widgets/controls",
            "_model_module_version": "1.5.0",
            "_model_name": "DescriptionStyleModel",
            "_view_count": null,
            "_view_module": "@jupyter-widgets/base",
            "_view_module_version": "1.2.0",
            "_view_name": "StyleView",
            "description_width": ""
          }
        },
        "befa0ef3c4d947c683fc4dae8a35e7f7": {
          "model_module": "@jupyter-widgets/controls",
          "model_name": "HBoxModel",
          "model_module_version": "1.5.0",
          "state": {
            "_dom_classes": [],
            "_model_module": "@jupyter-widgets/controls",
            "_model_module_version": "1.5.0",
            "_model_name": "HBoxModel",
            "_view_count": null,
            "_view_module": "@jupyter-widgets/controls",
            "_view_module_version": "1.5.0",
            "_view_name": "HBoxView",
            "box_style": "",
            "children": [
              "IPY_MODEL_642a274858294ecf89a3b7238db314e2",
              "IPY_MODEL_5196966b1a224ce6ac27507ed314d03e",
              "IPY_MODEL_d458dce0066d494b957e036332a19bbb"
            ],
            "layout": "IPY_MODEL_5c7c63d332c44378a572b623ae35ea9f"
          }
        },
        "642a274858294ecf89a3b7238db314e2": {
          "model_module": "@jupyter-widgets/controls",
          "model_name": "HTMLModel",
          "model_module_version": "1.5.0",
          "state": {
            "_dom_classes": [],
            "_model_module": "@jupyter-widgets/controls",
            "_model_module_version": "1.5.0",
            "_model_name": "HTMLModel",
            "_view_count": null,
            "_view_module": "@jupyter-widgets/controls",
            "_view_module_version": "1.5.0",
            "_view_name": "HTMLView",
            "description": "",
            "description_tooltip": null,
            "layout": "IPY_MODEL_c9b94b3c9e6d49569a26a158d8c3af00",
            "placeholder": "​",
            "style": "IPY_MODEL_e2f08acee10048ef9510fea317c78d56",
            "value": "Export report to file: 100%"
          }
        },
        "5196966b1a224ce6ac27507ed314d03e": {
          "model_module": "@jupyter-widgets/controls",
          "model_name": "FloatProgressModel",
          "model_module_version": "1.5.0",
          "state": {
            "_dom_classes": [],
            "_model_module": "@jupyter-widgets/controls",
            "_model_module_version": "1.5.0",
            "_model_name": "FloatProgressModel",
            "_view_count": null,
            "_view_module": "@jupyter-widgets/controls",
            "_view_module_version": "1.5.0",
            "_view_name": "ProgressView",
            "bar_style": "success",
            "description": "",
            "description_tooltip": null,
            "layout": "IPY_MODEL_2b28de0308a94e7f9c8dd54446565df6",
            "max": 1,
            "min": 0,
            "orientation": "horizontal",
            "style": "IPY_MODEL_83264a0b7adb4121874c676d2926b097",
            "value": 1
          }
        },
        "d458dce0066d494b957e036332a19bbb": {
          "model_module": "@jupyter-widgets/controls",
          "model_name": "HTMLModel",
          "model_module_version": "1.5.0",
          "state": {
            "_dom_classes": [],
            "_model_module": "@jupyter-widgets/controls",
            "_model_module_version": "1.5.0",
            "_model_name": "HTMLModel",
            "_view_count": null,
            "_view_module": "@jupyter-widgets/controls",
            "_view_module_version": "1.5.0",
            "_view_name": "HTMLView",
            "description": "",
            "description_tooltip": null,
            "layout": "IPY_MODEL_03c89707a70d4869a2c0ddba6a57ad15",
            "placeholder": "​",
            "style": "IPY_MODEL_42db2e2b9d2a4f7b851e6d632948ce82",
            "value": " 1/1 [00:00&lt;00:00, 30.96it/s]"
          }
        },
        "5c7c63d332c44378a572b623ae35ea9f": {
          "model_module": "@jupyter-widgets/base",
          "model_name": "LayoutModel",
          "model_module_version": "1.2.0",
          "state": {
            "_model_module": "@jupyter-widgets/base",
            "_model_module_version": "1.2.0",
            "_model_name": "LayoutModel",
            "_view_count": null,
            "_view_module": "@jupyter-widgets/base",
            "_view_module_version": "1.2.0",
            "_view_name": "LayoutView",
            "align_content": null,
            "align_items": null,
            "align_self": null,
            "border": null,
            "bottom": null,
            "display": null,
            "flex": null,
            "flex_flow": null,
            "grid_area": null,
            "grid_auto_columns": null,
            "grid_auto_flow": null,
            "grid_auto_rows": null,
            "grid_column": null,
            "grid_gap": null,
            "grid_row": null,
            "grid_template_areas": null,
            "grid_template_columns": null,
            "grid_template_rows": null,
            "height": null,
            "justify_content": null,
            "justify_items": null,
            "left": null,
            "margin": null,
            "max_height": null,
            "max_width": null,
            "min_height": null,
            "min_width": null,
            "object_fit": null,
            "object_position": null,
            "order": null,
            "overflow": null,
            "overflow_x": null,
            "overflow_y": null,
            "padding": null,
            "right": null,
            "top": null,
            "visibility": null,
            "width": null
          }
        },
        "c9b94b3c9e6d49569a26a158d8c3af00": {
          "model_module": "@jupyter-widgets/base",
          "model_name": "LayoutModel",
          "model_module_version": "1.2.0",
          "state": {
            "_model_module": "@jupyter-widgets/base",
            "_model_module_version": "1.2.0",
            "_model_name": "LayoutModel",
            "_view_count": null,
            "_view_module": "@jupyter-widgets/base",
            "_view_module_version": "1.2.0",
            "_view_name": "LayoutView",
            "align_content": null,
            "align_items": null,
            "align_self": null,
            "border": null,
            "bottom": null,
            "display": null,
            "flex": null,
            "flex_flow": null,
            "grid_area": null,
            "grid_auto_columns": null,
            "grid_auto_flow": null,
            "grid_auto_rows": null,
            "grid_column": null,
            "grid_gap": null,
            "grid_row": null,
            "grid_template_areas": null,
            "grid_template_columns": null,
            "grid_template_rows": null,
            "height": null,
            "justify_content": null,
            "justify_items": null,
            "left": null,
            "margin": null,
            "max_height": null,
            "max_width": null,
            "min_height": null,
            "min_width": null,
            "object_fit": null,
            "object_position": null,
            "order": null,
            "overflow": null,
            "overflow_x": null,
            "overflow_y": null,
            "padding": null,
            "right": null,
            "top": null,
            "visibility": null,
            "width": null
          }
        },
        "e2f08acee10048ef9510fea317c78d56": {
          "model_module": "@jupyter-widgets/controls",
          "model_name": "DescriptionStyleModel",
          "model_module_version": "1.5.0",
          "state": {
            "_model_module": "@jupyter-widgets/controls",
            "_model_module_version": "1.5.0",
            "_model_name": "DescriptionStyleModel",
            "_view_count": null,
            "_view_module": "@jupyter-widgets/base",
            "_view_module_version": "1.2.0",
            "_view_name": "StyleView",
            "description_width": ""
          }
        },
        "2b28de0308a94e7f9c8dd54446565df6": {
          "model_module": "@jupyter-widgets/base",
          "model_name": "LayoutModel",
          "model_module_version": "1.2.0",
          "state": {
            "_model_module": "@jupyter-widgets/base",
            "_model_module_version": "1.2.0",
            "_model_name": "LayoutModel",
            "_view_count": null,
            "_view_module": "@jupyter-widgets/base",
            "_view_module_version": "1.2.0",
            "_view_name": "LayoutView",
            "align_content": null,
            "align_items": null,
            "align_self": null,
            "border": null,
            "bottom": null,
            "display": null,
            "flex": null,
            "flex_flow": null,
            "grid_area": null,
            "grid_auto_columns": null,
            "grid_auto_flow": null,
            "grid_auto_rows": null,
            "grid_column": null,
            "grid_gap": null,
            "grid_row": null,
            "grid_template_areas": null,
            "grid_template_columns": null,
            "grid_template_rows": null,
            "height": null,
            "justify_content": null,
            "justify_items": null,
            "left": null,
            "margin": null,
            "max_height": null,
            "max_width": null,
            "min_height": null,
            "min_width": null,
            "object_fit": null,
            "object_position": null,
            "order": null,
            "overflow": null,
            "overflow_x": null,
            "overflow_y": null,
            "padding": null,
            "right": null,
            "top": null,
            "visibility": null,
            "width": null
          }
        },
        "83264a0b7adb4121874c676d2926b097": {
          "model_module": "@jupyter-widgets/controls",
          "model_name": "ProgressStyleModel",
          "model_module_version": "1.5.0",
          "state": {
            "_model_module": "@jupyter-widgets/controls",
            "_model_module_version": "1.5.0",
            "_model_name": "ProgressStyleModel",
            "_view_count": null,
            "_view_module": "@jupyter-widgets/base",
            "_view_module_version": "1.2.0",
            "_view_name": "StyleView",
            "bar_color": null,
            "description_width": ""
          }
        },
        "03c89707a70d4869a2c0ddba6a57ad15": {
          "model_module": "@jupyter-widgets/base",
          "model_name": "LayoutModel",
          "model_module_version": "1.2.0",
          "state": {
            "_model_module": "@jupyter-widgets/base",
            "_model_module_version": "1.2.0",
            "_model_name": "LayoutModel",
            "_view_count": null,
            "_view_module": "@jupyter-widgets/base",
            "_view_module_version": "1.2.0",
            "_view_name": "LayoutView",
            "align_content": null,
            "align_items": null,
            "align_self": null,
            "border": null,
            "bottom": null,
            "display": null,
            "flex": null,
            "flex_flow": null,
            "grid_area": null,
            "grid_auto_columns": null,
            "grid_auto_flow": null,
            "grid_auto_rows": null,
            "grid_column": null,
            "grid_gap": null,
            "grid_row": null,
            "grid_template_areas": null,
            "grid_template_columns": null,
            "grid_template_rows": null,
            "height": null,
            "justify_content": null,
            "justify_items": null,
            "left": null,
            "margin": null,
            "max_height": null,
            "max_width": null,
            "min_height": null,
            "min_width": null,
            "object_fit": null,
            "object_position": null,
            "order": null,
            "overflow": null,
            "overflow_x": null,
            "overflow_y": null,
            "padding": null,
            "right": null,
            "top": null,
            "visibility": null,
            "width": null
          }
        },
        "42db2e2b9d2a4f7b851e6d632948ce82": {
          "model_module": "@jupyter-widgets/controls",
          "model_name": "DescriptionStyleModel",
          "model_module_version": "1.5.0",
          "state": {
            "_model_module": "@jupyter-widgets/controls",
            "_model_module_version": "1.5.0",
            "_model_name": "DescriptionStyleModel",
            "_view_count": null,
            "_view_module": "@jupyter-widgets/base",
            "_view_module_version": "1.2.0",
            "_view_name": "StyleView",
            "description_width": ""
          }
        }
      }
    }
  },
  "cells": [
    {
      "cell_type": "markdown",
      "source": [
        "# **Estadística Descriptiva**\n",
        "###**Módulo de Nivelación**\n",
        "###**Técnicas de Inteligencia Computacional I**\n",
        "###Minor Ciencia de Datos/Minor Ciencia de Datos Avanzado"
      ],
      "metadata": {
        "id": "6a4p4TgPTfXB"
      }
    },
    {
      "cell_type": "markdown",
      "source": [
        "El objetivo de este Colab es presentar elementos básicos de la Estadística Descriptiva al momento de iniciar un proyecto de Ciencia de Datos.\n",
        "\n",
        "A continuación se deja una lectura recomendada:\n",
        "\n",
        "https://towardsdatascience.com/fundamentals-of-statistics-for-data-scientists-and-data-analysts-69d93a05aae7\n"
      ],
      "metadata": {
        "id": "UyIyIPXeTs04"
      }
    },
    {
      "cell_type": "markdown",
      "source": [
        "##Siempre el primer paso será leer algún conjunto de datos. En este caso se trabaja con la base de datos de Peliculas Originales de Netflix y su Puntaje IMDB.\n",
        "\n",
        "##Según se indica en la descripción del conjunto de datos, este conjunto consta de todas las películas originales de Netflix estrenadas a partir del 1 de junio de 2021. Además, incluye todos los documentales y especiales de Netflix. Los datos se extrajeron de esta página de Wikipedia, que luego se integró con un conjunto de datos que constaba de todos sus puntajes IMDB correspondientes."
      ],
      "metadata": {
        "id": "iPjEjhPun3Kf"
      }
    },
    {
      "cell_type": "markdown",
      "source": [
        "# **Información de atributos**:\n",
        "\n",
        "##1 - Title of the film (Titulo de la pelicula)\n",
        "##2 - Genre of the film (Género de la película)\n",
        "##3 - Original premiere date (Fecha de estreno original)\n",
        "##4 - Runtime in minutes (Tiempo de ejecución en minutos)\n",
        "##5 - IMDB scores (Puntuaciones IMDB)\n",
        "##6 - Languages currently available (Idiomas actualmente disponibles)\n"
      ],
      "metadata": {
        "id": "BX_rfdyspwjK"
      }
    },
    {
      "cell_type": "markdown",
      "source": [
        "##Link para descargar el conjunto de datos:\n",
        "\n",
        "https://www.kaggle.com/datasets/luiscorter/netflix-original-films-imdb-scores\n",
        "\n",
        "PD: Deben hacerse una cuenta en Kaggle para descargar"
      ],
      "metadata": {
        "id": "qIEVoigGqB0D"
      }
    },
    {
      "cell_type": "markdown",
      "source": [
        "##Notar que este archivo se deja en una carpeta en Drive, se conecta Google Colab con Google Drive y se carga el conjunto de datos con las funciones tradicionales de Panda"
      ],
      "metadata": {
        "id": "coNtSaBFq6fR"
      }
    },
    {
      "cell_type": "code",
      "source": [
        "# Para acceder a los archivos del gdrive\n",
        "from google.colab import drive\n",
        "drive.mount('/content/gdrive')"
      ],
      "metadata": {
        "colab": {
          "base_uri": "https://localhost:8080/"
        },
        "id": "7YR_HIaere7g",
        "outputId": "06504544-b8ee-4124-f1fe-cb507b612934"
      },
      "execution_count": null,
      "outputs": [
        {
          "output_type": "stream",
          "name": "stdout",
          "text": [
            "Mounted at /content/gdrive\n"
          ]
        }
      ]
    },
    {
      "cell_type": "markdown",
      "source": [
        "##A continuación, se utiliza el comando \"cd\", que corresponde a Change Directory, por lo que luego del comando \"cd\" se debe pegar la ruta en donde se dejó la base de datos en Google Drive. Todos deben pegar una ruta distinta, la cual debe ser encontrada en el simbolo de carpeta que se presenta a la izquierda (abajo del simbolo \"{X}\"). Deben presionar sobre el simbolo de carpeta, entrar a \"gdrive\", luego \"MyDrive\" y luego llegar a la carpeta donde guardó su archivo, cuando encuentre la carpeta donde está la base de datos que quiere cargar, seleccione los tres puntos y luego la opción \"copiar la ruta de acceso\". Finalmente, donde se ejecuta el comando cd, borren la ruta antigua y peguen su ruta."
      ],
      "metadata": {
        "id": "89qvnjoKKeZ7"
      }
    },
    {
      "cell_type": "code",
      "source": [
        "cd /content/gdrive/MyDrive/2022/Universidad/TIC I 1-2022/Clases/Laboratorio/Semana 4"
      ],
      "metadata": {
        "colab": {
          "base_uri": "https://localhost:8080/"
        },
        "id": "dbJJZvn5tJtL",
        "outputId": "3b0074db-1462-4b80-85c3-b41630178659"
      },
      "execution_count": null,
      "outputs": [
        {
          "output_type": "stream",
          "name": "stdout",
          "text": [
            "/content/gdrive/MyDrive/2022/Universidad/TIC I 1-2022/Clases/Laboratorio/Semana 4\n"
          ]
        }
      ]
    },
    {
      "cell_type": "code",
      "source": [
        "#Se importan los módulos pandas, numpy y matplotlib\n",
        "#Pandas es utilizado para leer los set de datos\n",
        "import pandas as pd\n",
        "#Matplotlib es utilizado para generar los gráficos\n",
        "import matplotlib.pyplot as plt\n",
        "#Numpy es utilizado para generar las series de datos a graficar\n",
        "import numpy as np"
      ],
      "metadata": {
        "id": "QNM91NTdtncU"
      },
      "execution_count": null,
      "outputs": []
    },
    {
      "cell_type": "markdown",
      "source": [
        "##Documentación de la función \"read_csv\"\n",
        "\n",
        "https://pandas.pydata.org/docs/reference/api/pandas.read_csv.html"
      ],
      "metadata": {
        "id": "Jp9FRtf6uJGt"
      }
    },
    {
      "cell_type": "code",
      "source": [
        "#Se lee el set de datos de netflix mediante el módulo pandas\n",
        "data_netflix = pd.read_csv('NetflixOriginals.csv', encoding='latin-1')\n",
        "#Se muestra la información leída\n",
        "data_netflix.info()"
      ],
      "metadata": {
        "colab": {
          "base_uri": "https://localhost:8080/"
        },
        "id": "MooWiizUuShX",
        "outputId": "0a8ceea4-daea-43d0-c8b7-541ff7fa103e"
      },
      "execution_count": null,
      "outputs": [
        {
          "output_type": "stream",
          "name": "stdout",
          "text": [
            "<class 'pandas.core.frame.DataFrame'>\n",
            "RangeIndex: 584 entries, 0 to 583\n",
            "Data columns (total 6 columns):\n",
            " #   Column      Non-Null Count  Dtype  \n",
            "---  ------      --------------  -----  \n",
            " 0   Title       584 non-null    object \n",
            " 1   Genre       584 non-null    object \n",
            " 2   Premiere    584 non-null    object \n",
            " 3   Runtime     584 non-null    int64  \n",
            " 4   IMDB Score  584 non-null    float64\n",
            " 5   Language    584 non-null    object \n",
            "dtypes: float64(1), int64(1), object(4)\n",
            "memory usage: 27.5+ KB\n"
          ]
        }
      ]
    },
    {
      "cell_type": "code",
      "source": [
        "data_netflix.head()"
      ],
      "metadata": {
        "colab": {
          "base_uri": "https://localhost:8080/",
          "height": 206
        },
        "id": "Xajc8e7ZLwLC",
        "outputId": "1f486cb7-f94d-495e-e874-559b29c79299"
      },
      "execution_count": null,
      "outputs": [
        {
          "output_type": "execute_result",
          "data": {
            "text/plain": [
              "             Title                  Genre           Premiere  Runtime  \\\n",
              "0  Enter the Anime            Documentary     August 5, 2019       58   \n",
              "1      Dark Forces               Thriller    August 21, 2020       81   \n",
              "2          The App  Science fiction/Drama  December 26, 2019       79   \n",
              "3   The Open House        Horror thriller   January 19, 2018       94   \n",
              "4      Kaali Khuhi                Mystery   October 30, 2020       90   \n",
              "\n",
              "   IMDB Score          Language  \n",
              "0         2.5  English/Japanese  \n",
              "1         2.6           Spanish  \n",
              "2         2.6           Italian  \n",
              "3         3.2           English  \n",
              "4         3.4             Hindi  "
            ],
            "text/html": [
              "\n",
              "  <div id=\"df-0103ca15-ffb4-4ccf-a3d5-dfd994b07567\">\n",
              "    <div class=\"colab-df-container\">\n",
              "      <div>\n",
              "<style scoped>\n",
              "    .dataframe tbody tr th:only-of-type {\n",
              "        vertical-align: middle;\n",
              "    }\n",
              "\n",
              "    .dataframe tbody tr th {\n",
              "        vertical-align: top;\n",
              "    }\n",
              "\n",
              "    .dataframe thead th {\n",
              "        text-align: right;\n",
              "    }\n",
              "</style>\n",
              "<table border=\"1\" class=\"dataframe\">\n",
              "  <thead>\n",
              "    <tr style=\"text-align: right;\">\n",
              "      <th></th>\n",
              "      <th>Title</th>\n",
              "      <th>Genre</th>\n",
              "      <th>Premiere</th>\n",
              "      <th>Runtime</th>\n",
              "      <th>IMDB Score</th>\n",
              "      <th>Language</th>\n",
              "    </tr>\n",
              "  </thead>\n",
              "  <tbody>\n",
              "    <tr>\n",
              "      <th>0</th>\n",
              "      <td>Enter the Anime</td>\n",
              "      <td>Documentary</td>\n",
              "      <td>August 5, 2019</td>\n",
              "      <td>58</td>\n",
              "      <td>2.5</td>\n",
              "      <td>English/Japanese</td>\n",
              "    </tr>\n",
              "    <tr>\n",
              "      <th>1</th>\n",
              "      <td>Dark Forces</td>\n",
              "      <td>Thriller</td>\n",
              "      <td>August 21, 2020</td>\n",
              "      <td>81</td>\n",
              "      <td>2.6</td>\n",
              "      <td>Spanish</td>\n",
              "    </tr>\n",
              "    <tr>\n",
              "      <th>2</th>\n",
              "      <td>The App</td>\n",
              "      <td>Science fiction/Drama</td>\n",
              "      <td>December 26, 2019</td>\n",
              "      <td>79</td>\n",
              "      <td>2.6</td>\n",
              "      <td>Italian</td>\n",
              "    </tr>\n",
              "    <tr>\n",
              "      <th>3</th>\n",
              "      <td>The Open House</td>\n",
              "      <td>Horror thriller</td>\n",
              "      <td>January 19, 2018</td>\n",
              "      <td>94</td>\n",
              "      <td>3.2</td>\n",
              "      <td>English</td>\n",
              "    </tr>\n",
              "    <tr>\n",
              "      <th>4</th>\n",
              "      <td>Kaali Khuhi</td>\n",
              "      <td>Mystery</td>\n",
              "      <td>October 30, 2020</td>\n",
              "      <td>90</td>\n",
              "      <td>3.4</td>\n",
              "      <td>Hindi</td>\n",
              "    </tr>\n",
              "  </tbody>\n",
              "</table>\n",
              "</div>\n",
              "      <button class=\"colab-df-convert\" onclick=\"convertToInteractive('df-0103ca15-ffb4-4ccf-a3d5-dfd994b07567')\"\n",
              "              title=\"Convert this dataframe to an interactive table.\"\n",
              "              style=\"display:none;\">\n",
              "        \n",
              "  <svg xmlns=\"http://www.w3.org/2000/svg\" height=\"24px\"viewBox=\"0 0 24 24\"\n",
              "       width=\"24px\">\n",
              "    <path d=\"M0 0h24v24H0V0z\" fill=\"none\"/>\n",
              "    <path d=\"M18.56 5.44l.94 2.06.94-2.06 2.06-.94-2.06-.94-.94-2.06-.94 2.06-2.06.94zm-11 1L8.5 8.5l.94-2.06 2.06-.94-2.06-.94L8.5 2.5l-.94 2.06-2.06.94zm10 10l.94 2.06.94-2.06 2.06-.94-2.06-.94-.94-2.06-.94 2.06-2.06.94z\"/><path d=\"M17.41 7.96l-1.37-1.37c-.4-.4-.92-.59-1.43-.59-.52 0-1.04.2-1.43.59L10.3 9.45l-7.72 7.72c-.78.78-.78 2.05 0 2.83L4 21.41c.39.39.9.59 1.41.59.51 0 1.02-.2 1.41-.59l7.78-7.78 2.81-2.81c.8-.78.8-2.07 0-2.86zM5.41 20L4 18.59l7.72-7.72 1.47 1.35L5.41 20z\"/>\n",
              "  </svg>\n",
              "      </button>\n",
              "      \n",
              "  <style>\n",
              "    .colab-df-container {\n",
              "      display:flex;\n",
              "      flex-wrap:wrap;\n",
              "      gap: 12px;\n",
              "    }\n",
              "\n",
              "    .colab-df-convert {\n",
              "      background-color: #E8F0FE;\n",
              "      border: none;\n",
              "      border-radius: 50%;\n",
              "      cursor: pointer;\n",
              "      display: none;\n",
              "      fill: #1967D2;\n",
              "      height: 32px;\n",
              "      padding: 0 0 0 0;\n",
              "      width: 32px;\n",
              "    }\n",
              "\n",
              "    .colab-df-convert:hover {\n",
              "      background-color: #E2EBFA;\n",
              "      box-shadow: 0px 1px 2px rgba(60, 64, 67, 0.3), 0px 1px 3px 1px rgba(60, 64, 67, 0.15);\n",
              "      fill: #174EA6;\n",
              "    }\n",
              "\n",
              "    [theme=dark] .colab-df-convert {\n",
              "      background-color: #3B4455;\n",
              "      fill: #D2E3FC;\n",
              "    }\n",
              "\n",
              "    [theme=dark] .colab-df-convert:hover {\n",
              "      background-color: #434B5C;\n",
              "      box-shadow: 0px 1px 3px 1px rgba(0, 0, 0, 0.15);\n",
              "      filter: drop-shadow(0px 1px 2px rgba(0, 0, 0, 0.3));\n",
              "      fill: #FFFFFF;\n",
              "    }\n",
              "  </style>\n",
              "\n",
              "      <script>\n",
              "        const buttonEl =\n",
              "          document.querySelector('#df-0103ca15-ffb4-4ccf-a3d5-dfd994b07567 button.colab-df-convert');\n",
              "        buttonEl.style.display =\n",
              "          google.colab.kernel.accessAllowed ? 'block' : 'none';\n",
              "\n",
              "        async function convertToInteractive(key) {\n",
              "          const element = document.querySelector('#df-0103ca15-ffb4-4ccf-a3d5-dfd994b07567');\n",
              "          const dataTable =\n",
              "            await google.colab.kernel.invokeFunction('convertToInteractive',\n",
              "                                                     [key], {});\n",
              "          if (!dataTable) return;\n",
              "\n",
              "          const docLinkHtml = 'Like what you see? Visit the ' +\n",
              "            '<a target=\"_blank\" href=https://colab.research.google.com/notebooks/data_table.ipynb>data table notebook</a>'\n",
              "            + ' to learn more about interactive tables.';\n",
              "          element.innerHTML = '';\n",
              "          dataTable['output_type'] = 'display_data';\n",
              "          await google.colab.output.renderOutput(dataTable, element);\n",
              "          const docLink = document.createElement('div');\n",
              "          docLink.innerHTML = docLinkHtml;\n",
              "          element.appendChild(docLink);\n",
              "        }\n",
              "      </script>\n",
              "    </div>\n",
              "  </div>\n",
              "  "
            ]
          },
          "metadata": {},
          "execution_count": 6
        }
      ]
    },
    {
      "cell_type": "markdown",
      "source": [
        "#Se transforma a un tipo de dato \"Date\" la variable \"Premiere\""
      ],
      "metadata": {
        "id": "RftoSvK36uNc"
      }
    },
    {
      "cell_type": "code",
      "source": [
        "# to do exploratory data analysis on the given dataset, lets prepare the dataset better\n",
        "\n",
        "data_netflix[\"Premiere\"] = pd.to_datetime(data_netflix.Premiere)\n",
        "data_netflix[\"Premiere\"]"
      ],
      "metadata": {
        "colab": {
          "base_uri": "https://localhost:8080/"
        },
        "id": "phW71P-f6R-y",
        "outputId": "12020a68-82e9-4db9-8aef-18e3b26ca7be"
      },
      "execution_count": null,
      "outputs": [
        {
          "output_type": "execute_result",
          "data": {
            "text/plain": [
              "0     2019-08-05\n",
              "1     2020-08-21\n",
              "2     2019-12-26\n",
              "3     2018-01-19\n",
              "4     2020-10-30\n",
              "         ...    \n",
              "579   2018-12-31\n",
              "580   2015-10-09\n",
              "581   2018-12-16\n",
              "582   2020-12-08\n",
              "583   2020-10-04\n",
              "Name: Premiere, Length: 584, dtype: datetime64[ns]"
            ]
          },
          "metadata": {},
          "execution_count": 7
        }
      ]
    },
    {
      "cell_type": "code",
      "source": [
        "data_netflix['Year'] = data_netflix['Premiere'].dt.year\n",
        "data_netflix['Month'] = data_netflix['Premiere'].dt.month\n",
        "data_netflix['Day'] = data_netflix['Premiere'].dt.day_of_week"
      ],
      "metadata": {
        "id": "BrFtuUg_8CVE"
      },
      "execution_count": null,
      "outputs": []
    },
    {
      "cell_type": "code",
      "source": [
        "year = data_netflix.Year.value_counts()\n",
        "year"
      ],
      "metadata": {
        "colab": {
          "base_uri": "https://localhost:8080/"
        },
        "id": "O7gFjyP88NiH",
        "outputId": "2d56409f-8315-49c5-e91a-23dfb41c860f"
      },
      "execution_count": null,
      "outputs": [
        {
          "output_type": "execute_result",
          "data": {
            "text/plain": [
              "2020    183\n",
              "2019    125\n",
              "2018     99\n",
              "2021     71\n",
              "2017     66\n",
              "2016     30\n",
              "2015      9\n",
              "2014      1\n",
              "Name: Year, dtype: int64"
            ]
          },
          "metadata": {},
          "execution_count": 9
        }
      ]
    },
    {
      "cell_type": "code",
      "source": [
        "import seaborn as sns\n",
        "sns.set(color_codes = True)  #sets nice background color"
      ],
      "metadata": {
        "id": "wQTW_Fo78Xm0"
      },
      "execution_count": null,
      "outputs": []
    },
    {
      "cell_type": "code",
      "source": [
        "sns.barplot(x=year.index, y=year.values, palette=\"OrRd\")\n",
        "plt.show()"
      ],
      "metadata": {
        "colab": {
          "base_uri": "https://localhost:8080/",
          "height": 268
        },
        "id": "qIuhnafI8QqC",
        "outputId": "3fb33f67-f768-4991-be08-ef6594ba3237"
      },
      "execution_count": null,
      "outputs": [
        {
          "output_type": "display_data",
          "data": {
            "text/plain": [
              "<Figure size 432x288 with 1 Axes>"
            ],
            "image/png": "[encoded data removed]"
          },
          "metadata": {}
        }
      ]
    },
    {
      "cell_type": "code",
      "source": [
        "month = data_netflix.Month.value_counts()\n",
        "month"
      ],
      "metadata": {
        "colab": {
          "base_uri": "https://localhost:8080/"
        },
        "id": "I5wK0dRi_lxH",
        "outputId": "61831ac1-dd56-4e70-ccd5-4f2ae0c659e3"
      },
      "execution_count": null,
      "outputs": [
        {
          "output_type": "execute_result",
          "data": {
            "text/plain": [
              "10    77\n",
              "4     63\n",
              "11    57\n",
              "5     53\n",
              "9     53\n",
              "12    51\n",
              "3     48\n",
              "2     39\n",
              "8     37\n",
              "1     37\n",
              "6     35\n",
              "7     34\n",
              "Name: Month, dtype: int64"
            ]
          },
          "metadata": {},
          "execution_count": 12
        }
      ]
    },
    {
      "cell_type": "code",
      "source": [
        "sns.barplot(x=month.index, y=month.values, palette=\"Paired\")\n",
        "plt.show()"
      ],
      "metadata": {
        "colab": {
          "base_uri": "https://localhost:8080/",
          "height": 270
        },
        "id": "F3a3H4M3_xxf",
        "outputId": "89be68b2-3ea6-4b82-f426-40b12c858dc9"
      },
      "execution_count": null,
      "outputs": [
        {
          "output_type": "display_data",
          "data": {
            "text/plain": [
              "<Figure size 432x288 with 1 Axes>"
            ],
            "image/png": "[encoded data removed]"
          },
          "metadata": {}
        }
      ]
    },
    {
      "cell_type": "code",
      "source": [
        "day = data_netflix.Day.value_counts()\n",
        "day"
      ],
      "metadata": {
        "colab": {
          "base_uri": "https://localhost:8080/"
        },
        "id": "lNpdut06_4dG",
        "outputId": "5a3ddc6e-4204-42ca-9895-e49f4a8e907d"
      },
      "execution_count": null,
      "outputs": [
        {
          "output_type": "execute_result",
          "data": {
            "text/plain": [
              "4    383\n",
              "2     82\n",
              "3     59\n",
              "1     29\n",
              "0     17\n",
              "6      9\n",
              "5      5\n",
              "Name: Day, dtype: int64"
            ]
          },
          "metadata": {},
          "execution_count": 14
        }
      ]
    },
    {
      "cell_type": "code",
      "source": [
        "sns.barplot(x=day.index, y=day.values, palette=\"OrRd\")\n",
        "plt.show()"
      ],
      "metadata": {
        "colab": {
          "base_uri": "https://localhost:8080/",
          "height": 271
        },
        "id": "2UK5zAAq_9kX",
        "outputId": "e4a96861-6374-409f-af9a-8884d6ecf494"
      },
      "execution_count": null,
      "outputs": [
        {
          "output_type": "display_data",
          "data": {
            "text/plain": [
              "<Figure size 432x288 with 1 Axes>"
            ],
            "image/png": "[encoded data removed]"
          },
          "metadata": {}
        }
      ]
    },
    {
      "cell_type": "code",
      "source": [
        "data_netflix.info()"
      ],
      "metadata": {
        "colab": {
          "base_uri": "https://localhost:8080/"
        },
        "id": "jzNW9qlE6a7X",
        "outputId": "8f4cdfd1-86ac-49a3-8f49-84c5ccbbaad5"
      },
      "execution_count": null,
      "outputs": [
        {
          "output_type": "stream",
          "name": "stdout",
          "text": [
            "<class 'pandas.core.frame.DataFrame'>\n",
            "RangeIndex: 584 entries, 0 to 583\n",
            "Data columns (total 9 columns):\n",
            " #   Column      Non-Null Count  Dtype         \n",
            "---  ------      --------------  -----         \n",
            " 0   Title       584 non-null    object        \n",
            " 1   Genre       584 non-null    object        \n",
            " 2   Premiere    584 non-null    datetime64[ns]\n",
            " 3   Runtime     584 non-null    int64         \n",
            " 4   IMDB Score  584 non-null    float64       \n",
            " 5   Language    584 non-null    object        \n",
            " 6   Year        584 non-null    int64         \n",
            " 7   Month       584 non-null    int64         \n",
            " 8   Day         584 non-null    int64         \n",
            "dtypes: datetime64[ns](1), float64(1), int64(4), object(3)\n",
            "memory usage: 41.2+ KB\n"
          ]
        }
      ]
    },
    {
      "cell_type": "markdown",
      "source": [
        "##Seria interesante analizar graficamente la cantidad de repeticiones de cada genero y cada lenguaje"
      ],
      "metadata": {
        "id": "YHSQo4QZL0JL"
      }
    },
    {
      "cell_type": "code",
      "source": [
        "#Con Pandas podemos calcular la cantidad de repeticiones de cada genero\n",
        "conteo_generos = data_netflix['Genre'].value_counts()\n",
        "\n",
        "#Se imprime el cálculo realizado\n",
        "print(conteo_generos)\n",
        "print(\"--------------------\")\n",
        "print(type(conteo_generos))"
      ],
      "metadata": {
        "colab": {
          "base_uri": "https://localhost:8080/"
        },
        "id": "hlfMR-OxLztO",
        "outputId": "76f578bb-b5fd-4a3c-9d58-e28bda0e2dae"
      },
      "execution_count": null,
      "outputs": [
        {
          "output_type": "stream",
          "name": "stdout",
          "text": [
            "Documentary                             159\n",
            "Drama                                    77\n",
            "Comedy                                   49\n",
            "Romantic comedy                          39\n",
            "Thriller                                 33\n",
            "                                       ... \n",
            "Romantic comedy-drama                     1\n",
            "Heist film/Thriller                       1\n",
            "Musical/Western/Fantasy                   1\n",
            "Horror anthology                          1\n",
            "Animation/Christmas/Comedy/Adventure      1\n",
            "Name: Genre, Length: 115, dtype: int64\n",
            "--------------------\n",
            "<class 'pandas.core.series.Series'>\n"
          ]
        }
      ]
    },
    {
      "cell_type": "code",
      "source": [
        "#Se configura el gráfico\n",
        "fig = plt.figure(figsize = (10,5))\n",
        "ax = fig.add_axes([0,0,1,1])\n",
        "plt.xticks(rotation='vertical')\n",
        "sns.barplot(x=conteo_generos.index, y=conteo_generos.values)\n",
        "plt.show()"
      ],
      "metadata": {
        "colab": {
          "base_uri": "https://localhost:8080/",
          "height": 626
        },
        "id": "le14EtrSAgiJ",
        "outputId": "ad4b44ec-918c-4033-f553-e9daa3acced2"
      },
      "execution_count": null,
      "outputs": [
        {
          "output_type": "display_data",
          "data": {
            "text/plain": [
              "<Figure size 720x360 with 1 Axes>"
            ],
            "image/png": "[encoded data removed]"
          },
          "metadata": {}
        }
      ]
    },
    {
      "cell_type": "code",
      "source": [
        "PLOT_SIZE = 5\n",
        "fig = plt.figure(figsize = (10,5))\n",
        "ax = fig.add_axes([0,0,1,1])\n",
        "plt.xticks(rotation='vertical')\n",
        "sns.barplot(x=conteo_generos.index[:PLOT_SIZE], y=conteo_generos.values[:PLOT_SIZE])\n",
        "plt.show()"
      ],
      "metadata": {
        "colab": {
          "base_uri": "https://localhost:8080/",
          "height": 500
        },
        "id": "7Isogmo4Ar-f",
        "outputId": "47069e29-7633-446f-c043-204d4c0c6984"
      },
      "execution_count": null,
      "outputs": [
        {
          "output_type": "display_data",
          "data": {
            "text/plain": [
              "<Figure size 720x360 with 1 Axes>"
            ],
            "image/png": "[encoded data removed]"
          },
          "metadata": {}
        }
      ]
    },
    {
      "cell_type": "code",
      "source": [
        "PLOT_SIZE = 5\n",
        "fig = plt.figure(figsize = (10,5))\n",
        "ax = fig.add_axes([0,0,1,1])\n",
        "plt.pie(conteo_generos.values[:PLOT_SIZE], labels = conteo_generos.index[:PLOT_SIZE])\n",
        "plt.show()"
      ],
      "metadata": {
        "colab": {
          "base_uri": "https://localhost:8080/",
          "height": 391
        },
        "id": "kTD2ofx6BVVf",
        "outputId": "c6f01b91-21d8-487d-d16e-b069b8615d66"
      },
      "execution_count": null,
      "outputs": [
        {
          "output_type": "display_data",
          "data": {
            "text/plain": [
              "<Figure size 720x360 with 1 Axes>"
            ],
            "image/png": "[encoded data removed]"
          },
          "metadata": {}
        }
      ]
    },
    {
      "cell_type": "code",
      "source": [
        "PLOT_SIZE = 10\n",
        "fig = plt.figure(figsize = (10,5))\n",
        "ax = fig.add_axes([0,0,1,1])\n",
        "plt.title(\"Ejemplo de gráfico de torta\")\n",
        "#Para marcar el género con mayor cantidad de peliculas\n",
        "desfase = [0.1, 0, 0, 0,0,0,0,0,0,0]\n",
        "plt.pie(conteo_generos.values[:PLOT_SIZE], labels = conteo_generos.index[:PLOT_SIZE], explode=desfase)\n",
        "plt.show()"
      ],
      "metadata": {
        "colab": {
          "base_uri": "https://localhost:8080/",
          "height": 407
        },
        "id": "_UJmMEONCPey",
        "outputId": "3328f930-ce2f-4a4e-cffb-1ac7fc998195"
      },
      "execution_count": null,
      "outputs": [
        {
          "output_type": "display_data",
          "data": {
            "text/plain": [
              "<Figure size 720x360 with 1 Axes>"
            ],
            "image/png": "[encoded data removed]"
          },
          "metadata": {}
        }
      ]
    },
    {
      "cell_type": "code",
      "source": [
        "PLOT_SIZE = 10\n",
        "fig = plt.figure(figsize = (10,5))\n",
        "ax = fig.add_axes([0,0,1,1])\n",
        "plt.title(\"Ejemplo de gráfico de torta\")\n",
        "#Para marcar el género con mayor cantidad de peliculas\n",
        "desfase = np.zeros((PLOT_SIZE,), dtype=float)\n",
        "desfase[0] = 0.1\n",
        "plt.pie(conteo_generos.values[:PLOT_SIZE], labels = conteo_generos.index[:PLOT_SIZE], explode=desfase)\n",
        "plt.show()"
      ],
      "metadata": {
        "colab": {
          "base_uri": "https://localhost:8080/",
          "height": 407
        },
        "id": "ZYV8fDjiow64",
        "outputId": "6c137db7-fb5b-4d0d-9dd3-8754ad34191b"
      },
      "execution_count": null,
      "outputs": [
        {
          "output_type": "display_data",
          "data": {
            "text/plain": [
              "<Figure size 720x360 with 1 Axes>"
            ],
            "image/png": "[encoded data removed]"
          },
          "metadata": {}
        }
      ]
    },
    {
      "cell_type": "markdown",
      "source": [
        "#Actividad para la casa (sin evaluación)\n",
        "\n",
        "#Repetir el proceso pero ahora para la variable lenguaje"
      ],
      "metadata": {
        "id": "ABmlCGwpQ-Jx"
      }
    },
    {
      "cell_type": "code",
      "source": [],
      "metadata": {
        "id": "MI8d4E7Heggn"
      },
      "execution_count": null,
      "outputs": []
    },
    {
      "cell_type": "markdown",
      "source": [
        "#A continuación se calculan las cantidades para el genero y el lenguaje en conjunto. \n",
        "\n",
        "#Además, se grafican los 3 generos con los 3 lenguajes más repetidos"
      ],
      "metadata": {
        "id": "MYjj6ku6RjAr"
      }
    },
    {
      "cell_type": "code",
      "source": [
        "#Se realizan contadores en conjunto de las variables genero y lenguaje\n",
        "count_genre_language = data_netflix.groupby(['Genre', 'Language']).size()\n",
        "print(count_genre_language)\n",
        "print(type(count_genre_language))"
      ],
      "metadata": {
        "colab": {
          "base_uri": "https://localhost:8080/"
        },
        "id": "vjddLQmhRreK",
        "outputId": "e4983af0-a17f-4ac2-88c9-3665270714b7"
      },
      "execution_count": null,
      "outputs": [
        {
          "output_type": "stream",
          "name": "stdout",
          "text": [
            "Genre          Language    \n",
            "Action         English         4\n",
            "               French          2\n",
            "               Hindi           1\n",
            "Action comedy  English         4\n",
            "               Malay           1\n",
            "                              ..\n",
            "War drama      English/Akan    1\n",
            "War-Comedy     English         1\n",
            "Western        English         2\n",
            "               Portuguese      1\n",
            "Zombie/Heist   English         1\n",
            "Length: 204, dtype: int64\n",
            "<class 'pandas.core.series.Series'>\n"
          ]
        }
      ]
    },
    {
      "cell_type": "code",
      "source": [
        "count_genre_language = count_genre_language.reset_index()\n",
        "count_genre_language.columns = ['Genre', 'Language', 'Count']\n",
        "print(count_genre_language)\n",
        "print(type(count_genre_language))"
      ],
      "metadata": {
        "colab": {
          "base_uri": "https://localhost:8080/"
        },
        "id": "B7Pv6RYQR_o6",
        "outputId": "ac3e2de0-d964-40fd-e3ac-1930bd68c184"
      },
      "execution_count": null,
      "outputs": [
        {
          "output_type": "stream",
          "name": "stdout",
          "text": [
            "             Genre      Language  Count\n",
            "0           Action       English      4\n",
            "1           Action        French      2\n",
            "2           Action         Hindi      1\n",
            "3    Action comedy       English      4\n",
            "4    Action comedy         Malay      1\n",
            "..             ...           ...    ...\n",
            "199      War drama  English/Akan      1\n",
            "200     War-Comedy       English      1\n",
            "201        Western       English      2\n",
            "202        Western    Portuguese      1\n",
            "203   Zombie/Heist       English      1\n",
            "\n",
            "[204 rows x 3 columns]\n",
            "<class 'pandas.core.frame.DataFrame'>\n"
          ]
        }
      ]
    },
    {
      "cell_type": "markdown",
      "source": [
        "#Primero se busca la catidad de repeticiones del genero \"Documentary\" para los lenguajes \"English\", \"Hindi\" y \"Spanish\""
      ],
      "metadata": {
        "id": "Myrm10VeWhr6"
      }
    },
    {
      "cell_type": "code",
      "source": [
        "language_filter = count_genre_language[(count_genre_language['Language'] == 'English') | (count_genre_language['Language'] == 'Spanish') | (count_genre_language['Language'] == 'Hindi')]\n",
        "count_data = language_filter[(language_filter['Genre'] == 'Documentary') | (language_filter['Genre'] == 'Drama') | (language_filter['Genre'] == 'Comedy')]\n",
        "\n",
        "print(count_data)\n",
        "print(type(count_data))\n",
        "\n",
        "#print(count_data.sort_values(by=['Language'], ascending=False))"
      ],
      "metadata": {
        "colab": {
          "base_uri": "https://localhost:8080/"
        },
        "id": "3cGKrwNaSb09",
        "outputId": "90409b4c-4528-4015-eb58-fbcffb3855b9"
      },
      "execution_count": null,
      "outputs": [
        {
          "output_type": "stream",
          "name": "stdout",
          "text": [
            "           Genre Language  Count\n",
            "38        Comedy  English     30\n",
            "40        Comedy    Hindi      4\n",
            "44        Comedy  Spanish      1\n",
            "69   Documentary  English    120\n",
            "83   Documentary  Spanish      8\n",
            "88         Drama  English     35\n",
            "93         Drama    Hindi     13\n",
            "100        Drama  Spanish      8\n",
            "<class 'pandas.core.frame.DataFrame'>\n"
          ]
        }
      ]
    },
    {
      "cell_type": "code",
      "source": [
        "g = sns.catplot(x='Genre', y='Count', kind= 'bar',  data=count_data, hue = 'Language')"
      ],
      "metadata": {
        "colab": {
          "base_uri": "https://localhost:8080/",
          "height": 365
        },
        "id": "bujKqqpKBkEh",
        "outputId": "92274f15-6f16-4c4b-bc20-30b865c43515"
      },
      "execution_count": null,
      "outputs": [
        {
          "output_type": "display_data",
          "data": {
            "text/plain": [
              "<Figure size 443.225x360 with 1 Axes>"
            ],
            "image/png": "[encoded data removed]"
          },
          "metadata": {}
        }
      ]
    },
    {
      "cell_type": "markdown",
      "source": [
        "#Ahora se analiza la variable \"IMDB Score\", utilizando para esto gráficos de histograma"
      ],
      "metadata": {
        "id": "tUUbuwRWZMZH"
      }
    },
    {
      "cell_type": "code",
      "source": [
        "#Se genera el gráfico\n",
        "plt.hist(data_netflix['IMDB Score'],bins=10)"
      ],
      "metadata": {
        "colab": {
          "base_uri": "https://localhost:8080/",
          "height": 320
        },
        "id": "dBJArQyFQTCJ",
        "outputId": "7e823c31-850a-4c08-8b6f-1231b8a32da5"
      },
      "execution_count": null,
      "outputs": [
        {
          "output_type": "execute_result",
          "data": {
            "text/plain": [
              "(array([  3.,   5.,  17.,  34., 102., 131., 159., 101.,  26.,   6.]),\n",
              " array([2.5 , 3.15, 3.8 , 4.45, 5.1 , 5.75, 6.4 , 7.05, 7.7 , 8.35, 9.  ]),\n",
              " <a list of 10 Patch objects>)"
            ]
          },
          "metadata": {},
          "execution_count": 38
        },
        {
          "output_type": "display_data",
          "data": {
            "text/plain": [
              "<Figure size 432x288 with 1 Axes>"
            ],
            "image/png": "[encoded data removed]"
          },
          "metadata": {}
        }
      ]
    },
    {
      "cell_type": "code",
      "source": [
        "intervalos = range(2,12,1) #indicamos los extremos de los intervalos\n",
        "fig = plt.figure(figsize = (10,5))\n",
        "ax = fig.add_axes([0,0,1,1])\n",
        "ax.hist(x=data_netflix['IMDB Score'], bins=intervalos, color='#0E9092')\n",
        "plt.title('Histograma de IMDB Score')\n",
        "plt.xlabel('Score')\n",
        "plt.ylabel('Frecuencia')\n",
        "plt.xticks(intervalos)\n",
        "\n",
        "plt.show() #dibujamos el histograma"
      ],
      "metadata": {
        "colab": {
          "base_uri": "https://localhost:8080/",
          "height": 443
        },
        "id": "lX6GqWBUZe42",
        "outputId": "57f018d7-7c00-40bc-dc25-d94d52a28ebd"
      },
      "execution_count": null,
      "outputs": [
        {
          "output_type": "display_data",
          "data": {
            "text/plain": [
              "<Figure size 720x360 with 1 Axes>"
            ],
            "image/png": "[encoded data removed]"
          },
          "metadata": {}
        }
      ]
    },
    {
      "cell_type": "code",
      "source": [
        "intervalos = range(2,12,1) #indicamos los extremos de los intervalos\n",
        "fig = plt.figure(figsize = (10,5))\n",
        "ax = fig.add_axes([0,0,1,1])\n",
        "ax.hist(x=data_netflix['IMDB Score'], bins=intervalos, color='#F2AB6D',histtype='step')\n",
        "plt.title('Histograma de IMDB Score')\n",
        "plt.xlabel('Score')\n",
        "plt.ylabel('Frecuencia')\n",
        "plt.xticks(intervalos)\n",
        "\n",
        "plt.show() #dibujamos el histograma"
      ],
      "metadata": {
        "colab": {
          "base_uri": "https://localhost:8080/",
          "height": 443
        },
        "id": "7HIYX7-LZivE",
        "outputId": "4e8d83a7-f006-44f2-9958-454d88c404f5"
      },
      "execution_count": null,
      "outputs": [
        {
          "output_type": "display_data",
          "data": {
            "text/plain": [
              "<Figure size 720x360 with 1 Axes>"
            ],
            "image/png": "[encoded data removed]"
          },
          "metadata": {}
        }
      ]
    },
    {
      "cell_type": "code",
      "source": [
        "intervalos = range(0,12,1) #indicamos los extremos de los intervalos\n",
        "fig = plt.figure(figsize = (10,5))\n",
        "ax = fig.add_axes([0,0,1,1])\n",
        "y, edges, _ = ax.hist(x=data_netflix['IMDB Score'], bins=intervalos, color='#F2AB6D',histtype='step')\n",
        "#print(y)\n",
        "#print(edges)\n",
        "#print(type(edges))\n",
        "midpoints = 0.5*(edges[1:]+edges[:-1])\n",
        "#print(edges[1:])\n",
        "#print(edges[:-1])\n",
        "ax.plot(midpoints, y, 'r-*')\n",
        "plt.title('Histograma y poligono de frecuencias de IMDB Score')\n",
        "plt.xlabel('Score')\n",
        "plt.ylabel('Frecuencia')\n",
        "plt.xticks(intervalos)\n",
        "\n",
        "plt.show() #dibujamos el histograma"
      ],
      "metadata": {
        "colab": {
          "base_uri": "https://localhost:8080/",
          "height": 443
        },
        "id": "WYebOBzUZ0Je",
        "outputId": "80bcf15b-11f5-4633-8cce-3898cd60518f"
      },
      "execution_count": null,
      "outputs": [
        {
          "output_type": "display_data",
          "data": {
            "text/plain": [
              "<Figure size 720x360 with 1 Axes>"
            ],
            "image/png": "[encoded data removed]"
          },
          "metadata": {}
        }
      ]
    },
    {
      "cell_type": "code",
      "source": [
        "intervalos = range(0,12,1) #indicamos los extremos de los intervalos\n",
        "fig = plt.figure(figsize = (10,5))\n",
        "ax = fig.add_axes([0,0,1,1])\n",
        "y, edges, _ = ax.hist(x=data_netflix['IMDB Score'], bins=intervalos, color='#F2AB6D',histtype='step', density=True)\n",
        "#print(y)\n",
        "#print(edges)\n",
        "#print(type(edges))\n",
        "midpoints = 0.5*(edges[1:]+edges[:-1])\n",
        "#print(edges[1:])\n",
        "#print(edges[:-1])\n",
        "ax.plot(midpoints, y, 'r-*')\n",
        "plt.title('Histograma y poligono de frecuencias de IMDB Score')\n",
        "plt.xlabel('Score')\n",
        "plt.ylabel('Frecuencia')\n",
        "plt.xticks(intervalos)\n",
        "\n",
        "plt.show() #dibujamos el histograma"
      ],
      "metadata": {
        "colab": {
          "base_uri": "https://localhost:8080/",
          "height": 443
        },
        "id": "6N5MVJ5QcJ2m",
        "outputId": "c1edcc2b-0a85-4520-dd1d-3a2d46c75628"
      },
      "execution_count": null,
      "outputs": [
        {
          "output_type": "display_data",
          "data": {
            "text/plain": [
              "<Figure size 720x360 with 1 Axes>"
            ],
            "image/png": "[encoded data removed]"
          },
          "metadata": {}
        }
      ]
    },
    {
      "cell_type": "code",
      "source": [
        "intervalos = range(0,12,1) #indicamos los extremos de los intervalos\n",
        "fig = plt.figure(figsize = (10,5))\n",
        "ax = fig.add_axes([0,0,1,1])\n",
        "y, edges, _ = ax.hist(x=data_netflix['IMDB Score'], bins=intervalos, color='#F2AB6D',histtype='step',cumulative=True, density = True)\n",
        "#print(y)\n",
        "#print(edges)\n",
        "#print(type(edges))\n",
        "midpoints = 0.5*(edges[1:]+edges[:-1])\n",
        "#print(edges[1:])\n",
        "#print(edges[:-1])\n",
        "ax.plot(midpoints, y, 'r-*')\n",
        "plt.title('Histograma y poligono de frecuencias de IMDB Score')\n",
        "plt.xlabel('Score')\n",
        "plt.ylabel('Frecuencia')\n",
        "plt.xticks(intervalos)\n",
        "\n",
        "plt.show() #dibujamos el histograma"
      ],
      "metadata": {
        "colab": {
          "base_uri": "https://localhost:8080/",
          "height": 443
        },
        "id": "uItU3xK9Z8rb",
        "outputId": "1977bd02-3c6d-4bcd-cbbb-642f94b0d1d7"
      },
      "execution_count": null,
      "outputs": [
        {
          "output_type": "display_data",
          "data": {
            "text/plain": [
              "<Figure size 720x360 with 1 Axes>"
            ],
            "image/png": "[encoded data removed]"
          },
          "metadata": {}
        }
      ]
    },
    {
      "cell_type": "markdown",
      "source": [
        "#Actividad para la casa (sin nota).\n",
        "\n",
        "#Realice el mismo análisis de histogramas y poligono de frecuencia pero ahora con la variable \"Runtime\"."
      ],
      "metadata": {
        "id": "w_spoCZidxoi"
      }
    },
    {
      "cell_type": "code",
      "source": [],
      "metadata": {
        "id": "AvjaTyRMsQPt"
      },
      "execution_count": null,
      "outputs": []
    },
    {
      "cell_type": "markdown",
      "source": [
        "# A continuación se presentan las medidas de tendencia central"
      ],
      "metadata": {
        "id": "AiXv115L2KCB"
      }
    },
    {
      "cell_type": "code",
      "source": [
        "#Media\n",
        "mean_IMDB_Score = data_netflix['IMDB Score'].mean()\n",
        "print(mean_IMDB_Score)"
      ],
      "metadata": {
        "colab": {
          "base_uri": "https://localhost:8080/"
        },
        "id": "PQKlmDeD2Asd",
        "outputId": "a4a9f445-0531-4899-d1cf-84d7a0f0c7a9"
      },
      "execution_count": null,
      "outputs": [
        {
          "output_type": "stream",
          "name": "stdout",
          "text": [
            "6.2717465753424655\n"
          ]
        }
      ]
    },
    {
      "cell_type": "code",
      "source": [
        "#Mediana\n",
        "median_IMDB_Score = data_netflix['IMDB Score'].median()\n",
        "print(median_IMDB_Score)"
      ],
      "metadata": {
        "colab": {
          "base_uri": "https://localhost:8080/"
        },
        "id": "8zQWaowk3J9r",
        "outputId": "109b3eb4-a7b5-45e9-b41a-85553c590fe2"
      },
      "execution_count": null,
      "outputs": [
        {
          "output_type": "stream",
          "name": "stdout",
          "text": [
            "6.35\n"
          ]
        }
      ]
    },
    {
      "cell_type": "code",
      "source": [
        "#Moda\n",
        "mode_IMDB_Score = data_netflix['IMDB Score'].mode()\n",
        "print(mode_IMDB_Score)"
      ],
      "metadata": {
        "colab": {
          "base_uri": "https://localhost:8080/"
        },
        "id": "uwjnvqAU3MDF",
        "outputId": "d58bf3ca-607f-43ad-d601-088e6174c6cf"
      },
      "execution_count": null,
      "outputs": [
        {
          "output_type": "stream",
          "name": "stdout",
          "text": [
            "0    5.8\n",
            "1    6.3\n",
            "dtype: float64\n"
          ]
        }
      ]
    },
    {
      "cell_type": "code",
      "source": [
        "#Como ya vimos, con Pandas podemos calcular la cantidad de repeticiones de cada IMDB Score\n",
        "conteo_IMDB_score = data_netflix['IMDB Score'].value_counts()\n",
        "\n",
        "#Se imprime el cálculo realizado\n",
        "print(conteo_IMDB_score.head())\n",
        "print(\"--------------------\")\n",
        "print(type(conteo_IMDB_score))"
      ],
      "metadata": {
        "colab": {
          "base_uri": "https://localhost:8080/"
        },
        "id": "aX9y9gH93hOq",
        "outputId": "4c0b27cb-a990-4814-910f-dfd9d0b65694"
      },
      "execution_count": null,
      "outputs": [
        {
          "output_type": "stream",
          "name": "stdout",
          "text": [
            "5.8    30\n",
            "6.3    30\n",
            "7.1    28\n",
            "6.4    28\n",
            "6.5    26\n",
            "Name: IMDB Score, dtype: int64\n",
            "--------------------\n",
            "<class 'pandas.core.series.Series'>\n"
          ]
        }
      ]
    },
    {
      "cell_type": "markdown",
      "source": [
        "# A continuación se presentan las medidas de tendencia no central"
      ],
      "metadata": {
        "id": "UbSzGIwY3zrk"
      }
    },
    {
      "cell_type": "code",
      "source": [
        "#La primera opcion es con Numpy\n",
        "\n",
        "#find the 37th percentile of the array\n",
        "percentile37_imdb_score = np.percentile(data_netflix['IMDB Score'], 37)\n",
        "print(percentile37_imdb_score)\n",
        "\n",
        "\n",
        "#Find the quartiles (25th, 50th, and 75th percentiles) of the array\n",
        "percentile25_50_75_imdb_score = np.percentile(data_netflix['IMDB Score'], [25, 50, 75])\n",
        "print(percentile25_50_75_imdb_score)"
      ],
      "metadata": {
        "colab": {
          "base_uri": "https://localhost:8080/"
        },
        "id": "e1o3rWtU32cx",
        "outputId": "088a7db7-3e86-401c-a085-ed3055076dcd"
      },
      "execution_count": null,
      "outputs": [
        {
          "output_type": "stream",
          "name": "stdout",
          "text": [
            "6.0\n",
            "[5.7  6.35 7.  ]\n"
          ]
        }
      ]
    },
    {
      "cell_type": "code",
      "source": [
        "#La segunda opcion es con Pandas\n",
        "\n",
        "#find 95th percentile of just columns var1 and var2\n",
        "percentileDF = data_netflix[['Runtime', 'IMDB Score']].quantile(0.5)\n",
        "print(percentileDF)"
      ],
      "metadata": {
        "colab": {
          "base_uri": "https://localhost:8080/"
        },
        "id": "zLIroovl4FRO",
        "outputId": "841b52c6-70f3-400a-aab1-be61398cedd5"
      },
      "execution_count": null,
      "outputs": [
        {
          "output_type": "stream",
          "name": "stdout",
          "text": [
            "Runtime       97.00\n",
            "IMDB Score     6.35\n",
            "Name: 0.5, dtype: float64\n"
          ]
        }
      ]
    },
    {
      "cell_type": "markdown",
      "source": [
        "# A continuación se presentan las medidas de dispersión"
      ],
      "metadata": {
        "id": "9Kx3H9Be4Y5e"
      }
    },
    {
      "cell_type": "code",
      "source": [
        "#Desviación media\n",
        "#mean absolute deviation\n",
        "mean_deviation = data_netflix['IMDB Score'].mad()\n",
        "print(mean_deviation)"
      ],
      "metadata": {
        "colab": {
          "base_uri": "https://localhost:8080/"
        },
        "id": "VN2H6J_S4YVt",
        "outputId": "daf88f2d-e5c2-4c2a-bfc3-3e836ccdc053"
      },
      "execution_count": null,
      "outputs": [
        {
          "output_type": "stream",
          "name": "stdout",
          "text": [
            "0.7705397354100205\n"
          ]
        }
      ]
    },
    {
      "cell_type": "code",
      "source": [
        "#Varianza\n",
        "variance = data_netflix['IMDB Score'].var()\n",
        "print(variance)"
      ],
      "metadata": {
        "colab": {
          "base_uri": "https://localhost:8080/"
        },
        "id": "CMU0vEHA4j_g",
        "outputId": "32bc7887-3721-4b87-a6d2-4d10a7313a8d"
      },
      "execution_count": null,
      "outputs": [
        {
          "output_type": "stream",
          "name": "stdout",
          "text": [
            "0.9589430848939119\n"
          ]
        }
      ]
    },
    {
      "cell_type": "code",
      "source": [
        "#Desviación estandar\n",
        "standar_deviation = data_netflix['IMDB Score'].std()\n",
        "print(standar_deviation)"
      ],
      "metadata": {
        "colab": {
          "base_uri": "https://localhost:8080/"
        },
        "id": "7vQlUFoP4qWK",
        "outputId": "f25b4eb9-fcfd-423d-a79e-ac522a363631"
      },
      "execution_count": null,
      "outputs": [
        {
          "output_type": "stream",
          "name": "stdout",
          "text": [
            "0.9792563938488795\n"
          ]
        }
      ]
    },
    {
      "cell_type": "markdown",
      "source": [
        "#Fuentes: \n",
        "\n",
        "https://pandas.pydata.org/docs/reference/api/pandas.DataFrame.mad.html\n",
        "\n",
        "https://pandas.pydata.org/docs/reference/api/pandas.DataFrame.var.html\n",
        "\n",
        "https://pandas.pydata.org/docs/reference/api/pandas.DataFrame.std.html"
      ],
      "metadata": {
        "id": "ezXZkCFT4frE"
      }
    },
    {
      "cell_type": "markdown",
      "source": [
        "#Podemos agrupar muchas de las funciones anteriores con la función \"describe\""
      ],
      "metadata": {
        "id": "xwCZi-Pt4yJT"
      }
    },
    {
      "cell_type": "code",
      "source": [
        "round(data_netflix['IMDB Score'].describe(),2)"
      ],
      "metadata": {
        "colab": {
          "base_uri": "https://localhost:8080/"
        },
        "id": "70GnW_Jq4vOC",
        "outputId": "325b9d51-8a62-49e9-a7dc-04a1c994f206"
      },
      "execution_count": null,
      "outputs": [
        {
          "output_type": "execute_result",
          "data": {
            "text/plain": [
              "count    584.00\n",
              "mean       6.27\n",
              "std        0.98\n",
              "min        2.50\n",
              "25%        5.70\n",
              "50%        6.35\n",
              "75%        7.00\n",
              "max        9.00\n",
              "Name: IMDB Score, dtype: float64"
            ]
          },
          "metadata": {},
          "execution_count": 54
        }
      ]
    },
    {
      "cell_type": "markdown",
      "source": [
        "#Notar que al aplicar la función \"describe\" a todo el conjunto de datos solo se aplica a las variables cuantitativas"
      ],
      "metadata": {
        "id": "SQg_q0Vb474W"
      }
    },
    {
      "cell_type": "code",
      "source": [
        "data_netflix.describe()"
      ],
      "metadata": {
        "colab": {
          "base_uri": "https://localhost:8080/",
          "height": 300
        },
        "id": "IlgV_VjZ5Ny3",
        "outputId": "f1ae3349-5ec6-49fb-8c26-028e71c346b0"
      },
      "execution_count": null,
      "outputs": [
        {
          "output_type": "execute_result",
          "data": {
            "text/plain": [
              "          Runtime  IMDB Score         Year       Month         Day\n",
              "count  584.000000  584.000000   584.000000  584.000000  584.000000\n",
              "mean    93.577055    6.271747  2018.936644    6.859589    3.392123\n",
              "std     27.761683    0.979256     1.473992    3.466697    1.130585\n",
              "min      4.000000    2.500000  2014.000000    1.000000    0.000000\n",
              "25%     86.000000    5.700000  2018.000000    4.000000    3.000000\n",
              "50%     97.000000    6.350000  2019.000000    7.000000    4.000000\n",
              "75%    108.000000    7.000000  2020.000000   10.000000    4.000000\n",
              "max    209.000000    9.000000  2021.000000   12.000000    6.000000"
            ],
            "text/html": [
              "\n",
              "  <div id=\"df-52be13af-9819-4b45-bf13-176c1f6468f2\">\n",
              "    <div class=\"colab-df-container\">\n",
              "      <div>\n",
              "<style scoped>\n",
              "    .dataframe tbody tr th:only-of-type {\n",
              "        vertical-align: middle;\n",
              "    }\n",
              "\n",
              "    .dataframe tbody tr th {\n",
              "        vertical-align: top;\n",
              "    }\n",
              "\n",
              "    .dataframe thead th {\n",
              "        text-align: right;\n",
              "    }\n",
              "</style>\n",
              "<table border=\"1\" class=\"dataframe\">\n",
              "  <thead>\n",
              "    <tr style=\"text-align: right;\">\n",
              "      <th></th>\n",
              "      <th>Runtime</th>\n",
              "      <th>IMDB Score</th>\n",
              "      <th>Year</th>\n",
              "      <th>Month</th>\n",
              "      <th>Day</th>\n",
              "    </tr>\n",
              "  </thead>\n",
              "  <tbody>\n",
              "    <tr>\n",
              "      <th>count</th>\n",
              "      <td>584.000000</td>\n",
              "      <td>584.000000</td>\n",
              "      <td>584.000000</td>\n",
              "      <td>584.000000</td>\n",
              "      <td>584.000000</td>\n",
              "    </tr>\n",
              "    <tr>\n",
              "      <th>mean</th>\n",
              "      <td>93.577055</td>\n",
              "      <td>6.271747</td>\n",
              "      <td>2018.936644</td>\n",
              "      <td>6.859589</td>\n",
              "      <td>3.392123</td>\n",
              "    </tr>\n",
              "    <tr>\n",
              "      <th>std</th>\n",
              "      <td>27.761683</td>\n",
              "      <td>0.979256</td>\n",
              "      <td>1.473992</td>\n",
              "      <td>3.466697</td>\n",
              "      <td>1.130585</td>\n",
              "    </tr>\n",
              "    <tr>\n",
              "      <th>min</th>\n",
              "      <td>4.000000</td>\n",
              "      <td>2.500000</td>\n",
              "      <td>2014.000000</td>\n",
              "      <td>1.000000</td>\n",
              "      <td>0.000000</td>\n",
              "    </tr>\n",
              "    <tr>\n",
              "      <th>25%</th>\n",
              "      <td>86.000000</td>\n",
              "      <td>5.700000</td>\n",
              "      <td>2018.000000</td>\n",
              "      <td>4.000000</td>\n",
              "      <td>3.000000</td>\n",
              "    </tr>\n",
              "    <tr>\n",
              "      <th>50%</th>\n",
              "      <td>97.000000</td>\n",
              "      <td>6.350000</td>\n",
              "      <td>2019.000000</td>\n",
              "      <td>7.000000</td>\n",
              "      <td>4.000000</td>\n",
              "    </tr>\n",
              "    <tr>\n",
              "      <th>75%</th>\n",
              "      <td>108.000000</td>\n",
              "      <td>7.000000</td>\n",
              "      <td>2020.000000</td>\n",
              "      <td>10.000000</td>\n",
              "      <td>4.000000</td>\n",
              "    </tr>\n",
              "    <tr>\n",
              "      <th>max</th>\n",
              "      <td>209.000000</td>\n",
              "      <td>9.000000</td>\n",
              "      <td>2021.000000</td>\n",
              "      <td>12.000000</td>\n",
              "      <td>6.000000</td>\n",
              "    </tr>\n",
              "  </tbody>\n",
              "</table>\n",
              "</div>\n",
              "      <button class=\"colab-df-convert\" onclick=\"convertToInteractive('df-52be13af-9819-4b45-bf13-176c1f6468f2')\"\n",
              "              title=\"Convert this dataframe to an interactive table.\"\n",
              "              style=\"display:none;\">\n",
              "        \n",
              "  <svg xmlns=\"http://www.w3.org/2000/svg\" height=\"24px\"viewBox=\"0 0 24 24\"\n",
              "       width=\"24px\">\n",
              "    <path d=\"M0 0h24v24H0V0z\" fill=\"none\"/>\n",
              "    <path d=\"M18.56 5.44l.94 2.06.94-2.06 2.06-.94-2.06-.94-.94-2.06-.94 2.06-2.06.94zm-11 1L8.5 8.5l.94-2.06 2.06-.94-2.06-.94L8.5 2.5l-.94 2.06-2.06.94zm10 10l.94 2.06.94-2.06 2.06-.94-2.06-.94-.94-2.06-.94 2.06-2.06.94z\"/><path d=\"M17.41 7.96l-1.37-1.37c-.4-.4-.92-.59-1.43-.59-.52 0-1.04.2-1.43.59L10.3 9.45l-7.72 7.72c-.78.78-.78 2.05 0 2.83L4 21.41c.39.39.9.59 1.41.59.51 0 1.02-.2 1.41-.59l7.78-7.78 2.81-2.81c.8-.78.8-2.07 0-2.86zM5.41 20L4 18.59l7.72-7.72 1.47 1.35L5.41 20z\"/>\n",
              "  </svg>\n",
              "      </button>\n",
              "      \n",
              "  <style>\n",
              "    .colab-df-container {\n",
              "      display:flex;\n",
              "      flex-wrap:wrap;\n",
              "      gap: 12px;\n",
              "    }\n",
              "\n",
              "    .colab-df-convert {\n",
              "      background-color: #E8F0FE;\n",
              "      border: none;\n",
              "      border-radius: 50%;\n",
              "      cursor: pointer;\n",
              "      display: none;\n",
              "      fill: #1967D2;\n",
              "      height: 32px;\n",
              "      padding: 0 0 0 0;\n",
              "      width: 32px;\n",
              "    }\n",
              "\n",
              "    .colab-df-convert:hover {\n",
              "      background-color: #E2EBFA;\n",
              "      box-shadow: 0px 1px 2px rgba(60, 64, 67, 0.3), 0px 1px 3px 1px rgba(60, 64, 67, 0.15);\n",
              "      fill: #174EA6;\n",
              "    }\n",
              "\n",
              "    [theme=dark] .colab-df-convert {\n",
              "      background-color: #3B4455;\n",
              "      fill: #D2E3FC;\n",
              "    }\n",
              "\n",
              "    [theme=dark] .colab-df-convert:hover {\n",
              "      background-color: #434B5C;\n",
              "      box-shadow: 0px 1px 3px 1px rgba(0, 0, 0, 0.15);\n",
              "      filter: drop-shadow(0px 1px 2px rgba(0, 0, 0, 0.3));\n",
              "      fill: #FFFFFF;\n",
              "    }\n",
              "  </style>\n",
              "\n",
              "      <script>\n",
              "        const buttonEl =\n",
              "          document.querySelector('#df-52be13af-9819-4b45-bf13-176c1f6468f2 button.colab-df-convert');\n",
              "        buttonEl.style.display =\n",
              "          google.colab.kernel.accessAllowed ? 'block' : 'none';\n",
              "\n",
              "        async function convertToInteractive(key) {\n",
              "          const element = document.querySelector('#df-52be13af-9819-4b45-bf13-176c1f6468f2');\n",
              "          const dataTable =\n",
              "            await google.colab.kernel.invokeFunction('convertToInteractive',\n",
              "                                                     [key], {});\n",
              "          if (!dataTable) return;\n",
              "\n",
              "          const docLinkHtml = 'Like what you see? Visit the ' +\n",
              "            '<a target=\"_blank\" href=https://colab.research.google.com/notebooks/data_table.ipynb>data table notebook</a>'\n",
              "            + ' to learn more about interactive tables.';\n",
              "          element.innerHTML = '';\n",
              "          dataTable['output_type'] = 'display_data';\n",
              "          await google.colab.output.renderOutput(dataTable, element);\n",
              "          const docLink = document.createElement('div');\n",
              "          docLink.innerHTML = docLinkHtml;\n",
              "          element.appendChild(docLink);\n",
              "        }\n",
              "      </script>\n",
              "    </div>\n",
              "  </div>\n",
              "  "
            ]
          },
          "metadata": {},
          "execution_count": 55
        }
      ]
    },
    {
      "cell_type": "markdown",
      "source": [
        "#La función que podriamos aplicar tanto para datos cuantitativos como cualitativos es la moda"
      ],
      "metadata": {
        "id": "fIIbRZFBGhXy"
      }
    },
    {
      "cell_type": "code",
      "source": [
        "#Moda\n",
        "mode = data_netflix.mode(numeric_only = True)\n",
        "print(mode)"
      ],
      "metadata": {
        "colab": {
          "base_uri": "https://localhost:8080/"
        },
        "id": "RXkOiOaNGuca",
        "outputId": "72dd2a08-8a58-483f-95ef-1add28788646"
      },
      "execution_count": null,
      "outputs": [
        {
          "output_type": "stream",
          "name": "stdout",
          "text": [
            "   Runtime  IMDB Score    Year  Month  Day\n",
            "0     97.0         5.8  2020.0   10.0  4.0\n",
            "1      NaN         6.3     NaN    NaN  NaN\n"
          ]
        }
      ]
    },
    {
      "cell_type": "code",
      "source": [
        "#Moda\n",
        "mode = data_netflix.mode(numeric_only = False)\n",
        "print(mode)"
      ],
      "metadata": {
        "colab": {
          "base_uri": "https://localhost:8080/"
        },
        "id": "gEJmZunrGyEZ",
        "outputId": "f06225cb-b88f-4ef9-88e6-92ea11a36189"
      },
      "execution_count": null,
      "outputs": [
        {
          "output_type": "stream",
          "name": "stdout",
          "text": [
            "                                                 Title        Genre  \\\n",
            "0                                         #REALITYHIGH  Documentary   \n",
            "1                                                 13th          NaN   \n",
            "2    13th: A Conversation with Oprah Winfrey & Ava ...          NaN   \n",
            "3                                            15 August          NaN   \n",
            "4                                                 1922          NaN   \n",
            "..                                                 ...          ...   \n",
            "579                                            Yes Day          NaN   \n",
            "580                                    You've Got This          NaN   \n",
            "581                                              Zion           NaN   \n",
            "582                                               iBoy          NaN   \n",
            "583                                            Òlòt?ré          NaN   \n",
            "\n",
            "      Premiere  Runtime  IMDB Score Language    Year  Month  Day  \n",
            "0   2020-10-02     97.0         5.8  English  2020.0   10.0  4.0  \n",
            "1          NaT      NaN         6.3      NaN     NaN    NaN  NaN  \n",
            "2          NaT      NaN         NaN      NaN     NaN    NaN  NaN  \n",
            "3          NaT      NaN         NaN      NaN     NaN    NaN  NaN  \n",
            "4          NaT      NaN         NaN      NaN     NaN    NaN  NaN  \n",
            "..         ...      ...         ...      ...     ...    ...  ...  \n",
            "579        NaT      NaN         NaN      NaN     NaN    NaN  NaN  \n",
            "580        NaT      NaN         NaN      NaN     NaN    NaN  NaN  \n",
            "581        NaT      NaN         NaN      NaN     NaN    NaN  NaN  \n",
            "582        NaT      NaN         NaN      NaN     NaN    NaN  NaN  \n",
            "583        NaT      NaN         NaN      NaN     NaN    NaN  NaN  \n",
            "\n",
            "[584 rows x 9 columns]\n"
          ]
        }
      ]
    },
    {
      "cell_type": "markdown",
      "source": [
        "##Sin considerar el titulo"
      ],
      "metadata": {
        "id": "09FJ33qtG3X9"
      }
    },
    {
      "cell_type": "code",
      "source": [
        "#Moda\n",
        "mode = data_netflix.iloc[:,1:].mode(numeric_only = False)\n",
        "print(mode)"
      ],
      "metadata": {
        "colab": {
          "base_uri": "https://localhost:8080/"
        },
        "id": "4-_MIOdwG24G",
        "outputId": "c2386325-1298-43f2-de24-71570739b34b"
      },
      "execution_count": null,
      "outputs": [
        {
          "output_type": "stream",
          "name": "stdout",
          "text": [
            "         Genre   Premiere  Runtime  IMDB Score Language    Year  Month  Day\n",
            "0  Documentary 2020-10-02     97.0         5.8  English  2020.0   10.0  4.0\n",
            "1          NaN        NaT      NaN         6.3      NaN     NaN    NaN  NaN\n"
          ]
        }
      ]
    },
    {
      "cell_type": "markdown",
      "source": [
        "#Se agrega el calculo para el coeficiente de variación"
      ],
      "metadata": {
        "id": "1A9YhXxwJ1R8"
      }
    },
    {
      "cell_type": "code",
      "source": [
        "#define función para calcular coeficiente de variacion (cv)\n",
        "cv = lambda x: np.std(x, ddof = 1 )/np.mean(x) * 100\n",
        "\n",
        "#calcular CV para cada columna en el marco de datos\n",
        "data_netflix.loc[:,['Runtime', 'IMDB Score']].apply(cv)"
      ],
      "metadata": {
        "colab": {
          "base_uri": "https://localhost:8080/"
        },
        "id": "sA4WA37EHqZE",
        "outputId": "24742a4b-72ec-4b8a-d5b6-585a5e2b2af6"
      },
      "execution_count": null,
      "outputs": [
        {
          "output_type": "execute_result",
          "data": {
            "text/plain": [
              "Runtime       29.667190\n",
              "IMDB Score    15.613775\n",
              "dtype: float64"
            ]
          },
          "metadata": {},
          "execution_count": 59
        }
      ]
    },
    {
      "cell_type": "code",
      "source": [
        "pip install https://github.com/pandas-profiling/pandas-profiling/archive/master.zip"
      ],
      "metadata": {
        "colab": {
          "base_uri": "https://localhost:8080/"
        },
        "id": "GxvCWQvAvWaK",
        "outputId": "a30984a4-82a8-451a-bae3-4b85648d57fe"
      },
      "execution_count": 60,
      "outputs": [
        {
          "output_type": "stream",
          "name": "stdout",
          "text": [
            "Looking in indexes: https://pypi.org/simple, https://us-python.pkg.dev/colab-wheels/public/simple/\n",
            "Collecting https://github.com/pandas-profiling/pandas-profiling/archive/master.zip\n",
            "  Downloading https://github.com/pandas-profiling/pandas-profiling/archive/master.zip\n",
            "\u001b[K     / 21.9 MB 138 kB/s\n",
            "\u001b[?25hRequirement already satisfied: joblib~=1.1.0 in /usr/local/lib/python3.7/dist-packages (from pandas-profiling==3.2.0) (1.1.0)\n",
            "Requirement already satisfied: scipy>=1.4.1 in /usr/local/lib/python3.7/dist-packages (from pandas-profiling==3.2.0) (1.7.3)\n",
            "Requirement already satisfied: pandas!=1.0.0,!=1.0.1,!=1.0.2,!=1.1.0,>=0.25.3 in /usr/local/lib/python3.7/dist-packages (from pandas-profiling==3.2.0) (1.3.5)\n",
            "Requirement already satisfied: matplotlib>=3.2.0 in /usr/local/lib/python3.7/dist-packages (from pandas-profiling==3.2.0) (3.2.2)\n",
            "Requirement already satisfied: pydantic>=1.8.1 in /usr/local/lib/python3.7/dist-packages (from pandas-profiling==3.2.0) (1.9.2)\n",
            "Requirement already satisfied: PyYAML>=5.0.0 in /usr/local/lib/python3.7/dist-packages (from pandas-profiling==3.2.0) (6.0)\n",
            "Requirement already satisfied: jinja2>=2.11.1 in /usr/local/lib/python3.7/dist-packages (from pandas-profiling==3.2.0) (2.11.3)\n",
            "Collecting visions[type_image_path]==0.7.5\n",
            "  Downloading visions-0.7.5-py3-none-any.whl (102 kB)\n",
            "\u001b[K     |████████████████████████████████| 102 kB 25.1 MB/s \n",
            "\u001b[?25hRequirement already satisfied: numpy>=1.16.0 in /usr/local/lib/python3.7/dist-packages (from pandas-profiling==3.2.0) (1.21.6)\n",
            "Collecting htmlmin>=0.1.12\n",
            "  Downloading htmlmin-0.1.12.tar.gz (19 kB)\n",
            "Requirement already satisfied: missingno>=0.4.2 in /usr/local/lib/python3.7/dist-packages (from pandas-profiling==3.2.0) (0.5.1)\n",
            "Collecting phik>=0.11.1\n",
            "  Downloading phik-0.12.2-cp37-cp37m-manylinux_2_17_x86_64.manylinux2014_x86_64.whl (690 kB)\n",
            "\u001b[K     |████████████████████████████████| 690 kB 63.8 MB/s \n",
            "\u001b[?25hCollecting tangled-up-in-unicode==0.2.0\n",
            "  Downloading tangled_up_in_unicode-0.2.0-py3-none-any.whl (4.7 MB)\n",
            "\u001b[K     |████████████████████████████████| 4.7 MB 53.9 MB/s \n",
            "\u001b[?25hCollecting requests>=2.24.0\n",
            "  Downloading requests-2.28.1-py3-none-any.whl (62 kB)\n",
            "\u001b[K     |████████████████████████████████| 62 kB 1.7 MB/s \n",
            "\u001b[?25hRequirement already satisfied: tqdm>=4.48.2 in /usr/local/lib/python3.7/dist-packages (from pandas-profiling==3.2.0) (4.64.0)\n",
            "Requirement already satisfied: seaborn>=0.10.1 in /usr/local/lib/python3.7/dist-packages (from pandas-profiling==3.2.0) (0.11.2)\n",
            "Collecting multimethod>=1.4\n",
            "  Downloading multimethod-1.8-py3-none-any.whl (9.8 kB)\n",
            "Requirement already satisfied: networkx>=2.4 in /usr/local/lib/python3.7/dist-packages (from visions[type_image_path]==0.7.5->pandas-profiling==3.2.0) (2.6.3)\n",
            "Requirement already satisfied: attrs>=19.3.0 in /usr/local/lib/python3.7/dist-packages (from visions[type_image_path]==0.7.5->pandas-profiling==3.2.0) (22.1.0)\n",
            "Collecting imagehash\n",
            "  Downloading ImageHash-4.2.1.tar.gz (812 kB)\n",
            "\u001b[K     |████████████████████████████████| 812 kB 91.8 MB/s \n",
            "\u001b[?25hRequirement already satisfied: Pillow in /usr/local/lib/python3.7/dist-packages (from visions[type_image_path]==0.7.5->pandas-profiling==3.2.0) (7.1.2)\n",
            "Requirement already satisfied: MarkupSafe>=0.23 in /usr/local/lib/python3.7/dist-packages (from jinja2>=2.11.1->pandas-profiling==3.2.0) (2.0.1)\n",
            "Requirement already satisfied: python-dateutil>=2.1 in /usr/local/lib/python3.7/dist-packages (from matplotlib>=3.2.0->pandas-profiling==3.2.0) (2.8.2)\n",
            "Requirement already satisfied: kiwisolver>=1.0.1 in /usr/local/lib/python3.7/dist-packages (from matplotlib>=3.2.0->pandas-profiling==3.2.0) (1.4.4)\n",
            "Requirement already satisfied: cycler>=0.10 in /usr/local/lib/python3.7/dist-packages (from matplotlib>=3.2.0->pandas-profiling==3.2.0) (0.11.0)\n",
            "Requirement already satisfied: pyparsing!=2.0.4,!=2.1.2,!=2.1.6,>=2.0.1 in /usr/local/lib/python3.7/dist-packages (from matplotlib>=3.2.0->pandas-profiling==3.2.0) (3.0.9)\n",
            "Requirement already satisfied: typing-extensions in /usr/local/lib/python3.7/dist-packages (from kiwisolver>=1.0.1->matplotlib>=3.2.0->pandas-profiling==3.2.0) (4.1.1)\n",
            "Requirement already satisfied: pytz>=2017.3 in /usr/local/lib/python3.7/dist-packages (from pandas!=1.0.0,!=1.0.1,!=1.0.2,!=1.1.0,>=0.25.3->pandas-profiling==3.2.0) (2022.2.1)\n",
            "Requirement already satisfied: six>=1.5 in /usr/local/lib/python3.7/dist-packages (from python-dateutil>=2.1->matplotlib>=3.2.0->pandas-profiling==3.2.0) (1.15.0)\n",
            "Requirement already satisfied: certifi>=2017.4.17 in /usr/local/lib/python3.7/dist-packages (from requests>=2.24.0->pandas-profiling==3.2.0) (2022.6.15)\n",
            "Requirement already satisfied: charset-normalizer<3,>=2 in /usr/local/lib/python3.7/dist-packages (from requests>=2.24.0->pandas-profiling==3.2.0) (2.1.1)\n",
            "Requirement already satisfied: urllib3<1.27,>=1.21.1 in /usr/local/lib/python3.7/dist-packages (from requests>=2.24.0->pandas-profiling==3.2.0) (1.24.3)\n",
            "Requirement already satisfied: idna<4,>=2.5 in /usr/local/lib/python3.7/dist-packages (from requests>=2.24.0->pandas-profiling==3.2.0) (2.10)\n",
            "Requirement already satisfied: PyWavelets in /usr/local/lib/python3.7/dist-packages (from imagehash->visions[type_image_path]==0.7.5->pandas-profiling==3.2.0) (1.3.0)\n",
            "Building wheels for collected packages: pandas-profiling, htmlmin, imagehash\n",
            "  Building wheel for pandas-profiling (setup.py) ... \u001b[?25l\u001b[?25hdone\n",
            "  Created wheel for pandas-profiling: filename=pandas_profiling-3.2.0-py2.py3-none-any.whl size=261257 sha256=ba9a849401056e891f90f7845f96a1f895db686320385999f4f7fc33c2f73b39\n",
            "  Stored in directory: /tmp/pip-ephem-wheel-cache-99xbuff8/wheels/cc/d5/09/083fb07c9363a2f45854b0e3a7de7d7c560f07da74b9e9769d\n",
            "  Building wheel for htmlmin (setup.py) ... \u001b[?25l\u001b[?25hdone\n",
            "  Created wheel for htmlmin: filename=htmlmin-0.1.12-py3-none-any.whl size=27098 sha256=c24b7b888f97bac2d8c0940460dfa0460a7f61c6a2f755160eaa797f36ed5410\n",
            "  Stored in directory: /root/.cache/pip/wheels/70/e1/52/5b14d250ba868768823940c3229e9950d201a26d0bd3ee8655\n",
            "  Building wheel for imagehash (setup.py) ... \u001b[?25l\u001b[?25hdone\n",
            "  Created wheel for imagehash: filename=ImageHash-4.2.1-py2.py3-none-any.whl size=295206 sha256=c149160e9305977807d76e791130c63a8e93ef6fc189d170fceaa97a60b0fd1f\n",
            "  Stored in directory: /root/.cache/pip/wheels/4c/d5/59/5e3e297533ddb09407769762985d134135064c6831e29a914e\n",
            "Successfully built pandas-profiling htmlmin imagehash\n",
            "Installing collected packages: tangled-up-in-unicode, multimethod, visions, imagehash, requests, phik, htmlmin, pandas-profiling\n",
            "  Attempting uninstall: requests\n",
            "    Found existing installation: requests 2.23.0\n",
            "    Uninstalling requests-2.23.0:\n",
            "      Successfully uninstalled requests-2.23.0\n",
            "  Attempting uninstall: pandas-profiling\n",
            "    Found existing installation: pandas-profiling 1.4.1\n",
            "    Uninstalling pandas-profiling-1.4.1:\n",
            "      Successfully uninstalled pandas-profiling-1.4.1\n",
            "Successfully installed htmlmin-0.1.12 imagehash-4.2.1 multimethod-1.8 pandas-profiling-3.2.0 phik-0.12.2 requests-2.28.1 tangled-up-in-unicode-0.2.0 visions-0.7.5\n"
          ]
        }
      ]
    },
    {
      "cell_type": "markdown",
      "source": [
        "#Luego de ejecutar esto se debe reniciar la sesión"
      ],
      "metadata": {
        "id": "WpygfTVhvrfW"
      }
    },
    {
      "cell_type": "code",
      "source": [
        "#Se importan los módulos pandas, numpy y matplotlib\n",
        "#Pandas es utilizado para leer los set de datos\n",
        "import pandas as pd\n",
        "# Para acceder a los archivos del gdrive\n",
        "from google.colab import drive\n",
        "drive.mount('/content/gdrive')\n",
        "from pandas_profiling import ProfileReport"
      ],
      "metadata": {
        "colab": {
          "base_uri": "https://localhost:8080/"
        },
        "id": "TLIPb-Tcvm69",
        "outputId": "10a46283-35ea-47ca-a187-9851c687640c"
      },
      "execution_count": 1,
      "outputs": [
        {
          "output_type": "stream",
          "name": "stdout",
          "text": [
            "Drive already mounted at /content/gdrive; to attempt to forcibly remount, call drive.mount(\"/content/gdrive\", force_remount=True).\n"
          ]
        }
      ]
    },
    {
      "cell_type": "code",
      "source": [
        "cd /content/gdrive/MyDrive/2022/Universidad/TIC I 1-2022/Clases/Laboratorio/Semana 4"
      ],
      "metadata": {
        "colab": {
          "base_uri": "https://localhost:8080/"
        },
        "id": "KtlBg5hkv-G9",
        "outputId": "3c12ec9d-e87c-49ad-ed42-21b358080a49"
      },
      "execution_count": 2,
      "outputs": [
        {
          "output_type": "stream",
          "name": "stdout",
          "text": [
            "/content/gdrive/MyDrive/2022/Universidad/TIC I 1-2022/Clases/Laboratorio/Semana 4\n"
          ]
        }
      ]
    },
    {
      "cell_type": "code",
      "source": [
        "data_netflix = pd.read_csv('NetflixOriginals.csv', encoding='latin-1')\n",
        "data_netflix[\"Premiere\"] = pd.to_datetime(data_netflix.Premiere)\n",
        "data_netflix.head()"
      ],
      "metadata": {
        "colab": {
          "base_uri": "https://localhost:8080/",
          "height": 206
        },
        "id": "NYwNKr3yveou",
        "outputId": "fdc9763b-5d8f-4ad1-af5f-7ad52a7ad646"
      },
      "execution_count": 3,
      "outputs": [
        {
          "output_type": "execute_result",
          "data": {
            "text/plain": [
              "             Title                  Genre   Premiere  Runtime  IMDB Score  \\\n",
              "0  Enter the Anime            Documentary 2019-08-05       58         2.5   \n",
              "1      Dark Forces               Thriller 2020-08-21       81         2.6   \n",
              "2          The App  Science fiction/Drama 2019-12-26       79         2.6   \n",
              "3   The Open House        Horror thriller 2018-01-19       94         3.2   \n",
              "4      Kaali Khuhi                Mystery 2020-10-30       90         3.4   \n",
              "\n",
              "           Language  \n",
              "0  English/Japanese  \n",
              "1           Spanish  \n",
              "2           Italian  \n",
              "3           English  \n",
              "4             Hindi  "
            ],
            "text/html": [
              "\n",
              "  <div id=\"df-41d0a0b7-6ad8-48cd-9368-973e7df20101\">\n",
              "    <div class=\"colab-df-container\">\n",
              "      <div>\n",
              "<style scoped>\n",
              "    .dataframe tbody tr th:only-of-type {\n",
              "        vertical-align: middle;\n",
              "    }\n",
              "\n",
              "    .dataframe tbody tr th {\n",
              "        vertical-align: top;\n",
              "    }\n",
              "\n",
              "    .dataframe thead th {\n",
              "        text-align: right;\n",
              "    }\n",
              "</style>\n",
              "<table border=\"1\" class=\"dataframe\">\n",
              "  <thead>\n",
              "    <tr style=\"text-align: right;\">\n",
              "      <th></th>\n",
              "      <th>Title</th>\n",
              "      <th>Genre</th>\n",
              "      <th>Premiere</th>\n",
              "      <th>Runtime</th>\n",
              "      <th>IMDB Score</th>\n",
              "      <th>Language</th>\n",
              "    </tr>\n",
              "  </thead>\n",
              "  <tbody>\n",
              "    <tr>\n",
              "      <th>0</th>\n",
              "      <td>Enter the Anime</td>\n",
              "      <td>Documentary</td>\n",
              "      <td>2019-08-05</td>\n",
              "      <td>58</td>\n",
              "      <td>2.5</td>\n",
              "      <td>English/Japanese</td>\n",
              "    </tr>\n",
              "    <tr>\n",
              "      <th>1</th>\n",
              "      <td>Dark Forces</td>\n",
              "      <td>Thriller</td>\n",
              "      <td>2020-08-21</td>\n",
              "      <td>81</td>\n",
              "      <td>2.6</td>\n",
              "      <td>Spanish</td>\n",
              "    </tr>\n",
              "    <tr>\n",
              "      <th>2</th>\n",
              "      <td>The App</td>\n",
              "      <td>Science fiction/Drama</td>\n",
              "      <td>2019-12-26</td>\n",
              "      <td>79</td>\n",
              "      <td>2.6</td>\n",
              "      <td>Italian</td>\n",
              "    </tr>\n",
              "    <tr>\n",
              "      <th>3</th>\n",
              "      <td>The Open House</td>\n",
              "      <td>Horror thriller</td>\n",
              "      <td>2018-01-19</td>\n",
              "      <td>94</td>\n",
              "      <td>3.2</td>\n",
              "      <td>English</td>\n",
              "    </tr>\n",
              "    <tr>\n",
              "      <th>4</th>\n",
              "      <td>Kaali Khuhi</td>\n",
              "      <td>Mystery</td>\n",
              "      <td>2020-10-30</td>\n",
              "      <td>90</td>\n",
              "      <td>3.4</td>\n",
              "      <td>Hindi</td>\n",
              "    </tr>\n",
              "  </tbody>\n",
              "</table>\n",
              "</div>\n",
              "      <button class=\"colab-df-convert\" onclick=\"convertToInteractive('df-41d0a0b7-6ad8-48cd-9368-973e7df20101')\"\n",
              "              title=\"Convert this dataframe to an interactive table.\"\n",
              "              style=\"display:none;\">\n",
              "        \n",
              "  <svg xmlns=\"http://www.w3.org/2000/svg\" height=\"24px\"viewBox=\"0 0 24 24\"\n",
              "       width=\"24px\">\n",
              "    <path d=\"M0 0h24v24H0V0z\" fill=\"none\"/>\n",
              "    <path d=\"M18.56 5.44l.94 2.06.94-2.06 2.06-.94-2.06-.94-.94-2.06-.94 2.06-2.06.94zm-11 1L8.5 8.5l.94-2.06 2.06-.94-2.06-.94L8.5 2.5l-.94 2.06-2.06.94zm10 10l.94 2.06.94-2.06 2.06-.94-2.06-.94-.94-2.06-.94 2.06-2.06.94z\"/><path d=\"M17.41 7.96l-1.37-1.37c-.4-.4-.92-.59-1.43-.59-.52 0-1.04.2-1.43.59L10.3 9.45l-7.72 7.72c-.78.78-.78 2.05 0 2.83L4 21.41c.39.39.9.59 1.41.59.51 0 1.02-.2 1.41-.59l7.78-7.78 2.81-2.81c.8-.78.8-2.07 0-2.86zM5.41 20L4 18.59l7.72-7.72 1.47 1.35L5.41 20z\"/>\n",
              "  </svg>\n",
              "      </button>\n",
              "      \n",
              "  <style>\n",
              "    .colab-df-container {\n",
              "      display:flex;\n",
              "      flex-wrap:wrap;\n",
              "      gap: 12px;\n",
              "    }\n",
              "\n",
              "    .colab-df-convert {\n",
              "      background-color: #E8F0FE;\n",
              "      border: none;\n",
              "      border-radius: 50%;\n",
              "      cursor: pointer;\n",
              "      display: none;\n",
              "      fill: #1967D2;\n",
              "      height: 32px;\n",
              "      padding: 0 0 0 0;\n",
              "      width: 32px;\n",
              "    }\n",
              "\n",
              "    .colab-df-convert:hover {\n",
              "      background-color: #E2EBFA;\n",
              "      box-shadow: 0px 1px 2px rgba(60, 64, 67, 0.3), 0px 1px 3px 1px rgba(60, 64, 67, 0.15);\n",
              "      fill: #174EA6;\n",
              "    }\n",
              "\n",
              "    [theme=dark] .colab-df-convert {\n",
              "      background-color: #3B4455;\n",
              "      fill: #D2E3FC;\n",
              "    }\n",
              "\n",
              "    [theme=dark] .colab-df-convert:hover {\n",
              "      background-color: #434B5C;\n",
              "      box-shadow: 0px 1px 3px 1px rgba(0, 0, 0, 0.15);\n",
              "      filter: drop-shadow(0px 1px 2px rgba(0, 0, 0, 0.3));\n",
              "      fill: #FFFFFF;\n",
              "    }\n",
              "  </style>\n",
              "\n",
              "      <script>\n",
              "        const buttonEl =\n",
              "          document.querySelector('#df-41d0a0b7-6ad8-48cd-9368-973e7df20101 button.colab-df-convert');\n",
              "        buttonEl.style.display =\n",
              "          google.colab.kernel.accessAllowed ? 'block' : 'none';\n",
              "\n",
              "        async function convertToInteractive(key) {\n",
              "          const element = document.querySelector('#df-41d0a0b7-6ad8-48cd-9368-973e7df20101');\n",
              "          const dataTable =\n",
              "            await google.colab.kernel.invokeFunction('convertToInteractive',\n",
              "                                                     [key], {});\n",
              "          if (!dataTable) return;\n",
              "\n",
              "          const docLinkHtml = 'Like what you see? Visit the ' +\n",
              "            '<a target=\"_blank\" href=https://colab.research.google.com/notebooks/data_table.ipynb>data table notebook</a>'\n",
              "            + ' to learn more about interactive tables.';\n",
              "          element.innerHTML = '';\n",
              "          dataTable['output_type'] = 'display_data';\n",
              "          await google.colab.output.renderOutput(dataTable, element);\n",
              "          const docLink = document.createElement('div');\n",
              "          docLink.innerHTML = docLinkHtml;\n",
              "          element.appendChild(docLink);\n",
              "        }\n",
              "      </script>\n",
              "    </div>\n",
              "  </div>\n",
              "  "
            ]
          },
          "metadata": {},
          "execution_count": 3
        }
      ]
    },
    {
      "cell_type": "code",
      "source": [
        "profile = ProfileReport(data_netflix, title=\"Pandas Profiling Report\", explorative=True)"
      ],
      "metadata": {
        "id": "WNEnRjk4wS-j"
      },
      "execution_count": 5,
      "outputs": []
    },
    {
      "cell_type": "code",
      "source": [
        "profile.to_file(\"netflix_report.html\")"
      ],
      "metadata": {
        "colab": {
          "base_uri": "https://localhost:8080/",
          "height": 145,
          "referenced_widgets": [
            "e3fa7c1010f5443287408888c18cda99",
            "8b14b97c293747088605c93f8f7f42ed",
            "0a563cb6fe7040b0a16478ddcd151b03",
            "c07b3e012e3c47268c86f8b93a34becb",
            "15ba99df02d04c22be6fc975ccc5752f",
            "afc5af403382486590be472b183431f2",
            "c34e66d52bf0460e8ac51145b63b1ff6",
            "84acfe4fd77b41c986ec1c42d84a6c1b",
            "a1cb5626dc1c4e1ea7eb62c446c6b377",
            "4f5b530dad7d4126b3b6cfe6da995c29",
            "d9477678177b4c549ad63e1eedf4156d",
            "9eb9f93874234e65b3bdf8fc09314ecc",
            "bb3416ac242741bdaeb6ce8a5e9980ec",
            "3bc94286a9e742daae399969b8b9ae26",
            "46c397f8a90243d2af48b317ad3ffb05",
            "7f316e2af6844ce5af1f340b8bb738b6",
            "2183cca2ca41491d807a9dea4c861471",
            "d8840401e2774fbcb5176cdc33b3dc03",
            "0fc48ebc746d4b7dba72262716290984",
            "60906e6b93194984847060b0ed112460",
            "a630ce4f04bf4a22bc8d796cc6b76055",
            "511958f4ebd0409dab3a8b6c215fbcf9",
            "b5f8e4b6e88f4f0e8c6eca7d6d16819b",
            "3885bf7822284cc4a8cd587d7c60a947",
            "188faaf8450e448cba16654b741b2df8",
            "a308ddab50914b3d83f85c0b8c3191ef",
            "30a172b7523b4054b47dc1a92fc9be6d",
            "a00c22f86a9a4b6aaa027876a8f0cc7d",
            "16ffd59b4c5e4f18a411b492bd9f4c58",
            "ce37aeb3c7e845e8891eeacb6d459a84",
            "0a9a8b1a17e6486db318c96358045e52",
            "c4999ca8747d4fe18d0d6bc2b5e6cca5",
            "412a0fd9966c41088d2e94063ac920e9",
            "befa0ef3c4d947c683fc4dae8a35e7f7",
            "642a274858294ecf89a3b7238db314e2",
            "5196966b1a224ce6ac27507ed314d03e",
            "d458dce0066d494b957e036332a19bbb",
            "5c7c63d332c44378a572b623ae35ea9f",
            "c9b94b3c9e6d49569a26a158d8c3af00",
            "e2f08acee10048ef9510fea317c78d56",
            "2b28de0308a94e7f9c8dd54446565df6",
            "83264a0b7adb4121874c676d2926b097",
            "03c89707a70d4869a2c0ddba6a57ad15",
            "42db2e2b9d2a4f7b851e6d632948ce82"
          ]
        },
        "id": "iNgCN7qkwZrl",
        "outputId": "a07bce1c-b0be-4530-eebe-5bad4a921e2f"
      },
      "execution_count": 6,
      "outputs": [
        {
          "output_type": "display_data",
          "data": {
            "text/plain": [
              "Summarize dataset:   0%|          | 0/5 [00:00<?, ?it/s]"
            ],
            "application/vnd.jupyter.widget-view+json": {
              "version_major": 2,
              "version_minor": 0,
              "model_id": "e3fa7c1010f5443287408888c18cda99"
            }
          },
          "metadata": {}
        },
        {
          "output_type": "display_data",
          "data": {
            "text/plain": [
              "Generate report structure:   0%|          | 0/1 [00:00<?, ?it/s]"
            ],
            "application/vnd.jupyter.widget-view+json": {
              "version_major": 2,
              "version_minor": 0,
              "model_id": "9eb9f93874234e65b3bdf8fc09314ecc"
            }
          },
          "metadata": {}
        },
        {
          "output_type": "display_data",
          "data": {
            "text/plain": [
              "Render HTML:   0%|          | 0/1 [00:00<?, ?it/s]"
            ],
            "application/vnd.jupyter.widget-view+json": {
              "version_major": 2,
              "version_minor": 0,
              "model_id": "b5f8e4b6e88f4f0e8c6eca7d6d16819b"
            }
          },
          "metadata": {}
        },
        {
          "output_type": "display_data",
          "data": {
            "text/plain": [
              "Export report to file:   0%|          | 0/1 [00:00<?, ?it/s]"
            ],
            "application/vnd.jupyter.widget-view+json": {
              "version_major": 2,
              "version_minor": 0,
              "model_id": "befa0ef3c4d947c683fc4dae8a35e7f7"
            }
          },
          "metadata": {}
        }
      ]
    },
    {
      "cell_type": "markdown",
      "source": [
        "#Actividad.\n",
        "\n",
        "#Cada grupo debe replicar lo visto con su respectiva base de datos. Además, buscar otros gráficos o funciones utiles para aplicar."
      ],
      "metadata": {
        "id": "u53l9tpOBXTA"
      }
    }
  ]
}