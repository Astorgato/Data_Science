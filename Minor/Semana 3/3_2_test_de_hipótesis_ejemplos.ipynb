{
  "cells": [
    {
      "cell_type": "markdown",
      "id": "c2460283-f87c-4ab5-8195-b3e092c67e67",
      "metadata": {
        "id": "c2460283-f87c-4ab5-8195-b3e092c67e67"
      },
      "source": [
        "# **Ejemplos de Test de Hipótesis**\n",
        "###**Módulo de Nivelación**\n",
        "###**Técnicas de Inteligencia Computacional I**\n",
        "###Minor Ciencia de Datos/Minor Ciencia de Datos Avanzado"
      ]
    },
    {
      "cell_type": "code",
      "source": [
        "!pip install scikit_posthocs"
      ],
      "metadata": {
        "colab": {
          "base_uri": "https://localhost:8080/"
        },
        "id": "U-sEH2heqON6",
        "outputId": "ef7243c1-2c0f-43c2-c4fc-11a2fd0c62a4"
      },
      "id": "U-sEH2heqON6",
      "execution_count": 3,
      "outputs": [
        {
          "output_type": "stream",
          "name": "stdout",
          "text": [
            "Looking in indexes: https://pypi.org/simple, https://us-python.pkg.dev/colab-wheels/public/simple/\n",
            "Requirement already satisfied: scikit_posthocs in /usr/local/lib/python3.7/dist-packages (0.7.0)\n",
            "Requirement already satisfied: statsmodels in /usr/local/lib/python3.7/dist-packages (from scikit_posthocs) (0.12.2)\n",
            "Requirement already satisfied: pandas>=0.20.0 in /usr/local/lib/python3.7/dist-packages (from scikit_posthocs) (1.3.5)\n",
            "Requirement already satisfied: matplotlib in /usr/local/lib/python3.7/dist-packages (from scikit_posthocs) (3.2.2)\n",
            "Requirement already satisfied: scipy in /usr/local/lib/python3.7/dist-packages (from scikit_posthocs) (1.7.3)\n",
            "Requirement already satisfied: numpy in /usr/local/lib/python3.7/dist-packages (from scikit_posthocs) (1.21.6)\n",
            "Requirement already satisfied: seaborn in /usr/local/lib/python3.7/dist-packages (from scikit_posthocs) (0.11.2)\n",
            "Requirement already satisfied: python-dateutil>=2.7.3 in /usr/local/lib/python3.7/dist-packages (from pandas>=0.20.0->scikit_posthocs) (2.8.2)\n",
            "Requirement already satisfied: pytz>=2017.3 in /usr/local/lib/python3.7/dist-packages (from pandas>=0.20.0->scikit_posthocs) (2022.2.1)\n",
            "Requirement already satisfied: six>=1.5 in /usr/local/lib/python3.7/dist-packages (from python-dateutil>=2.7.3->pandas>=0.20.0->scikit_posthocs) (1.15.0)\n",
            "Requirement already satisfied: kiwisolver>=1.0.1 in /usr/local/lib/python3.7/dist-packages (from matplotlib->scikit_posthocs) (1.4.4)\n",
            "Requirement already satisfied: pyparsing!=2.0.4,!=2.1.2,!=2.1.6,>=2.0.1 in /usr/local/lib/python3.7/dist-packages (from matplotlib->scikit_posthocs) (3.0.9)\n",
            "Requirement already satisfied: cycler>=0.10 in /usr/local/lib/python3.7/dist-packages (from matplotlib->scikit_posthocs) (0.11.0)\n",
            "Requirement already satisfied: typing-extensions in /usr/local/lib/python3.7/dist-packages (from kiwisolver>=1.0.1->matplotlib->scikit_posthocs) (4.1.1)\n",
            "Requirement already satisfied: patsy>=0.5 in /usr/local/lib/python3.7/dist-packages (from statsmodels->scikit_posthocs) (0.5.2)\n"
          ]
        }
      ]
    },
    {
      "cell_type": "code",
      "execution_count": 4,
      "id": "488bebb5-dcec-4a94-9ea1-8ab87396037e",
      "metadata": {
        "id": "488bebb5-dcec-4a94-9ea1-8ab87396037e"
      },
      "outputs": [],
      "source": [
        "import scikit_posthocs as sp\n",
        "import numpy as np\n",
        "from scipy import stats\n",
        "import pandas as pd\n",
        "pd.options.display.float_format = '{:,.4f}'.format"
      ]
    },
    {
      "cell_type": "code",
      "execution_count": 5,
      "id": "d690ca86-69ae-444b-a767-4ffd09593a7c",
      "metadata": {
        "id": "d690ca86-69ae-444b-a767-4ffd09593a7c"
      },
      "outputs": [],
      "source": [
        "def check_normality(data):\n",
        "    test_stat_normality, p_value_normality=stats.shapiro(data)\n",
        "    print(\"p value:%.4f\" % p_value_normality)\n",
        "    if p_value_normality <0.05:\n",
        "        print(\"Reject null hypothesis >> The data is not normally distributed\")\n",
        "    else:\n",
        "        print(\"Fail to reject null hypothesis >> The data is normally distributed\")       "
      ]
    },
    {
      "cell_type": "code",
      "execution_count": 6,
      "id": "218530c7-e10e-459e-b51e-99306814301b",
      "metadata": {
        "id": "218530c7-e10e-459e-b51e-99306814301b"
      },
      "outputs": [],
      "source": [
        "def check_variance_homogeneity(group1, group2):\n",
        "    test_stat_var, p_value_var= stats.levene(group1,group2)\n",
        "    print(\"p value:%.4f\" % p_value_var)\n",
        "    if p_value_var <0.05:\n",
        "        print(\"Reject null hypothesis >> The variances of the samples are different.\")\n",
        "    else:\n",
        "        print(\"Fail to reject null hypothesis >> The variances of the samples are same.\")"
      ]
    },
    {
      "cell_type": "markdown",
      "id": "721ee575-b70e-4d81-9bdf-f1b59f449784",
      "metadata": {
        "id": "721ee575-b70e-4d81-9bdf-f1b59f449784"
      },
      "source": [
        "## P1.\n",
        " Un profesor universitario dio conferencias en línea en lugar de clases presenciales debido a Covid-19. Más tarde, subió conferencias grabadas a la nube para los estudiantes que siguieron el curso de forma asincrónica (aquellos que no asistieron a la lección pero luego vieron los registros). Sin embargo, él cree que los estudiantes que asisten a clase en el horario de clase y participan en el proceso tienen más éxito. Por lo tanto, registró las calificaciones promedio de los estudiantes al final del semestre. Los datos están abajo.\n",
        "\n",
        "synchronous = [94. , 84.9, 82.6, 69.5, 80.1, 79.6, 81.4, 77.8, 81.7, 78.8, 73.2, 87.9, 87.9, 93.5, 82.3, 79.3, 78.3, 71.6, 88.6, 74.6, 74.1, 80.6]      \n",
        "asynchronous = [77.1, 71.7, 91. , 72.2, 74.8, 85.1, 67.6, 69.9, 75.3, 71.7, 65.7, 72.6, 71.5, 78.2]\n",
        "\n",
        "**Conducir la prueba de hipótesis para verificar si la creencia del profesor es estadísticamente significativa usando un nivel de significancia de 0.05 para evaluar las hipótesis nula y alternativa. Antes de realizar la prueba de hipótesis, verifique los supuestos relacionados. Comenta los resultados.**"
      ]
    },
    {
      "cell_type": "markdown",
      "id": "65d27ff3-fd89-435a-b753-7388831b18e3",
      "metadata": {
        "id": "65d27ff3-fd89-435a-b753-7388831b18e3"
      },
      "source": [
        "### Supuestos\n",
        "- Las observaciones en cada muestra son independientes e idénticamente distribuidas (iid).\n",
        "- Las observaciones en cada muestra se distribuyen normalmente.\n",
        "- Las observaciones en cada muestra tienen la misma varianza."
      ]
    },
    {
      "cell_type": "code",
      "execution_count": 7,
      "id": "1a25db91-cefa-4a38-9946-d0e87323e7d5",
      "metadata": {
        "id": "1a25db91-cefa-4a38-9946-d0e87323e7d5"
      },
      "outputs": [],
      "source": [
        "sync = np.array([94. , 84.9, 82.6, 69.5, 80.1, 79.6, 81.4, 77.8, 81.7, 78.8, 73.2,\n",
        "       87.9, 87.9, 93.5, 82.3, 79.3, 78.3, 71.6, 88.6, 74.6, 74.1, 80.6])\n",
        "asyncr =np.array([77.1, 71.7, 91. , 72.2, 74.8, 85.1, 67.6, 69.9, 75.3, 71.7, 65.7, 72.6, 71.5, 78.2])"
      ]
    },
    {
      "cell_type": "code",
      "source": [
        "media_s = sync.mean()\n",
        "print(media_s)\n",
        "media_a = asyncr.mean()\n",
        "print(media_a)"
      ],
      "metadata": {
        "colab": {
          "base_uri": "https://localhost:8080/"
        },
        "id": "FYg-c7XCZRv_",
        "outputId": "9b274787-9e8b-4a1c-8eff-1b0c99c807e0"
      },
      "id": "FYg-c7XCZRv_",
      "execution_count": 8,
      "outputs": [
        {
          "output_type": "stream",
          "name": "stdout",
          "text": [
            "81.01363636363634\n",
            "74.60000000000001\n"
          ]
        }
      ]
    },
    {
      "cell_type": "markdown",
      "id": "68e3a54f-c5ad-4c93-b7ff-53501ae6ae11",
      "metadata": {
        "id": "68e3a54f-c5ad-4c93-b7ff-53501ae6ae11"
      },
      "source": [
        "- $H_{0}$: los datos se distribuyen normalmente.\n",
        "- $H_{1}$: los datos no se distribuyen normalmente.\n",
        "\n",
        "Suponga que alfa = 0.05 Si el valor p es> 0.05, se puede decir que los datos se distribuyen normalmente."
      ]
    },
    {
      "cell_type": "code",
      "execution_count": 9,
      "id": "06e1a394-4670-43e8-945e-dd7158652548",
      "metadata": {
        "id": "06e1a394-4670-43e8-945e-dd7158652548",
        "outputId": "a2a5f3eb-197a-415f-d0ee-8b2342394aeb",
        "colab": {
          "base_uri": "https://localhost:8080/"
        }
      },
      "outputs": [
        {
          "output_type": "stream",
          "name": "stdout",
          "text": [
            "p value:0.6556\n",
            "Fail to reject null hypothesis >> The data is normally distributed\n",
            "p value:0.0803\n",
            "Fail to reject null hypothesis >> The data is normally distributed\n"
          ]
        }
      ],
      "source": [
        "check_normality(sync)\n",
        "check_normality(asyncr)"
      ]
    },
    {
      "cell_type": "markdown",
      "id": "522e945b-dd2d-405b-99c1-80e29378ced7",
      "metadata": {
        "id": "522e945b-dd2d-405b-99c1-80e29378ced7"
      },
      "source": [
        "- $H_{0}$: Las varianzas de las muestras son las mismas.\n",
        "- $H_{1}$: Las varianzas de las muestras son diferentes.\n",
        "    \n",
        "Prueba la hipótesis nula de que las varianzas de la población son iguales (llamada homogeneidad de varianza u homocedasticidad). Si el valor p resultante de la prueba de Levene es menor que algún nivel de significancia (típicamente 0.05), es poco probable que las diferencias obtenidas en las varianzas de la muestra hayan ocurrido en base al muestreo aleatorio de una población con varianzas iguales."
      ]
    },
    {
      "cell_type": "code",
      "execution_count": 10,
      "id": "551145dd-a579-4d1b-8829-47b63be40606",
      "metadata": {
        "id": "551145dd-a579-4d1b-8829-47b63be40606",
        "outputId": "e7d2401c-da6e-4be1-96e0-ff94bc397f51",
        "colab": {
          "base_uri": "https://localhost:8080/"
        }
      },
      "outputs": [
        {
          "output_type": "stream",
          "name": "stdout",
          "text": [
            "p value:0.8149\n",
            "Fail to reject null hypothesis >> The variances of the samples are same.\n"
          ]
        }
      ],
      "source": [
        "check_variance_homogeneity(sync, asyncr)"
      ]
    },
    {
      "cell_type": "markdown",
      "id": "110fd891-051e-438c-aafb-d7d97c7ebb42",
      "metadata": {
        "id": "110fd891-051e-438c-aafb-d7d97c7ebb42"
      },
      "source": [
        "$H_{0}$: $\\mu_{s}<= \\mu_{a}$     \n",
        "$H_{1}$: $\\mu_{s}>  \\mu_{a}$"
      ]
    },
    {
      "cell_type": "code",
      "execution_count": 11,
      "id": "2e08cc74-4d59-4782-957e-d7c9d7ebf972",
      "metadata": {
        "id": "2e08cc74-4d59-4782-957e-d7c9d7ebf972",
        "outputId": "e8e8682e-55cf-4e67-fa9a-23a676c5df34",
        "colab": {
          "base_uri": "https://localhost:8080/"
        }
      },
      "outputs": [
        {
          "output_type": "stream",
          "name": "stdout",
          "text": [
            "p value:0.00753598\n",
            "since the hypothesis is one sided >> use p_value/2 >> p_value_one_sided:0.0038\n",
            "Reject null hypothesis\n"
          ]
        }
      ],
      "source": [
        "ttest,p_value = stats.ttest_ind(sync,asyncr)\n",
        "print(\"p value:%.8f\" % p_value)\n",
        "print(\"since the hypothesis is one sided >> use p_value/2 >> p_value_one_sided:%.4f\" %(p_value/2))\n",
        "if p_value/2 <0.05:\n",
        "    print(\"Reject null hypothesis\")\n",
        "else:\n",
        "    print(\"Fail to reject null hypothesis\") "
      ]
    },
    {
      "cell_type": "markdown",
      "id": "a47a8e6c-598f-4837-97a9-5f12d958dd0e",
      "metadata": {
        "id": "a47a8e6c-598f-4837-97a9-5f12d958dd0e"
      },
      "source": [
        "**A este nivel de significación, existe evidencia suficiente para concluir que la nota media de los alumnos que siguen la asignatura de forma sincrónica es superior a la de los asincrónicos**\n",
        "\n",
        "--------"
      ]
    },
    {
      "cell_type": "markdown",
      "id": "6920da3c-a070-493e-a55c-9ff7c91d63d1",
      "metadata": {
        "id": "6920da3c-a070-493e-a55c-9ff7c91d63d1"
      },
      "source": [
        "## P2.\n",
        "Un pediatra quiere ver el efecto del consumo de fórmula en la ganancia de peso mensual promedio (en gramos) de los bebés. Por esta razón, recopiló datos de tres grupos diferentes. El primer grupo son los niños amamantados exclusivamente (reciben solo leche materna), el segundo grupo son los niños que se alimentan solo con fórmula y el último grupo son los niños amamantados y con fórmula. Estos datos son los siguientes\n",
        "\n",
        "only_breast=[794.1, 716.9, 993. , 724.7, 760.9, 908.2, 659.3 , 690.8, 768.7,\n",
        "       717.3 , 630.7, 729.5, 714.1, 810.3, 583.5, 679.9, 865.1]      \n",
        "   \n",
        "only_formula=[ 898.8,  881.2,  940.2,  966.2,  957.5, 1061.7, 1046.2,  980.4,\n",
        "        895.6,  919.7, 1074.1,  952.5,  796.3,  859.6,  871.1 , 1047.5,\n",
        "        919.1 , 1160.5,  996.9]     \n",
        "        \n",
        "both=[976.4, 656.4, 861.2, 706.8, 718.5, 717.1, 759.8, 894.6, 867.6,\n",
        "       805.6, 765.4, 800.3, 789.9, 875.3, 740. , 799.4, 790.3, 795.2 ,\n",
        "       823.6, 818.7, 926.8, 791.7, 948.3]  \n",
        "       \n",
        "**De acuerdo con esta información, realice la prueba de hipótesis para verificar si existe una diferencia entre la ganancia mensual promedio de estos tres grupos usando un nivel de significancia de 0.05. Si hay una diferencia significativa, realice un análisis adicional para encontrar la causa de la diferencia. Antes de realizar la prueba de hipótesis, verifique los supuestos relacionados. Comenta los resultados.**"
      ]
    },
    {
      "cell_type": "code",
      "execution_count": 12,
      "id": "1abcb71a-0743-4d59-8ee9-8d8d25a8cc79",
      "metadata": {
        "id": "1abcb71a-0743-4d59-8ee9-8d8d25a8cc79"
      },
      "outputs": [],
      "source": [
        "only_breast=np.array([794.1, 716.9, 993. , 724.7, 760.9, 908.2, 659.3 , 690.8, 768.7,\n",
        "       717.3 , 630.7, 729.5, 714.1, 810.3, 583.5, 679.9, 865.1])\n",
        "\n",
        "only_formula=np.array([ 898.8,  881.2,  940.2,  966.2,  957.5, 1061.7, 1046.2,  980.4,\n",
        "        895.6,  919.7, 1074.1,  952.5,  796.3,  859.6,  871.1 , 1047.5,\n",
        "        919.1 , 1160.5,  996.9])\n",
        "\n",
        "both=np.array([976.4, 656.4, 861.2, 706.8, 718.5, 717.1, 759.8, 894.6, 867.6,\n",
        "       805.6, 765.4, 800.3, 789.9, 875.3, 740. , 799.4, 790.3, 795.2 ,\n",
        "       823.6, 818.7, 926.8, 791.7, 948.3])"
      ]
    },
    {
      "cell_type": "code",
      "source": [
        "media_OB = only_breast.mean()\n",
        "print(media_OB)\n",
        "media_OF = only_formula.mean()\n",
        "print(media_OF)\n",
        "media_B = both.mean()\n",
        "print(media_B)"
      ],
      "metadata": {
        "colab": {
          "base_uri": "https://localhost:8080/"
        },
        "id": "EUzGQ3KVavoJ",
        "outputId": "94793fab-89dc-479f-fc76-0a13dc4b1db3"
      },
      "id": "EUzGQ3KVavoJ",
      "execution_count": 13,
      "outputs": [
        {
          "output_type": "stream",
          "name": "stdout",
          "text": [
            "749.8235294117648\n",
            "959.2157894736845\n",
            "809.9521739130436\n"
          ]
        }
      ]
    },
    {
      "cell_type": "markdown",
      "id": "068d0b45-345f-476d-be7a-5f0d726b86e6",
      "metadata": {
        "id": "068d0b45-345f-476d-be7a-5f0d726b86e6"
      },
      "source": [
        "- $ H_{0} $: Los datos se distribuyen normalmente.\n",
        "- $ H_{1} $: Los datos no se distribuyen normalmente."
      ]
    },
    {
      "cell_type": "code",
      "execution_count": 14,
      "id": "22a50ef3-592f-4004-9cf6-6fa6ccd86ec4",
      "metadata": {
        "id": "22a50ef3-592f-4004-9cf6-6fa6ccd86ec4",
        "outputId": "37a8a8cb-231b-4dda-92d7-a2d9c96aae95",
        "colab": {
          "base_uri": "https://localhost:8080/"
        }
      },
      "outputs": [
        {
          "output_type": "stream",
          "name": "stdout",
          "text": [
            "p value:0.4694\n",
            "Fail to reject null hypothesis >> The data is normally distributed\n",
            "p value:0.8879\n",
            "Fail to reject null hypothesis >> The data is normally distributed\n",
            "p value:0.7973\n",
            "Fail to reject null hypothesis >> The data is normally distributed\n"
          ]
        }
      ],
      "source": [
        "check_normality(only_breast)\n",
        "check_normality(only_formula)\n",
        "check_normality(both)"
      ]
    },
    {
      "cell_type": "markdown",
      "id": "eb1035d5-40fd-4dc2-bb1a-0ee0aeea6123",
      "metadata": {
        "id": "eb1035d5-40fd-4dc2-bb1a-0ee0aeea6123"
      },
      "source": [
        "- $H_{0}$: Las varianzas de las muestras son las mismas.\n",
        "- $H_{1}$: Las varianzas de las muestras son diferentes."
      ]
    },
    {
      "cell_type": "code",
      "execution_count": 15,
      "id": "fb110b24-f346-4429-a694-901455404823",
      "metadata": {
        "id": "fb110b24-f346-4429-a694-901455404823",
        "outputId": "5c1880b1-438b-4bb1-8122-017017e96324",
        "colab": {
          "base_uri": "https://localhost:8080/"
        }
      },
      "outputs": [
        {
          "output_type": "stream",
          "name": "stdout",
          "text": [
            "p value:0.7673\n",
            "Fail to reject null hypothesis >> The variances of the samples are same.\n"
          ]
        }
      ],
      "source": [
        "stat, pvalue_levene= stats.levene(only_breast,only_formula,both)\n",
        "\n",
        "print(\"p value:%.4f\" % pvalue_levene)\n",
        "if pvalue_levene <0.05:\n",
        "    print(\"Reject null hypothesis >> The variances of the samples are different.\")\n",
        "else:\n",
        "    print(\"Fail to reject null hypothesis >> The variances of the samples are same.\")"
      ]
    },
    {
      "cell_type": "markdown",
      "id": "52832a4a-3f1a-4834-8cb9-0b3cca65cb74",
      "metadata": {
        "id": "52832a4a-3f1a-4834-8cb9-0b3cca65cb74"
      },
      "source": [
        "- $H_{0}$: $\\mu_{1}= \\mu_{2}= \\mu_{3} $ **o** La media de las muestras es la misma.\n",
        "- $H_{1}$: Al menos uno de ellos es diferente."
      ]
    },
    {
      "cell_type": "code",
      "execution_count": 16,
      "id": "44853735-4d94-42b8-b5d9-932915ea2f75",
      "metadata": {
        "id": "44853735-4d94-42b8-b5d9-932915ea2f75",
        "outputId": "9d332ad7-9008-46b6-ddee-1e65e45db219",
        "colab": {
          "base_uri": "https://localhost:8080/"
        }
      },
      "outputs": [
        {
          "output_type": "stream",
          "name": "stdout",
          "text": [
            "p value:0.000000\n",
            "Reject null hypothesis\n"
          ]
        }
      ],
      "source": [
        "F, p_value = stats.f_oneway(only_breast,only_formula,both)\n",
        "print(\"p value:%.6f\" % p_value)\n",
        "if p_value <0.05:\n",
        "    print(\"Reject null hypothesis\")\n",
        "else:\n",
        "    print(\"Fail to reject null hypothesis\")"
      ]
    },
    {
      "cell_type": "markdown",
      "id": "f8802c38-988d-483f-b2cf-3434ae71f1cf",
      "metadata": {
        "id": "f8802c38-988d-483f-b2cf-3434ae71f1cf"
      },
      "source": [
        "**A este nivel de significación, se puede concluir que al menos uno de los grupos tiene una ganancia de peso promedio mensual diferente.**"
      ]
    },
    {
      "cell_type": "markdown",
      "id": "336ab76a-6dd1-46a9-aebe-7871b4280766",
      "metadata": {
        "id": "336ab76a-6dd1-46a9-aebe-7871b4280766"
      },
      "source": [
        "### post hoc // pairwise comparisons"
      ]
    },
    {
      "cell_type": "code",
      "execution_count": 17,
      "id": "2b17cf58-588b-40dd-9704-3856a60673fe",
      "metadata": {
        "id": "2b17cf58-588b-40dd-9704-3856a60673fe",
        "outputId": "6107acda-c2bc-49fc-a51f-292d08e572b2",
        "colab": {
          "base_uri": "https://localhost:8080/",
          "height": 0
        }
      },
      "outputs": [
        {
          "output_type": "execute_result",
          "data": {
            "text/plain": [
              "<pandas.io.formats.style.Styler at 0x7ff4ba7e11d0>"
            ],
            "text/html": [
              "<style type=\"text/css\">\n",
              "#T_4bf0f_row0_col0, #T_4bf0f_row0_col2, #T_4bf0f_row1_col1, #T_4bf0f_row2_col0, #T_4bf0f_row2_col2 {\n",
              "  background-color: white;\n",
              "}\n",
              "#T_4bf0f_row0_col1, #T_4bf0f_row1_col0, #T_4bf0f_row1_col2, #T_4bf0f_row2_col1 {\n",
              "  background-color: violet;\n",
              "}\n",
              "</style>\n",
              "<table id=\"T_4bf0f_\" class=\"dataframe\">\n",
              "  <thead>\n",
              "    <tr>\n",
              "      <th class=\"blank level0\" >&nbsp;</th>\n",
              "      <th class=\"col_heading level0 col0\" >only breast</th>\n",
              "      <th class=\"col_heading level0 col1\" >only formula</th>\n",
              "      <th class=\"col_heading level0 col2\" >both</th>\n",
              "    </tr>\n",
              "  </thead>\n",
              "  <tbody>\n",
              "    <tr>\n",
              "      <th id=\"T_4bf0f_level0_row0\" class=\"row_heading level0 row0\" >only breast</th>\n",
              "      <td id=\"T_4bf0f_row0_col0\" class=\"data row0 col0\" >1.000000</td>\n",
              "      <td id=\"T_4bf0f_row0_col1\" class=\"data row0 col1\" >0.000000</td>\n",
              "      <td id=\"T_4bf0f_row0_col2\" class=\"data row0 col2\" >0.129454</td>\n",
              "    </tr>\n",
              "    <tr>\n",
              "      <th id=\"T_4bf0f_level0_row1\" class=\"row_heading level0 row1\" >only formula</th>\n",
              "      <td id=\"T_4bf0f_row1_col0\" class=\"data row1 col0\" >0.000000</td>\n",
              "      <td id=\"T_4bf0f_row1_col1\" class=\"data row1 col1\" >1.000000</td>\n",
              "      <td id=\"T_4bf0f_row1_col2\" class=\"data row1 col2\" >0.000004</td>\n",
              "    </tr>\n",
              "    <tr>\n",
              "      <th id=\"T_4bf0f_level0_row2\" class=\"row_heading level0 row2\" >both</th>\n",
              "      <td id=\"T_4bf0f_row2_col0\" class=\"data row2 col0\" >0.129454</td>\n",
              "      <td id=\"T_4bf0f_row2_col1\" class=\"data row2 col1\" >0.000004</td>\n",
              "      <td id=\"T_4bf0f_row2_col2\" class=\"data row2 col2\" >1.000000</td>\n",
              "    </tr>\n",
              "  </tbody>\n",
              "</table>\n"
            ]
          },
          "metadata": {},
          "execution_count": 17
        }
      ],
      "source": [
        "# pip install scikit-posthocs\n",
        "# Pairwise T test for multiple comparisons of independent groups. May be used after a parametric ANOVA to do pairwise comparisons.\n",
        "\n",
        "import scikit_posthocs as sp\n",
        "posthoc_df= sp.posthoc_ttest([only_breast,only_formula,both], equal_var=True, p_adjust=\"bonferroni\")\n",
        "\n",
        "group_names= [\"only breast\", \"only formula\",\"both\"]\n",
        "posthoc_df.columns= group_names\n",
        "posthoc_df.index= group_names\n",
        "posthoc_df.style.applymap(lambda x: \"background-color:violet\" if x<0.05 else \"background-color: white\")"
      ]
    },
    {
      "cell_type": "markdown",
      "id": "8845fa14-62fe-4948-a317-b8054e53fe32",
      "metadata": {
        "id": "8845fa14-62fe-4948-a317-b8054e53fe32"
      },
      "source": [
        "**A este nivel de significación, se puede concluir que**\n",
        "- \"only breast\" es diferente que \"only formula\"\n",
        "- \"only formula\" es diferente con ambos \"only breast\" u \"both\"\n",
        "- \"both\" es diferente que \"only formula\""
      ]
    },
    {
      "cell_type": "code",
      "execution_count": 18,
      "id": "4fce1617-3e9a-4c98-84b8-8f7e7327be11",
      "metadata": {
        "id": "4fce1617-3e9a-4c98-84b8-8f7e7327be11",
        "colab": {
          "base_uri": "https://localhost:8080/",
          "height": 0
        },
        "outputId": "010996b3-fa8f-4389-93fc-2ef4835f5695"
      },
      "outputs": [
        {
          "output_type": "execute_result",
          "data": {
            "text/plain": [
              "       1      2      3\n",
              "1 1.0000 0.0000 0.0432\n",
              "2 0.0000 1.0000 0.0000\n",
              "3 0.0432 0.0000 1.0000"
            ],
            "text/html": [
              "\n",
              "  <div id=\"df-90bb1dbe-6454-40d8-91a3-b93ab6ecc72f\">\n",
              "    <div class=\"colab-df-container\">\n",
              "      <div>\n",
              "<style scoped>\n",
              "    .dataframe tbody tr th:only-of-type {\n",
              "        vertical-align: middle;\n",
              "    }\n",
              "\n",
              "    .dataframe tbody tr th {\n",
              "        vertical-align: top;\n",
              "    }\n",
              "\n",
              "    .dataframe thead th {\n",
              "        text-align: right;\n",
              "    }\n",
              "</style>\n",
              "<table border=\"1\" class=\"dataframe\">\n",
              "  <thead>\n",
              "    <tr style=\"text-align: right;\">\n",
              "      <th></th>\n",
              "      <th>1</th>\n",
              "      <th>2</th>\n",
              "      <th>3</th>\n",
              "    </tr>\n",
              "  </thead>\n",
              "  <tbody>\n",
              "    <tr>\n",
              "      <th>1</th>\n",
              "      <td>1.0000</td>\n",
              "      <td>0.0000</td>\n",
              "      <td>0.0432</td>\n",
              "    </tr>\n",
              "    <tr>\n",
              "      <th>2</th>\n",
              "      <td>0.0000</td>\n",
              "      <td>1.0000</td>\n",
              "      <td>0.0000</td>\n",
              "    </tr>\n",
              "    <tr>\n",
              "      <th>3</th>\n",
              "      <td>0.0432</td>\n",
              "      <td>0.0000</td>\n",
              "      <td>1.0000</td>\n",
              "    </tr>\n",
              "  </tbody>\n",
              "</table>\n",
              "</div>\n",
              "      <button class=\"colab-df-convert\" onclick=\"convertToInteractive('df-90bb1dbe-6454-40d8-91a3-b93ab6ecc72f')\"\n",
              "              title=\"Convert this dataframe to an interactive table.\"\n",
              "              style=\"display:none;\">\n",
              "        \n",
              "  <svg xmlns=\"http://www.w3.org/2000/svg\" height=\"24px\"viewBox=\"0 0 24 24\"\n",
              "       width=\"24px\">\n",
              "    <path d=\"M0 0h24v24H0V0z\" fill=\"none\"/>\n",
              "    <path d=\"M18.56 5.44l.94 2.06.94-2.06 2.06-.94-2.06-.94-.94-2.06-.94 2.06-2.06.94zm-11 1L8.5 8.5l.94-2.06 2.06-.94-2.06-.94L8.5 2.5l-.94 2.06-2.06.94zm10 10l.94 2.06.94-2.06 2.06-.94-2.06-.94-.94-2.06-.94 2.06-2.06.94z\"/><path d=\"M17.41 7.96l-1.37-1.37c-.4-.4-.92-.59-1.43-.59-.52 0-1.04.2-1.43.59L10.3 9.45l-7.72 7.72c-.78.78-.78 2.05 0 2.83L4 21.41c.39.39.9.59 1.41.59.51 0 1.02-.2 1.41-.59l7.78-7.78 2.81-2.81c.8-.78.8-2.07 0-2.86zM5.41 20L4 18.59l7.72-7.72 1.47 1.35L5.41 20z\"/>\n",
              "  </svg>\n",
              "      </button>\n",
              "      \n",
              "  <style>\n",
              "    .colab-df-container {\n",
              "      display:flex;\n",
              "      flex-wrap:wrap;\n",
              "      gap: 12px;\n",
              "    }\n",
              "\n",
              "    .colab-df-convert {\n",
              "      background-color: #E8F0FE;\n",
              "      border: none;\n",
              "      border-radius: 50%;\n",
              "      cursor: pointer;\n",
              "      display: none;\n",
              "      fill: #1967D2;\n",
              "      height: 32px;\n",
              "      padding: 0 0 0 0;\n",
              "      width: 32px;\n",
              "    }\n",
              "\n",
              "    .colab-df-convert:hover {\n",
              "      background-color: #E2EBFA;\n",
              "      box-shadow: 0px 1px 2px rgba(60, 64, 67, 0.3), 0px 1px 3px 1px rgba(60, 64, 67, 0.15);\n",
              "      fill: #174EA6;\n",
              "    }\n",
              "\n",
              "    [theme=dark] .colab-df-convert {\n",
              "      background-color: #3B4455;\n",
              "      fill: #D2E3FC;\n",
              "    }\n",
              "\n",
              "    [theme=dark] .colab-df-convert:hover {\n",
              "      background-color: #434B5C;\n",
              "      box-shadow: 0px 1px 3px 1px rgba(0, 0, 0, 0.15);\n",
              "      filter: drop-shadow(0px 1px 2px rgba(0, 0, 0, 0.3));\n",
              "      fill: #FFFFFF;\n",
              "    }\n",
              "  </style>\n",
              "\n",
              "      <script>\n",
              "        const buttonEl =\n",
              "          document.querySelector('#df-90bb1dbe-6454-40d8-91a3-b93ab6ecc72f button.colab-df-convert');\n",
              "        buttonEl.style.display =\n",
              "          google.colab.kernel.accessAllowed ? 'block' : 'none';\n",
              "\n",
              "        async function convertToInteractive(key) {\n",
              "          const element = document.querySelector('#df-90bb1dbe-6454-40d8-91a3-b93ab6ecc72f');\n",
              "          const dataTable =\n",
              "            await google.colab.kernel.invokeFunction('convertToInteractive',\n",
              "                                                     [key], {});\n",
              "          if (!dataTable) return;\n",
              "\n",
              "          const docLinkHtml = 'Like what you see? Visit the ' +\n",
              "            '<a target=\"_blank\" href=https://colab.research.google.com/notebooks/data_table.ipynb>data table notebook</a>'\n",
              "            + ' to learn more about interactive tables.';\n",
              "          element.innerHTML = '';\n",
              "          dataTable['output_type'] = 'display_data';\n",
              "          await google.colab.output.renderOutput(dataTable, element);\n",
              "          const docLink = document.createElement('div');\n",
              "          docLink.innerHTML = docLinkHtml;\n",
              "          element.appendChild(docLink);\n",
              "        }\n",
              "      </script>\n",
              "    </div>\n",
              "  </div>\n",
              "  "
            ]
          },
          "metadata": {},
          "execution_count": 18
        }
      ],
      "source": [
        "sp.posthoc_ttest([only_breast,only_formula,both], equal_var=True)"
      ]
    },
    {
      "cell_type": "markdown",
      "id": "b9823d16-7c42-445f-9f2f-c240af34ae70",
      "metadata": {
        "id": "b9823d16-7c42-445f-9f2f-c240af34ae70"
      },
      "source": [
        "-------\n",
        "## P3.\n",
        "Un especialista en recursos humanos que trabaja en una empresa de tecnología está interesado en el exceso de tiempo de trabajo de diferentes equipos. Para investigar si existe una diferencia entre las horas extra del equipo de desarrollo de software y el equipo de prueba, seleccionó aleatoriamente a 17 empleados en cada uno de los dos equipos y registró su tiempo extra de trabajo promedio semanal en términos de una hora. Los datos están abajo.\n",
        "\n",
        "test_team=[6.2,  7.1,  1.5,  2,3 ,  2,  1.5,  6.1,  2.4,  2.3, 12.4,  1.8,  5.3,  3.1, 9.4,  2.3, 4.1]    \n",
        "software_team=[2.3,  2.1,  1.4,  2.0, 8.7,  2.2,  3.1,  4.2,  3.6, 2.5,  3.1,  6.2, 12.1,  3.9,  2.2, 1.2 ,3.4]\n",
        "\n",
        "**De acuerdo con esta información, realice la prueba de hipótesis para comprobar si existe una diferencia entre el tiempo de exceso de trabajo de dos equipos utilizando un nivel de significancia de 0,05. Antes de realizar la prueba de hipótesis, verifique los supuestos relacionados. Comenta los resultados**"
      ]
    },
    {
      "cell_type": "code",
      "execution_count": 19,
      "id": "afd896ab-39b8-4fa2-a188-86e7706d54f6",
      "metadata": {
        "id": "afd896ab-39b8-4fa2-a188-86e7706d54f6"
      },
      "outputs": [],
      "source": [
        "test_team=np.array([6.2,  7.1,  1.5,  2,3 ,  2,  1.5,  6.1,  2.4,  2.3, 12.4,  1.8,  5.3,  3.1, 9.4,  2.3, 4.1])\n",
        "developer_team=np.array([2.3,  2.1,  1.4,  2.0, 8.7,  2.2,  3.1,  4.2,  3.6, 2.5,  3.1,  6.2, 12.1,  3.9,  2.2, 1.2 ,3.4])"
      ]
    },
    {
      "cell_type": "markdown",
      "id": "69375bca-0f3a-4a37-bf8b-c099521b96ee",
      "metadata": {
        "id": "69375bca-0f3a-4a37-bf8b-c099521b96ee"
      },
      "source": [
        "- $ H_{0} $: Los datos se distribuyen normalmente.\n",
        "- $ H_{1} $: Los datos no se distribuyen normalmente."
      ]
    },
    {
      "cell_type": "code",
      "execution_count": 20,
      "id": "9dcbc510-36a3-4b28-98fd-6c67be18a917",
      "metadata": {
        "id": "9dcbc510-36a3-4b28-98fd-6c67be18a917",
        "outputId": "50f233a0-2496-4dce-a9bf-5edbda4faec0",
        "colab": {
          "base_uri": "https://localhost:8080/"
        }
      },
      "outputs": [
        {
          "output_type": "stream",
          "name": "stdout",
          "text": [
            "p value:0.0046\n",
            "Reject null hypothesis >> The data is not normally distributed\n",
            "p value:0.0005\n",
            "Reject null hypothesis >> The data is not normally distributed\n"
          ]
        }
      ],
      "source": [
        "check_normality(test_team)\n",
        "check_normality(developer_team)"
      ]
    },
    {
      "cell_type": "markdown",
      "id": "3e832e78-9c7f-48b7-9b31-6850bb07a22b",
      "metadata": {
        "id": "3e832e78-9c7f-48b7-9b31-6850bb07a22b"
      },
      "source": [
        "- $H_{0}$: Las varianzas de las muestras son las mismas.\n",
        "- $H_{1}$: Las varianzas de las muestras son diferentes."
      ]
    },
    {
      "cell_type": "code",
      "execution_count": 21,
      "id": "b59c9a14-1416-4e0e-a508-9e39fe5a073a",
      "metadata": {
        "id": "b59c9a14-1416-4e0e-a508-9e39fe5a073a",
        "outputId": "6f33b590-a13c-41d6-ae64-028fd366c0bf",
        "colab": {
          "base_uri": "https://localhost:8080/"
        }
      },
      "outputs": [
        {
          "output_type": "stream",
          "name": "stdout",
          "text": [
            "p value:0.5410\n",
            "Fail to reject null hypothesis >> The variances of the samples are same.\n"
          ]
        }
      ],
      "source": [
        "check_variance_homogeneity(test_team, developer_team)"
      ]
    },
    {
      "cell_type": "markdown",
      "id": "a8a1342a-22d8-4e3a-ad2a-6616509a588d",
      "metadata": {
        "id": "a8a1342a-22d8-4e3a-ad2a-6616509a588d"
      },
      "source": [
        "- $H_{0}$: $\\mu_{1}= \\mu_{2}$ **o** $\\mu_{1}- \\mu_{2} = 0 $ **o** La media de las muestras son idénticos.\n",
        "- $H_{1}$: $\\mu_{1} \\neq \\mu_{2}$ **o** $\\mu_{1}- \\mu_{2} \\neq 0 $ **o** La media de las muestras son diferentes."
      ]
    },
    {
      "cell_type": "code",
      "execution_count": 22,
      "id": "88f9d15e-cd09-4dce-abce-58b42c13ef5d",
      "metadata": {
        "id": "88f9d15e-cd09-4dce-abce-58b42c13ef5d",
        "outputId": "4857475e-c97b-49d3-dc89-faf60f80e222",
        "colab": {
          "base_uri": "https://localhost:8080/"
        }
      },
      "outputs": [
        {
          "output_type": "stream",
          "name": "stdout",
          "text": [
            "p-value:0.8226\n",
            "Fail to recejt null hypothesis\n"
          ]
        }
      ],
      "source": [
        "ttest,pvalue = stats.mannwhitneyu(test_team,developer_team, alternative=\"two-sided\")\n",
        "print(\"p-value:%.4f\" % pvalue)\n",
        "if pvalue <0.05:\n",
        "    print(\"Reject null hypothesis\")\n",
        "else:\n",
        "    print(\"Fail to recejt null hypothesis\")"
      ]
    },
    {
      "cell_type": "markdown",
      "id": "ea66d3bb-5939-4d6d-ac4c-d8556c22b4b7",
      "metadata": {
        "id": "ea66d3bb-5939-4d6d-ac4c-d8556c22b4b7"
      },
      "source": [
        "**A este nivel de significancia, se puede decir que no existe una diferencia estadísticamente significativa entre el tiempo de exceso de trabajo promedio de los dos equipos.**"
      ]
    },
    {
      "cell_type": "markdown",
      "id": "7ed2a73c-802d-4f07-8bc3-2c3b3ec7496b",
      "metadata": {
        "id": "7ed2a73c-802d-4f07-8bc3-2c3b3ec7496b"
      },
      "source": [
        "--------\n",
        "## P4.\n",
        "\n",
        "Una empresa de comercio electrónico anuncia regularmente sus campañas en YouTube, Instagram y Facebook. Sin embargo, el nuevo gerente tenía curiosidad sobre si había alguna diferencia entre la cantidad de clientes atraídos por estas plataformas. Por eso, empezó a usar Adjust, una aplicación que te permite saber de dónde vienen tus usuarios. Los números diarios informados por Adjust para cada plataforma son los siguientes.\n",
        "\n",
        "youtube=[1913, 1879, 1939, 2146, 2040, 2127, 2122, 2156, 2036, 1974, 1956, 2146, 2151, 1943, 2125]\n",
        "       \n",
        "instagram = [2305., 2355., 2203., 2231., 2185., 2420., 2386., 2410., 2340., 2349., 2241., 2396., 2244., 2267., 2281.]     \n",
        "       \n",
        "facebook = [2133., 2522., 2124., 2551., 2293., 2367., 2460., 2311., 2178., 2113., 2048., 2443., 2265., 2095., 2528.]          "
      ]
    },
    {
      "cell_type": "code",
      "execution_count": 23,
      "id": "0eb4f391-d978-41d9-b8ee-b362cbc403fe",
      "metadata": {
        "id": "0eb4f391-d978-41d9-b8ee-b362cbc403fe"
      },
      "outputs": [],
      "source": [
        "youtube=np.array([1913, 1879, 1939, 2146, 2040, 2127, 2122, 2156, 2036, 1974, 1956,\n",
        "       2146, 2151, 1943, 2125])\n",
        "       \n",
        "instagram =  np.array([2305., 2355., 2203., 2231., 2185., 2420., 2386., 2410., 2340.,\n",
        "       2349., 2241., 2396., 2244., 2267., 2281.])\n",
        "       \n",
        "facebook = np.array([2133., 2522., 2124., 2551., 2293., 2367., 2460., 2311., 2178.,\n",
        "       2113., 2048., 2443., 2265., 2095., 2528.]) "
      ]
    },
    {
      "cell_type": "markdown",
      "id": "2cb44a4f-8607-4db7-9c0b-de5ac2182eef",
      "metadata": {
        "id": "2cb44a4f-8607-4db7-9c0b-de5ac2182eef"
      },
      "source": [
        "- $H_{0}$: los datos se distribuyen normalmente.\n",
        "- $H_{1}$: los datos no se distribuyen normalmente."
      ]
    },
    {
      "cell_type": "code",
      "execution_count": 24,
      "id": "23514f87-35bb-40a6-9c26-8572922eac2c",
      "metadata": {
        "id": "23514f87-35bb-40a6-9c26-8572922eac2c",
        "outputId": "87023f5d-7f26-4ccc-a04b-9cd64a18395b",
        "colab": {
          "base_uri": "https://localhost:8080/"
        }
      },
      "outputs": [
        {
          "output_type": "stream",
          "name": "stdout",
          "text": [
            "p value:0.0285\n",
            "Reject null hypothesis >> The data is not normally distributed\n",
            "p value:0.4156\n",
            "Fail to reject null hypothesis >> The data is normally distributed\n",
            "p value:0.1716\n",
            "Fail to reject null hypothesis >> The data is normally distributed\n"
          ]
        }
      ],
      "source": [
        "check_normality(youtube)\n",
        "check_normality(instagram)\n",
        "check_normality(facebook)"
      ]
    },
    {
      "cell_type": "markdown",
      "id": "48ba7cf8-f0e6-47d0-8fe5-6d73881d6d94",
      "metadata": {
        "id": "48ba7cf8-f0e6-47d0-8fe5-6d73881d6d94"
      },
      "source": [
        "- $H_{0}$: Las varianzas de las muestras son las mismas.\n",
        "- $H_{1}$: Las varianzas de las muestras son diferentes."
      ]
    },
    {
      "cell_type": "code",
      "execution_count": 25,
      "id": "a96cdc17-bee6-4b26-9ed8-0af5b1123040",
      "metadata": {
        "id": "a96cdc17-bee6-4b26-9ed8-0af5b1123040",
        "outputId": "479598e2-6313-41c4-b4a6-19500a91a106",
        "colab": {
          "base_uri": "https://localhost:8080/"
        }
      },
      "outputs": [
        {
          "output_type": "stream",
          "name": "stdout",
          "text": [
            "p value:0.0012\n",
            "Reject null hypothesis >> The variances of the samples are different.\n"
          ]
        }
      ],
      "source": [
        "stat, pvalue_levene= stats.levene(youtube, instagram, facebook)\n",
        "\n",
        "print(\"p value:%.4f\" % pvalue_levene)\n",
        "if pvalue_levene <0.05:\n",
        "    print(\"Reject null hypothesis >> The variances of the samples are different.\")\n",
        "else:\n",
        "    print(\"Fail to reject null hypothesis >> The variances of the samples are same.\")"
      ]
    },
    {
      "cell_type": "markdown",
      "id": "0533008a-5ff3-415a-a479-4c3140407148",
      "metadata": {
        "id": "0533008a-5ff3-415a-a479-4c3140407148"
      },
      "source": [
        "- $H_{0}$: $\\mu_{1}= \\mu_{2}= \\mu_{3} $ **o** La media de las muestras es la misma.\n",
        "- $H_{1}$: Al menos uno de ellos es diferente."
      ]
    },
    {
      "cell_type": "code",
      "execution_count": 26,
      "id": "edced263-e6a0-4830-b449-26e3885fd1a7",
      "metadata": {
        "id": "edced263-e6a0-4830-b449-26e3885fd1a7",
        "outputId": "e2f55db2-6802-4c97-98ce-309ce9a80c9c",
        "colab": {
          "base_uri": "https://localhost:8080/"
        }
      },
      "outputs": [
        {
          "output_type": "stream",
          "name": "stdout",
          "text": [
            "p value:0.000015\n",
            "Reject null hypothesis\n"
          ]
        }
      ],
      "source": [
        "F, p_value = stats.kruskal(youtube, instagram, facebook)\n",
        "print(\"p value:%.6f\" % p_value)\n",
        "if p_value <0.05:\n",
        "    print(\"Reject null hypothesis\")\n",
        "else:\n",
        "    print(\"Fail to reject null hypothesis\")"
      ]
    },
    {
      "cell_type": "markdown",
      "id": "4f8569ea-87e4-4a9c-8a69-db88a3f3353c",
      "metadata": {
        "id": "4f8569ea-87e4-4a9c-8a69-db88a3f3353c"
      },
      "source": [
        "En este nivel de significación, al menos uno de los números promedio de adquisición de clientes es diferente.\n",
        "\n",
        "**Nota:** Dado que los datos no son normales, se utiliza una versión no paramétrica de la prueba posthoc."
      ]
    },
    {
      "cell_type": "code",
      "execution_count": 27,
      "id": "d2caaea2-1955-4e82-9e61-c2add48aa3c9",
      "metadata": {
        "id": "d2caaea2-1955-4e82-9e61-c2add48aa3c9",
        "outputId": "fb95ce61-0384-439b-e1fa-27cc79672420",
        "colab": {
          "base_uri": "https://localhost:8080/",
          "height": 0
        }
      },
      "outputs": [
        {
          "output_type": "execute_result",
          "data": {
            "text/plain": [
              "<pandas.io.formats.style.Styler at 0x7ff4b89d7b50>"
            ],
            "text/html": [
              "<style type=\"text/css\">\n",
              "#T_b7180_row0_col0, #T_b7180_row1_col1, #T_b7180_row1_col2, #T_b7180_row2_col1, #T_b7180_row2_col2 {\n",
              "  background-color: white;\n",
              "}\n",
              "#T_b7180_row0_col1, #T_b7180_row0_col2, #T_b7180_row1_col0, #T_b7180_row2_col0 {\n",
              "  background-color: violet;\n",
              "}\n",
              "</style>\n",
              "<table id=\"T_b7180_\" class=\"dataframe\">\n",
              "  <thead>\n",
              "    <tr>\n",
              "      <th class=\"blank level0\" >&nbsp;</th>\n",
              "      <th class=\"col_heading level0 col0\" >youtube</th>\n",
              "      <th class=\"col_heading level0 col1\" >instagram</th>\n",
              "      <th class=\"col_heading level0 col2\" >facebook</th>\n",
              "    </tr>\n",
              "  </thead>\n",
              "  <tbody>\n",
              "    <tr>\n",
              "      <th id=\"T_b7180_level0_row0\" class=\"row_heading level0 row0\" >youtube</th>\n",
              "      <td id=\"T_b7180_row0_col0\" class=\"data row0 col0\" >1.000000</td>\n",
              "      <td id=\"T_b7180_row0_col1\" class=\"data row0 col1\" >0.000010</td>\n",
              "      <td id=\"T_b7180_row0_col2\" class=\"data row0 col2\" >0.002337</td>\n",
              "    </tr>\n",
              "    <tr>\n",
              "      <th id=\"T_b7180_level0_row1\" class=\"row_heading level0 row1\" >instagram</th>\n",
              "      <td id=\"T_b7180_row1_col0\" class=\"data row1 col0\" >0.000010</td>\n",
              "      <td id=\"T_b7180_row1_col1\" class=\"data row1 col1\" >1.000000</td>\n",
              "      <td id=\"T_b7180_row1_col2\" class=\"data row1 col2\" >1.000000</td>\n",
              "    </tr>\n",
              "    <tr>\n",
              "      <th id=\"T_b7180_level0_row2\" class=\"row_heading level0 row2\" >facebook</th>\n",
              "      <td id=\"T_b7180_row2_col0\" class=\"data row2 col0\" >0.002337</td>\n",
              "      <td id=\"T_b7180_row2_col1\" class=\"data row2 col1\" >1.000000</td>\n",
              "      <td id=\"T_b7180_row2_col2\" class=\"data row2 col2\" >1.000000</td>\n",
              "    </tr>\n",
              "  </tbody>\n",
              "</table>\n"
            ]
          },
          "metadata": {},
          "execution_count": 27
        }
      ],
      "source": [
        "posthoc_df = sp.posthoc_mannwhitney([youtube,instagram, facebook], p_adjust = 'bonferroni')\n",
        "group_names= [\"youtube\", \"instagram\",\"facebook\"]\n",
        "posthoc_df.columns= group_names\n",
        "posthoc_df.index= group_names\n",
        "posthoc_df.style.applymap(lambda x: \"background-color:violet\" if x<0.05 else \"background-color: white\")"
      ]
    },
    {
      "cell_type": "markdown",
      "id": "1a06307a-6c7f-49e5-95b2-ea66446a569e",
      "metadata": {
        "id": "1a06307a-6c7f-49e5-95b2-ea66446a569e"
      },
      "source": [
        "**El número promedio de clientes que provienen de YouTube es diferente al de los demás (en realidad, más pequeño que los demás).**\n",
        "\n",
        "-------------------"
      ]
    },
    {
      "cell_type": "markdown",
      "id": "e5717a45-88fd-49a1-a1b2-22b27b649e04",
      "metadata": {
        "id": "e5717a45-88fd-49a1-a1b2-22b27b649e04"
      },
      "source": [
        "## P5.\n",
        "\n",
        "El Centro de Salud METU diagnosticó a dieciocho estudiantes con colesterol alto en el semestre anterior. El personal de atención médica les informó a estos pacientes sobre los peligros del colesterol alto y les prescribió un programa de dieta. Un mes después, los pacientes acudieron para control y se volvió a examinar su nivel de colesterol. Pruebe si hay una diferencia en los niveles de colesterol de los pacientes.\n",
        "\n",
        "**De acuerdo con esta información, realice la prueba de hipótesis para verificar si hay una disminución en los niveles de colesterol de los pacientes después de la dieta utilizando un nivel de significancia de 0.05. Antes de realizar la prueba de hipótesis, verifique los supuestos relacionados. Comenta los resultados**\n",
        "\n",
        "test_results_before_diet=[224, 235, 223, 253, 253, 224, 244, 225, 259, 220, 242, 240, 239, 229, 276, 254, 237, 227]  \n",
        "test_results_after_diet=[198, 195, 213, 190, 246, 206, 225, 199, 214, 210, 188, 205, 200, 220, 190, 199, 191, 218]"
      ]
    },
    {
      "cell_type": "markdown",
      "id": "b7891668-01fa-44e9-9771-0ea54b4cbba7",
      "metadata": {
        "id": "b7891668-01fa-44e9-9771-0ea54b4cbba7"
      },
      "source": [
        "## Supuestos\n",
        "- La variable dependiente debe ser continua (intervalo/razón)\n",
        "- Las observaciones son independientes entre sí\n",
        "- La variable dependiente debe tener una distribución aproximadamente normal"
      ]
    },
    {
      "cell_type": "code",
      "execution_count": 28,
      "id": "8bfed26f-592c-490a-9f00-a9c630c1fcb4",
      "metadata": {
        "id": "8bfed26f-592c-490a-9f00-a9c630c1fcb4"
      },
      "outputs": [],
      "source": [
        "test_results_before_diet=np.array([224, 235, 223, 253, 253, 224, 244, 225, 259, 220, 242, 240, 239, 229, 276, 254, 237, 227])\n",
        "test_results_after_diet=np.array([198, 195, 213, 190, 246, 206, 225, 199, 214, 210, 188, 205, 200, 220, 190, 199, 191, 218])"
      ]
    },
    {
      "cell_type": "markdown",
      "id": "e695778d-95fa-4779-b3b4-c2f089da746f",
      "metadata": {
        "id": "e695778d-95fa-4779-b3b4-c2f089da746f"
      },
      "source": [
        "- $H_{0}$: los datos se distribuyen normalmente.\n",
        "- $H_{1}$: los datos no se distribuyen normalmente."
      ]
    },
    {
      "cell_type": "code",
      "execution_count": 29,
      "id": "31095b4c-da1f-4149-a518-2efc99edf292",
      "metadata": {
        "id": "31095b4c-da1f-4149-a518-2efc99edf292",
        "outputId": "9f691c28-5d25-479d-9253-08639d665125",
        "colab": {
          "base_uri": "https://localhost:8080/"
        }
      },
      "outputs": [
        {
          "output_type": "stream",
          "name": "stdout",
          "text": [
            "p value:0.1635\n",
            "Fail to reject null hypothesis >> The data is normally distributed\n",
            "p value:0.1003\n",
            "Fail to reject null hypothesis >> The data is normally distributed\n"
          ]
        }
      ],
      "source": [
        "check_normality(test_results_before_diet)\n",
        "check_normality(test_results_after_diet)"
      ]
    },
    {
      "cell_type": "markdown",
      "id": "a696d2f7-613b-4405-850c-09135768e222",
      "metadata": {
        "id": "a696d2f7-613b-4405-850c-09135768e222"
      },
      "source": [
        "- $H_{0}$: $\\mu_{d}>= 0 $ **o** La verdadera diferencia media es igual o mayor que cero.\n",
        "- $H_{1}$: $\\mu_{d}< 0 $ **o** La verdadera diferencia media es menor que cero."
      ]
    },
    {
      "cell_type": "code",
      "execution_count": 30,
      "id": "70c0d3e5-ac8b-4941-a697-10d830b4acb3",
      "metadata": {
        "id": "70c0d3e5-ac8b-4941-a697-10d830b4acb3",
        "outputId": "c8308b93-33b3-4782-9b7f-2e32c54e7874",
        "colab": {
          "base_uri": "https://localhost:8080/"
        }
      },
      "outputs": [
        {
          "output_type": "stream",
          "name": "stdout",
          "text": [
            "p value:0.000008 one tailed p value:0.000004\n",
            "Reject null hypothesis\n"
          ]
        }
      ],
      "source": [
        "test_stat, p_value_paired = stats.ttest_rel(test_results_before_diet,test_results_after_diet)\n",
        "print(\"p value:%.6f\" % p_value_paired , \"one tailed p value:%.6f\" %(p_value_paired/2))\n",
        "if p_value_paired <0.05:\n",
        "    print(\"Reject null hypothesis\")\n",
        "else:\n",
        "    print(\"Fail to reject null hypothesis\")"
      ]
    },
    {
      "cell_type": "markdown",
      "id": "4982bb0a-68c7-4b3b-91df-d63e65fba819",
      "metadata": {
        "id": "4982bb0a-68c7-4b3b-91df-d63e65fba819"
      },
      "source": [
        " **En este nivel de significación, hay evidencia suficiente para concluir que el nivel medio de colesterol de los pacientes ha disminuido después de la dieta.**\n",
        "\n",
        "-----"
      ]
    },
    {
      "cell_type": "markdown",
      "id": "61ca16f7-d71f-48ce-ade7-b0c83f03c6b4",
      "metadata": {
        "id": "61ca16f7-d71f-48ce-ade7-b0c83f03c6b4"
      },
      "source": [
        "## P6.\n",
        "Un capitalista de riesgo quería invertir en una startup que proporciona compresión de datos sin pérdida de calidad, pero hay dos competidores: PiedPiper y EndFrame. Inicialmente, creía que el rendimiento de EndFrame podría ser mejor, pero aun así quería probarlo antes de la inversión. Luego, entregó los mismos archivos a cada empresa para que los comprimieran y registraran sus puntajes de desempeño. Los datos están abajo.\n",
        "    \n",
        "piedpiper=[4.57, 4.55, 5.47, 4.67, 5.41, 5.55, 5.53, 5.63, 3.86, 3.97, 5.44, 3.93, 5.31, 5.17, 4.39, 4.28, 5.25]     \n",
        "endframe = [4.27, 3.93, 4.01, 4.07, 3.87, 4.  , 4.  , 3.72, 4.16, 4.1 , 3.9 , 3.97, 4.08, 3.96, 3.96, 3.77, 4.09]\n",
        "\n",
        "\n",
        "**De acuerdo con esta información, realice las pruebas de hipótesis relacionadas utilizando un nivel de significación de 0,05. Antes de realizar la prueba de hipótesis, verifique los supuestos relacionados. Comenta los resultados.**"
      ]
    },
    {
      "cell_type": "markdown",
      "id": "cf02bf9d-124b-48f8-aa7c-07c4e3176274",
      "metadata": {
        "id": "cf02bf9d-124b-48f8-aa7c-07c4e3176274"
      },
      "source": [
        "## Supuestos\n",
        "- La variable dependiente debe ser continua (intervalo/razón)\n",
        "- Las observaciones son independientes entre sí\n",
        "- La variable dependiente debe tener una distribución aproximadamente normal"
      ]
    },
    {
      "cell_type": "markdown",
      "id": "0925fc7a-d032-4b41-975d-8ddecfb2b08e",
      "metadata": {
        "id": "0925fc7a-d032-4b41-975d-8ddecfb2b08e"
      },
      "source": [
        "- $H_{0}$: los datos se distribuyen normalmente.\n",
        "- $H_{1}$: los datos no se distribuyen normalmente.\n",
        "\n",
        "Suponga que alfa = 0.05 Si el valor p es> 0.05, se puede decir que los datos tienen una distribución normal."
      ]
    },
    {
      "cell_type": "code",
      "execution_count": 31,
      "id": "340b370e-4e26-43c7-83f9-0d9d2291dea5",
      "metadata": {
        "id": "340b370e-4e26-43c7-83f9-0d9d2291dea5",
        "outputId": "beedfc33-c6df-4756-c17c-487777b9b9f6",
        "colab": {
          "base_uri": "https://localhost:8080/"
        }
      },
      "outputs": [
        {
          "output_type": "stream",
          "name": "stdout",
          "text": [
            "p value:0.0304\n",
            "Reject null hypothesis >> The data is not normally distributed\n",
            "p value:0.9587\n",
            "Fail to reject null hypothesis >> The data is normally distributed\n"
          ]
        }
      ],
      "source": [
        "piedpiper=np.array([4.57, 4.55, 5.47, 4.67, 5.41, 5.55, 5.53, 5.63, 3.86, 3.97, 5.44, 3.93, 5.31, 5.17, 4.39, 4.28, 5.25])\n",
        "endframe = np.array([4.27, 3.93, 4.01, 4.07, 3.87, 4.  , 4.  , 3.72, 4.16, 4.1 , 3.9 , 3.97, 4.08, 3.96, 3.96, 3.77, 4.09])\n",
        "check_normality(piedpiper)\n",
        "check_normality(endframe)"
      ]
    },
    {
      "cell_type": "markdown",
      "id": "27a7dfe1-e1b3-4ccf-9a1a-2d31db50bcfa",
      "metadata": {
        "id": "27a7dfe1-e1b3-4ccf-9a1a-2d31db50bcfa"
      },
      "source": [
        "- $H_{0}$: $\\mu_{d} >= 0 $ **o** La verdadera diferencia media es igual o mayor que cero.\n",
        "- $H_{1}$: $\\mu_{d} < 0 $ **o** La verdadera diferencia media es menor que cero."
      ]
    },
    {
      "cell_type": "code",
      "execution_count": 32,
      "id": "a50efce1-4f5e-4c54-a92c-814d3069d8ef",
      "metadata": {
        "id": "a50efce1-4f5e-4c54-a92c-814d3069d8ef",
        "outputId": "bfcff334-fefa-4cc7-aaa0-2ed555f6cc09",
        "colab": {
          "base_uri": "https://localhost:8080/"
        }
      },
      "outputs": [
        {
          "output_type": "stream",
          "name": "stdout",
          "text": [
            "p-value:0.000214 >> one_tailed_pval:0.000107\n",
            "one sided pvalue:0.000107\n",
            "Reject null hypothesis\n"
          ]
        }
      ],
      "source": [
        "test,pvalue = stats.wilcoxon(endframe,piedpiper) ##alternative default two sided\n",
        "print(\"p-value:%.6f\" %pvalue, \">> one_tailed_pval:%.6f\" %(pvalue/2))\n",
        "\n",
        "test,one_sided_pvalue = stats.wilcoxon(endframe,piedpiper, alternative=\"less\")\n",
        "print(\"one sided pvalue:%.6f\" %(one_sided_pvalue))\n",
        "if pvalue <0.05:\n",
        "    print(\"Reject null hypothesis\")\n",
        "else:\n",
        "    print(\"Fail to recejt null hypothesis\")"
      ]
    },
    {
      "cell_type": "markdown",
      "id": "e9bc8244-e8fe-4823-93b8-ee5f252cb62d",
      "metadata": {
        "id": "e9bc8244-e8fe-4823-93b8-ee5f252cb62d"
      },
      "source": [
        "**Rechazar $H_{0}$ >> En este nivel de significación, hay evidencia suficiente para concluir que el rendimiento de PiedPaper es mejor que el de EndFrame.**"
      ]
    },
    {
      "cell_type": "markdown",
      "id": "bbbe54ac-4521-49c1-8d8f-daa746a7371a",
      "metadata": {
        "id": "bbbe54ac-4521-49c1-8d8f-daa746a7371a"
      },
      "source": [
        "----\n",
        "\n",
        "## P7.\n",
        "\n",
        "Una investigadora tenía curiosidad acerca de si existe una diferencia entre la metodología que desarrolló, C, y los métodos de referencia A y B en términos de rendimiento. Por lo tanto, decidió diseñar diferentes experimentos y registró la precisión alcanzada por cada método. La siguiente tabla muestra la precisión alcanzada en los conjuntos de prueba por cada método. Tenga en cuenta que se utilizaron los mismos conjuntos de prueba y entrenamiento para cada método."
      ]
    },
    {
      "cell_type": "markdown",
      "id": "a20131b7-2d5b-44d3-b521-9caa88ec5174",
      "metadata": {
        "id": "a20131b7-2d5b-44d3-b521-9caa88ec5174"
      },
      "source": [
        "| Experiment |   A  |   B  |   C  |\n",
        "|:----------:|:----:|:----:|:----:|\n",
        "|     E1     | 89.8 | 90.0 | 91.5 |\n",
        "|     E2     | 89.9 | 90.1 | 90.7 |\n",
        "|     E3     | 88.6 | 88.8 | 90.3 |\n",
        "|     E4     | 88.7 | 88.9 | 90.4 |\n",
        "|     E5     | 89.6 | 89.9 | 90.2 |\n",
        "|     E6     | 89.7 | 90.0 | 90.3 |\n",
        "|     E7     | 89.2 | 89.0 | 90.2 |\n",
        "|     E8     | 89.3 | 89.2 | 90.3 | "
      ]
    },
    {
      "cell_type": "markdown",
      "id": "90ff2e99-7eaa-4b4c-8728-2956154dbf71",
      "metadata": {
        "id": "90ff2e99-7eaa-4b4c-8728-2956154dbf71"
      },
      "source": [
        "**De acuerdo con esta información, realice la prueba de hipótesis para verificar si existe una diferencia entre el rendimiento de los métodos usando un nivel de significancia de 0.05. Si hay una diferencia significativa, realice un análisis adicional para encontrar cuál causó la diferencia. Antes de realizar la prueba de hipótesis, verifique los supuestos relacionados. Comenta los resultados.**"
      ]
    },
    {
      "cell_type": "markdown",
      "id": "1b6c19e2-8d30-4ec3-9760-41e49a370454",
      "metadata": {
        "id": "1b6c19e2-8d30-4ec3-9760-41e49a370454"
      },
      "source": [
        "## Supuestos\n",
        "- Las observaciones en cada muestra son independientes e idénticamente distribuidas (iid).\n",
        "- Las observaciones en cada muestra se distribuyen normalmente.\n",
        "- Las observaciones en cada muestra tienen la misma varianza.\n",
        "\n",
        "\n",
        "    \n",
        "- $H_{0}$: los datos se distribuyen normalmente.\n",
        "- $H_{1}$: los datos no se distribuyen normalmente"
      ]
    },
    {
      "cell_type": "code",
      "execution_count": 33,
      "id": "d73081be-eb32-4b2d-b456-a153e756ed46",
      "metadata": {
        "id": "d73081be-eb32-4b2d-b456-a153e756ed46",
        "outputId": "08c79765-1c1c-460b-b8cb-cd9a602991f2",
        "colab": {
          "base_uri": "https://localhost:8080/"
        }
      },
      "outputs": [
        {
          "output_type": "stream",
          "name": "stdout",
          "text": [
            "p value:0.3076\n",
            "Fail to reject null hypothesis >> The data is normally distributed\n",
            "p value:0.0515\n",
            "Fail to reject null hypothesis >> The data is normally distributed\n",
            "p value:0.0016\n",
            "Reject null hypothesis >> The data is not normally distributed\n"
          ]
        }
      ],
      "source": [
        "method_A = np.array([89.8, 89.9, 88.6, 88.7, 89.6, 89.7, 89.2, 89.3])\n",
        "method_B =   np.array([90.0, 90.1, 88.8, 88.9, 89.9, 90.0, 89.0, 89.2])\n",
        "method_C = np.array([91.5, 90.7, 90.3, 90.4, 90.2, 90.3, 90.2, 90.3])\n",
        "\n",
        "check_normality(method_A)\n",
        "check_normality(method_B)\n",
        "check_normality(method_C)"
      ]
    },
    {
      "cell_type": "markdown",
      "id": "050c9661-5158-4931-bc06-3cc9101910a7",
      "metadata": {
        "id": "050c9661-5158-4931-bc06-3cc9101910a7"
      },
      "source": [
        "- $H_{0}$: Las varianzas de las muestras son las mismas.\n",
        "- $H_{1}$: Las varianzas de las muestras son diferentes."
      ]
    },
    {
      "cell_type": "code",
      "execution_count": 34,
      "id": "f2ddd1ce-2b5d-4fc1-a27d-b6f571c070d4",
      "metadata": {
        "id": "f2ddd1ce-2b5d-4fc1-a27d-b6f571c070d4",
        "outputId": "5f6f66ba-9bb3-4f32-f328-70000460d9d4",
        "colab": {
          "base_uri": "https://localhost:8080/"
        }
      },
      "outputs": [
        {
          "output_type": "stream",
          "name": "stdout",
          "text": [
            "p value:0.1953\n",
            "Fail to reject null hypothesis >> The variances of the samples are same.\n"
          ]
        }
      ],
      "source": [
        "stat, pvalue_levene= stats.levene(method_A, method_B, method_C)\n",
        "\n",
        "print(\"p value:%.4f\" % pvalue_levene)\n",
        "if pvalue_levene <0.05:\n",
        "    print(\"Reject null hypothesis >> The variances of the samples are different.\")\n",
        "else:\n",
        "    print(\"Fail to reject null hypothesis >> The variances of the samples are same.\")"
      ]
    },
    {
      "cell_type": "code",
      "execution_count": 35,
      "id": "37d5e449-2f6c-4268-adb1-2ef51d6a3f13",
      "metadata": {
        "id": "37d5e449-2f6c-4268-adb1-2ef51d6a3f13",
        "outputId": "128dd1ed-e943-422f-bef8-5c62d1631896",
        "colab": {
          "base_uri": "https://localhost:8080/"
        }
      },
      "outputs": [
        {
          "output_type": "stream",
          "name": "stdout",
          "text": [
            "p value:0.0015\n",
            "Reject null hypothesis\n",
            "89.35 89.49 90.49\n"
          ]
        }
      ],
      "source": [
        "test_stat,p_value = stats.friedmanchisquare(method_A,method_B, method_C)\n",
        "print(\"p value:%.4f\" % p_value)\n",
        "if p_value <0.05:\n",
        "    print(\"Reject null hypothesis\")\n",
        "else:\n",
        "    print(\"Fail to reject null hypothesis\")\n",
        "    \n",
        "print(np.round(np.mean(method_A),2), np.round(np.mean(method_B),2), np.round(np.mean(method_C),2))     "
      ]
    },
    {
      "cell_type": "markdown",
      "id": "ea27e112-4aa2-4273-9af5-d5cdde8389f5",
      "metadata": {
        "id": "ea27e112-4aa2-4273-9af5-d5cdde8389f5"
      },
      "source": [
        "### posthoc"
      ]
    },
    {
      "cell_type": "code",
      "execution_count": 36,
      "id": "548efff2-1410-4bed-a5e9-68feb995dc67",
      "metadata": {
        "id": "548efff2-1410-4bed-a5e9-68feb995dc67",
        "outputId": "9ef8a876-b86e-4444-b451-c4526540a624",
        "colab": {
          "base_uri": "https://localhost:8080/",
          "height": 143
        }
      },
      "outputs": [
        {
          "output_type": "execute_result",
          "data": {
            "text/plain": [
              "<pandas.io.formats.style.Styler at 0x7ff4b8d1cb90>"
            ],
            "text/html": [
              "<style type=\"text/css\">\n",
              "#T_dcb68_row0_col0, #T_dcb68_row0_col1, #T_dcb68_row1_col0, #T_dcb68_row1_col1, #T_dcb68_row2_col2 {\n",
              "  background-color: white;\n",
              "}\n",
              "#T_dcb68_row0_col2, #T_dcb68_row1_col2, #T_dcb68_row2_col0, #T_dcb68_row2_col1 {\n",
              "  background-color: violet;\n",
              "}\n",
              "</style>\n",
              "<table id=\"T_dcb68_\" class=\"dataframe\">\n",
              "  <thead>\n",
              "    <tr>\n",
              "      <th class=\"blank level0\" >&nbsp;</th>\n",
              "      <th class=\"col_heading level0 col0\" >Method A</th>\n",
              "      <th class=\"col_heading level0 col1\" >Method B</th>\n",
              "      <th class=\"col_heading level0 col2\" >Method C</th>\n",
              "    </tr>\n",
              "  </thead>\n",
              "  <tbody>\n",
              "    <tr>\n",
              "      <th id=\"T_dcb68_level0_row0\" class=\"row_heading level0 row0\" >Method A</th>\n",
              "      <td id=\"T_dcb68_row0_col0\" class=\"data row0 col0\" >1.000000</td>\n",
              "      <td id=\"T_dcb68_row0_col1\" class=\"data row0 col1\" >0.078125</td>\n",
              "      <td id=\"T_dcb68_row0_col2\" class=\"data row0 col2\" >0.023438</td>\n",
              "    </tr>\n",
              "    <tr>\n",
              "      <th id=\"T_dcb68_level0_row1\" class=\"row_heading level0 row1\" >Method B</th>\n",
              "      <td id=\"T_dcb68_row1_col0\" class=\"data row1 col0\" >0.078125</td>\n",
              "      <td id=\"T_dcb68_row1_col1\" class=\"data row1 col1\" >1.000000</td>\n",
              "      <td id=\"T_dcb68_row1_col2\" class=\"data row1 col2\" >0.023438</td>\n",
              "    </tr>\n",
              "    <tr>\n",
              "      <th id=\"T_dcb68_level0_row2\" class=\"row_heading level0 row2\" >Method C</th>\n",
              "      <td id=\"T_dcb68_row2_col0\" class=\"data row2 col0\" >0.023438</td>\n",
              "      <td id=\"T_dcb68_row2_col1\" class=\"data row2 col1\" >0.023438</td>\n",
              "      <td id=\"T_dcb68_row2_col2\" class=\"data row2 col2\" >1.000000</td>\n",
              "    </tr>\n",
              "  </tbody>\n",
              "</table>\n"
            ]
          },
          "metadata": {},
          "execution_count": 36
        }
      ],
      "source": [
        "data = np.array([method_A, method_B, method_C]) \n",
        "posthoc_df=sp.posthoc_wilcoxon(data, p_adjust=\"holm\")\n",
        "# posthoc_df = sp.posthoc_nemenyi_friedman(data.T) ## another option for the posthoc test\n",
        "\n",
        "group_names= [\"Method A\", \"Method B\",\"Method C\"]\n",
        "posthoc_df.columns= group_names\n",
        "posthoc_df.index= group_names\n",
        "posthoc_df.style.applymap(lambda x: \"background-color:violet\" if x<0.05 else \"background-color: white\")"
      ]
    },
    {
      "cell_type": "markdown",
      "id": "e62cfdac-be25-4bfc-b07d-8ef905c99f36",
      "metadata": {
        "id": "e62cfdac-be25-4bfc-b07d-8ef905c99f36"
      },
      "source": [
        "**El método C superó a los demás y logró mejores puntajes de precisión que los demás.**"
      ]
    },
    {
      "cell_type": "markdown",
      "id": "c88b478f-20d5-475f-a050-934c293c5cca",
      "metadata": {
        "id": "c88b478f-20d5-475f-a050-934c293c5cca"
      },
      "source": [
        "------------\n",
        "\n",
        "## P8.\n",
        "\n",
        "Un analista de una empresa de inversión financiera siente curiosidad por la relación entre el género y el apetito por el riesgo. Se tomó una muestra aleatoria de 660 clientes de la base de datos. Los clientes de la muestra se clasificaron según su género y su apetito por el riesgo. El resultado se da en la siguiente tabla."
      ]
    },
    {
      "cell_type": "markdown",
      "id": "284e9cbf-2be8-434d-8944-edfe2f61d2dc",
      "metadata": {
        "id": "284e9cbf-2be8-434d-8944-edfe2f61d2dc"
      },
      "source": [
        "| **Gender/Risk Appetite** | Very Low | Low | Medium | High | Very High | Total |\n",
        "|:--------------------:|:--------:|:---:|:------:|:----:|:---------:|:-----:|\n",
        "|        **Female**        |    53    |  23 |   30   |  36  |     88    |  230  |\n",
        "|         **Male**         |    71    |  48 |   51   |  57  |    203    |  430  |\n",
        "|         **Total**        |    124   |  71 |   81   |  93  |    291    |  660  |"
      ]
    },
    {
      "cell_type": "markdown",
      "id": "44d65429-303b-4302-b92b-5e8221b5a496",
      "metadata": {
        "id": "44d65429-303b-4302-b92b-5e8221b5a496"
      },
      "source": [
        "Pruebe la hipótesis de que el apetito por el riesgo de los clientes de esta empresa es independiente de su género. Use α = 0.01."
      ]
    },
    {
      "cell_type": "markdown",
      "id": "2e5fb172-bffb-407f-8c9c-80abb1561615",
      "metadata": {
        "id": "2e5fb172-bffb-407f-8c9c-80abb1561615"
      },
      "source": [
        "- $H_{0}$: el género y el apetito por el riesgo son independientes.\n",
        "- $H_{1}$: el género y el apetito por el riesgo dependen.\n",
        "\n",
        "Para esta pregunta se debe usar la prueba chi2. Esta prueba se conoce como la prueba de bondad de ajuste. Implica que si los datos observados están muy cerca de los datos esperados. El supuesto de esta prueba cada Ei ≥ 5 (en al menos el 80% de las celdas) que se cumple."
      ]
    },
    {
      "cell_type": "code",
      "execution_count": 37,
      "id": "0820ec81-e24d-41ab-aaeb-72a4b1a718cd",
      "metadata": {
        "id": "0820ec81-e24d-41ab-aaeb-72a4b1a718cd",
        "colab": {
          "base_uri": "https://localhost:8080/"
        },
        "outputId": "033a52ad-d482-4c9c-b511-2292a134070b"
      },
      "outputs": [
        {
          "output_type": "stream",
          "name": "stdout",
          "text": [
            "expected frequencies:\n",
            "  [[ 43.21  24.74  28.23  32.41 101.41]\n",
            " [ 80.79  46.26  52.77  60.59 189.59]]\n",
            "degrees of freedom: 4\n",
            "test stat :7.0942\n",
            "p value:0.1310\n"
          ]
        }
      ],
      "source": [
        "from scipy.stats import chi2_contingency\n",
        "\n",
        "obs =np.array([[53, 23, 30, 36, 88],[71, 48, 51, 57, 203]])\n",
        "chi2, p, dof, ex = chi2_contingency(obs, correction=False)\n",
        "\n",
        "print(\"expected frequencies:\\n \", np.round(ex,2))\n",
        "print(\"degrees of freedom:\", dof)\n",
        "print(\"test stat :%.4f\" % chi2)\n",
        "print(\"p value:%.4f\" % p)"
      ]
    },
    {
      "cell_type": "code",
      "execution_count": 38,
      "id": "41d2a38d-459f-4210-a065-ab1b756189f5",
      "metadata": {
        "id": "41d2a38d-459f-4210-a065-ab1b756189f5",
        "colab": {
          "base_uri": "https://localhost:8080/"
        },
        "outputId": "20a31d9c-7036-4a18-a558-16c6524d9d2e"
      },
      "outputs": [
        {
          "output_type": "stream",
          "name": "stdout",
          "text": [
            "critical stat:13.2767\n"
          ]
        }
      ],
      "source": [
        "from scipy.stats import chi2\n",
        "## calculate critical stat\n",
        "\n",
        "alpha = 0.01\n",
        "df = (5-1)*(2-1)\n",
        "critical_stat = chi2.ppf((1-alpha), df)\n",
        "print(\"critical stat:%.4f\" % critical_stat)"
      ]
    },
    {
      "cell_type": "markdown",
      "id": "d863da29-daf9-4292-8b21-80e772743f41",
      "metadata": {
        "id": "d863da29-daf9-4292-8b21-80e772743f41"
      },
      "source": [
        "**Dado que el valor p es mayor que α=0.01 (o la estadística calculada=7.14 es menor que la estadística crítica=13.28) >> No se puede rechazar H0. A este nivel de significación, se puede concluir que el género y el apetito por el riesgo son independientes.**"
      ]
    },
    {
      "cell_type": "code",
      "execution_count": 38,
      "id": "2dfbbc84-27ee-4159-ac88-821d5050fc29",
      "metadata": {
        "id": "2dfbbc84-27ee-4159-ac88-821d5050fc29"
      },
      "outputs": [],
      "source": []
    }
  ],
  "metadata": {
    "kernelspec": {
      "display_name": "Python 3",
      "language": "python",
      "name": "python3"
    },
    "language_info": {
      "codemirror_mode": {
        "name": "ipython",
        "version": 3
      },
      "file_extension": ".py",
      "mimetype": "text/x-python",
      "name": "python",
      "nbconvert_exporter": "python",
      "pygments_lexer": "ipython3",
      "version": "3.8.8"
    },
    "colab": {
      "provenance": [],
      "collapsed_sections": [
        "336ab76a-6dd1-46a9-aebe-7871b4280766",
        "b9823d16-7c42-445f-9f2f-c240af34ae70",
        "7ed2a73c-802d-4f07-8bc3-2c3b3ec7496b",
        "e5717a45-88fd-49a1-a1b2-22b27b649e04",
        "b7891668-01fa-44e9-9771-0ea54b4cbba7",
        "61ca16f7-d71f-48ce-ade7-b0c83f03c6b4"
      ]
    }
  },
  "nbformat": 4,
  "nbformat_minor": 5
}