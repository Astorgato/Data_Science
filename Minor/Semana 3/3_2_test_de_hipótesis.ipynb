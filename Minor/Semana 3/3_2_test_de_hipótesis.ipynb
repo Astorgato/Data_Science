{
  "cells": [
    {
      "cell_type": "markdown",
      "id": "111a9f17-c769-4be6-a659-40b827c7a2b8",
      "metadata": {
        "id": "111a9f17-c769-4be6-a659-40b827c7a2b8"
      },
      "source": [
        "# 17 Pruebas de Hipótesis Estadísticas en Python\n",
        "\n",
        "## 1. Pruebas de normalidad\n",
        "Esta sección enumera las pruebas estadísticas que puede usar para verificar si sus datos tienen una distribución gaussiana.\n",
        "\n",
        "### Shapiro-Wilk test\n",
        "Comprueba si una muestra de datos tiene una distribución gaussiana.\n",
        "\n",
        "**Supuestos**\n",
        "\n",
        "Las observaciones en cada muestra son independientes e idénticamente distribuidas (iid).\n",
        "\n",
        "**Interpretación**\n",
        "\n",
        "- H0: la muestra tiene una distribución gaussiana.\n",
        "- H1: la muestra no tiene distribución gaussiana."
      ]
    },
    {
      "cell_type": "code",
      "execution_count": null,
      "id": "6ae4e5e2-03ca-4612-9e29-59f5a2894551",
      "metadata": {
        "id": "6ae4e5e2-03ca-4612-9e29-59f5a2894551",
        "outputId": "fe42e973-cbca-429d-8a27-a90c4a90b271"
      },
      "outputs": [
        {
          "name": "stdout",
          "output_type": "stream",
          "text": [
            "stat=0.895, p=0.193\n",
            "Probably Gaussian\n"
          ]
        }
      ],
      "source": [
        "# Example of the Shapiro-Wilk Normality Test\n",
        "from scipy.stats import shapiro\n",
        "data = [0.873, 2.817, 0.121, -0.945, -0.055, -1.436, 0.360, -1.478, -1.637, -1.869]\n",
        "stat, p = shapiro(data)\n",
        "print('stat=%.3f, p=%.3f' % (stat, p))\n",
        "if p > 0.05:\n",
        "\tprint('Probably Gaussian')\n",
        "else:\n",
        "\tprint('Probably not Gaussian')"
      ]
    },
    {
      "cell_type": "markdown",
      "id": "fb796423-3f86-4f63-8525-3e4ea212e358",
      "metadata": {
        "id": "fb796423-3f86-4f63-8525-3e4ea212e358"
      },
      "source": [
        "### D’Agostino’s K^2 Test\n",
        "Comprueba si una muestra de datos tiene una distribución gaussiana.\n",
        "\n",
        "**Supuestos**\n",
        "\n",
        "Las observaciones en cada muestra son independientes e idénticamente distribuidas (iid).\n",
        "\n",
        "**Interpretación**\n",
        "\n",
        "- H0: la muestra tiene una distribución gaussiana.\n",
        "- H1: la muestra no tiene distribución gaussiana."
      ]
    },
    {
      "cell_type": "code",
      "execution_count": null,
      "id": "3c489302-9231-4a53-bc93-d2a29451f713",
      "metadata": {
        "id": "3c489302-9231-4a53-bc93-d2a29451f713",
        "outputId": "0c68a536-cfe9-4109-844a-a378461145fe"
      },
      "outputs": [
        {
          "name": "stdout",
          "output_type": "stream",
          "text": [
            "stat=3.392, p=0.183\n",
            "Probably Gaussian\n"
          ]
        },
        {
          "name": "stderr",
          "output_type": "stream",
          "text": [
            "/Users/danyrubiano/opt/anaconda3/lib/python3.8/site-packages/scipy/stats/_stats_py.py:1477: UserWarning: kurtosistest only valid for n>=20 ... continuing anyway, n=10\n",
            "  warnings.warn(\"kurtosistest only valid for n>=20 ... continuing \"\n"
          ]
        }
      ],
      "source": [
        "# Example of the D'Agostino's K^2 Normality Test\n",
        "from scipy.stats import normaltest\n",
        "data = [0.873, 2.817, 0.121, -0.945, -0.055, -1.436, 0.360, -1.478, -1.637, -1.869]\n",
        "stat, p = normaltest(data)\n",
        "print('stat=%.3f, p=%.3f' % (stat, p))\n",
        "if p > 0.05:\n",
        "\tprint('Probably Gaussian')\n",
        "else:\n",
        "\tprint('Probably not Gaussian')"
      ]
    },
    {
      "cell_type": "markdown",
      "id": "f69df251-83e9-483f-8309-2f397e1854e4",
      "metadata": {
        "id": "f69df251-83e9-483f-8309-2f397e1854e4"
      },
      "source": [
        "### Anderson-Darling Test\n",
        "Comprueba si una muestra de datos tiene una distribución gaussiana.\n",
        "\n",
        "**Supuestos**\n",
        "\n",
        "Las observaciones en cada muestra son independientes e idénticamente distribuidas (iid).\n",
        "\n",
        "**Interpretación**\n",
        "\n",
        "- H0: la muestra tiene una distribución gaussiana.\n",
        "- H1: la muestra no tiene distribución gaussiana."
      ]
    },
    {
      "cell_type": "code",
      "execution_count": null,
      "id": "8e4f55bf-2224-482f-894f-b39a8386f674",
      "metadata": {
        "id": "8e4f55bf-2224-482f-894f-b39a8386f674",
        "outputId": "6dbefa3f-f692-4ed9-f79f-74aaf4a56527"
      },
      "outputs": [
        {
          "name": "stdout",
          "output_type": "stream",
          "text": [
            "stat=0.424\n",
            "Probably Gaussian at the 15.0% level\n",
            "Probably Gaussian at the 10.0% level\n",
            "Probably Gaussian at the 5.0% level\n",
            "Probably Gaussian at the 2.5% level\n",
            "Probably Gaussian at the 1.0% level\n"
          ]
        }
      ],
      "source": [
        "# Example of the Anderson-Darling Normality Test\n",
        "from scipy.stats import anderson\n",
        "data = [0.873, 2.817, 0.121, -0.945, -0.055, -1.436, 0.360, -1.478, -1.637, -1.869]\n",
        "result = anderson(data)\n",
        "print('stat=%.3f' % (result.statistic))\n",
        "for i in range(len(result.critical_values)):\n",
        "\tsl, cv = result.significance_level[i], result.critical_values[i]\n",
        "\tif result.statistic < cv:\n",
        "\t\tprint('Probably Gaussian at the %.1f%% level' % (sl))\n",
        "\telse:\n",
        "\t\tprint('Probably not Gaussian at the %.1f%% level' % (sl))"
      ]
    },
    {
      "cell_type": "markdown",
      "id": "9741bbc9-d4b4-49b7-ad5f-c4aedcdf0dfe",
      "metadata": {
        "id": "9741bbc9-d4b4-49b7-ad5f-c4aedcdf0dfe"
      },
      "source": [
        "## 2. Correlation Tests\n",
        "\n",
        "### Pearson’s Correlation Coefficient\n",
        "Comprueba si dos muestras tienen una relación lineal.\n",
        "\n",
        "**Supuestos**\n",
        "\n",
        "- Las observaciones en cada muestra son independientes e idénticamente distribuidas (iid).\n",
        "- Las observaciones en cada muestra se distribuyen normalmente.\n",
        "- Las observaciones en cada muestra tienen la misma varianza.\n",
        "\n",
        "**Interpretación**\n",
        "\n",
        "- H0: las dos muestras son independientes.\n",
        "- H1: existe una dependencia entre las muestras."
      ]
    },
    {
      "cell_type": "code",
      "execution_count": null,
      "id": "fba1bd29-0063-4136-a817-cc412b810573",
      "metadata": {
        "id": "fba1bd29-0063-4136-a817-cc412b810573",
        "outputId": "3dade944-0d22-4d27-ce40-62493320aba5"
      },
      "outputs": [
        {
          "name": "stdout",
          "output_type": "stream",
          "text": [
            "stat=0.688, p=0.028\n",
            "Probably dependent\n"
          ]
        }
      ],
      "source": [
        "# Example of the Pearson's Correlation test\n",
        "from scipy.stats import pearsonr\n",
        "data1 = [0.873, 2.817, 0.121, -0.945, -0.055, -1.436, 0.360, -1.478, -1.637, -1.869]\n",
        "data2 = [0.353, 3.517, 0.125, -7.545, -0.555, -1.536, 3.350, -1.578, -3.537, -1.579]\n",
        "stat, p = pearsonr(data1, data2)\n",
        "print('stat=%.3f, p=%.3f' % (stat, p))\n",
        "if p > 0.05:\n",
        "\tprint('Probably independent')\n",
        "else:\n",
        "\tprint('Probably dependent')"
      ]
    },
    {
      "cell_type": "markdown",
      "id": "0484ff62-44ba-4be0-b519-da69d6cf5d98",
      "metadata": {
        "id": "0484ff62-44ba-4be0-b519-da69d6cf5d98"
      },
      "source": [
        "### Spearman’s Rank Correlation\n",
        "Comprueba si dos muestras tienen una relación monótona.\n",
        "\n",
        "**Supuestos**\n",
        "\n",
        "- Las observaciones en cada muestra son independientes e idénticamente distribuidas (iid).\n",
        "- Las observaciones en cada muestra se pueden clasificar.\n",
        "**Interpretación**\n",
        "\n",
        "- H0: las dos muestras son independientes.\n",
        "- H1: existe una dependencia entre las muestras."
      ]
    },
    {
      "cell_type": "code",
      "execution_count": null,
      "id": "191dd946-8307-4f75-a1b0-edd424cd954c",
      "metadata": {
        "id": "191dd946-8307-4f75-a1b0-edd424cd954c",
        "outputId": "7c5f3ceb-910b-4477-c1be-23b916c413f1"
      },
      "outputs": [
        {
          "name": "stdout",
          "output_type": "stream",
          "text": [
            "stat=0.855, p=0.002\n",
            "Probably dependent\n"
          ]
        }
      ],
      "source": [
        "# Example of the Spearman's Rank Correlation Test\n",
        "from scipy.stats import spearmanr\n",
        "data1 = [0.873, 2.817, 0.121, -0.945, -0.055, -1.436, 0.360, -1.478, -1.637, -1.869]\n",
        "data2 = [0.353, 3.517, 0.125, -7.545, -0.555, -1.536, 3.350, -1.578, -3.537, -1.579]\n",
        "stat, p = spearmanr(data1, data2)\n",
        "print('stat=%.3f, p=%.3f' % (stat, p))\n",
        "if p > 0.05:\n",
        "\tprint('Probably independent')\n",
        "else:\n",
        "\tprint('Probably dependent')"
      ]
    },
    {
      "cell_type": "markdown",
      "id": "71ccf683-0e43-47b7-9290-80f460627475",
      "metadata": {
        "id": "71ccf683-0e43-47b7-9290-80f460627475"
      },
      "source": [
        "### Kendall’s Rank Correlation\n",
        "Comprueba si dos muestras tienen una relación monótona.\n",
        "\n",
        "**Supuestos**\n",
        "\n",
        "- Las observaciones en cada muestra son independientes e idénticamente distribuidas (iid).\n",
        "- Las observaciones en cada muestra se pueden clasificar.\n",
        "**Interpretación**\n",
        "\n",
        "- H0: las dos muestras son independientes.\n",
        "- H1: existe una dependencia entre las muestras."
      ]
    },
    {
      "cell_type": "code",
      "execution_count": null,
      "id": "f148525b-6eb5-47c6-92d1-5ea5d46d769e",
      "metadata": {
        "id": "f148525b-6eb5-47c6-92d1-5ea5d46d769e",
        "outputId": "06890198-9a46-4828-82a8-0f01602cc345"
      },
      "outputs": [
        {
          "name": "stdout",
          "output_type": "stream",
          "text": [
            "stat=0.733, p=0.002\n",
            "Probably dependent\n"
          ]
        }
      ],
      "source": [
        "# Example of the Kendall's Rank Correlation Test\n",
        "from scipy.stats import kendalltau\n",
        "data1 = [0.873, 2.817, 0.121, -0.945, -0.055, -1.436, 0.360, -1.478, -1.637, -1.869]\n",
        "data2 = [0.353, 3.517, 0.125, -7.545, -0.555, -1.536, 3.350, -1.578, -3.537, -1.579]\n",
        "stat, p = kendalltau(data1, data2)\n",
        "print('stat=%.3f, p=%.3f' % (stat, p))\n",
        "if p > 0.05:\n",
        "\tprint('Probably independent')\n",
        "else:\n",
        "\tprint('Probably dependent')"
      ]
    },
    {
      "cell_type": "markdown",
      "id": "16cf8ac0-e49a-480e-a437-253f5c97e6e9",
      "metadata": {
        "id": "16cf8ac0-e49a-480e-a437-253f5c97e6e9"
      },
      "source": [
        "### Chi-Squared Test\n",
        "Comprueba si dos variables categóricas están relacionadas o son independientes.\n",
        "\n",
        "**Supuestos**\n",
        "\n",
        "- Las observaciones utilizadas en el cálculo de la tabla de contingencia son independientes.\n",
        "- 25 o más ejemplos en cada celda de la tabla de contingencia.\n",
        "**Interpretación**\n",
        "\n",
        "- H0: las dos muestras son independientes.\n",
        "- H1: existe una dependencia entre las muestras."
      ]
    },
    {
      "cell_type": "code",
      "execution_count": null,
      "id": "189d8d72-772c-489d-962e-aca72a3bb8ae",
      "metadata": {
        "id": "189d8d72-772c-489d-962e-aca72a3bb8ae",
        "outputId": "80fe5eaa-462a-4b4c-9617-0742941476ea"
      },
      "outputs": [
        {
          "name": "stdout",
          "output_type": "stream",
          "text": [
            "stat=0.272, p=0.873\n",
            "Probably independent\n"
          ]
        }
      ],
      "source": [
        "# Example of the Chi-Squared Test\n",
        "from scipy.stats import chi2_contingency\n",
        "table = [[10, 20, 30],[6,  9,  17]]\n",
        "stat, p, dof, expected = chi2_contingency(table)\n",
        "print('stat=%.3f, p=%.3f' % (stat, p))\n",
        "if p > 0.05:\n",
        "\tprint('Probably independent')\n",
        "else:\n",
        "\tprint('Probably dependent')"
      ]
    },
    {
      "cell_type": "markdown",
      "id": "03a3e2d9-012c-44ec-a2a2-b5bbca7c0ccc",
      "metadata": {
        "id": "03a3e2d9-012c-44ec-a2a2-b5bbca7c0ccc"
      },
      "source": [
        "<br><br>\n",
        "## 3. Stationary Tests\n",
        "\n",
        "### Augmented Dickey-Fuller Unit Root Test\n",
        "Comprueba si una serie temporal tiene una raíz unitaria, p. tiene una tendencia o, más generalmente, es autorregresivo.\n",
        "\n",
        "**Supuestos**\n",
        "\n",
        "Las observaciones en están ordenadas temporalmente.\n",
        "\n",
        "**Interpretación**\n",
        "\n",
        "- H0: existe una raíz unitaria (la serie no es estacionaria).\n",
        "- H1: no existe raíz unitaria (la serie es estacionaria)."
      ]
    },
    {
      "cell_type": "code",
      "execution_count": null,
      "id": "d21bd1a5-b38c-46f1-b402-c37a23553c40",
      "metadata": {
        "id": "d21bd1a5-b38c-46f1-b402-c37a23553c40",
        "outputId": "dce16fc6-42f4-45c2-d4fa-058e9f11b4f6"
      },
      "outputs": [
        {
          "name": "stdout",
          "output_type": "stream",
          "text": [
            "stat=0.517, p=0.985\n",
            "Probably not Stationary\n"
          ]
        }
      ],
      "source": [
        "# Example of the Augmented Dickey-Fuller unit root test\n",
        "from statsmodels.tsa.stattools import adfuller\n",
        "data = [0, 1, 2, 3, 4, 5, 6, 7, 8, 9]\n",
        "stat, p, lags, obs, crit, t = adfuller(data)\n",
        "print('stat=%.3f, p=%.3f' % (stat, p))\n",
        "if p > 0.05:\n",
        "\tprint('Probably not Stationary')\n",
        "else:\n",
        "\tprint('Probably Stationary')"
      ]
    },
    {
      "cell_type": "markdown",
      "id": "42bbc5c3-e5c7-4d21-aa2f-dbb7e106f043",
      "metadata": {
        "id": "42bbc5c3-e5c7-4d21-aa2f-dbb7e106f043"
      },
      "source": [
        "### Kwiatkowski-Phillips-Schmidt-Shin\n",
        "Comprueba si una serie de tiempo es estacionaria en tendencia o no.\n",
        "\n",
        "**Supuestos**\n",
        "\n",
        "Las observaciones en están ordenadas temporalmente.\n",
        "\n",
        "**Interpretación**\n",
        "\n",
        "- H0: la serie temporal es estacionaria en tendencia.\n",
        "- H1: la serie temporal no es estacionaria en tendencia."
      ]
    },
    {
      "cell_type": "code",
      "execution_count": null,
      "id": "f6f50961-5e27-42f1-b84d-5679457fe0a0",
      "metadata": {
        "id": "f6f50961-5e27-42f1-b84d-5679457fe0a0",
        "outputId": "7860e2df-ceaa-4acb-9e77-abd333e9c509"
      },
      "outputs": [
        {
          "name": "stdout",
          "output_type": "stream",
          "text": [
            "stat=0.594, p=0.023\n",
            "Probably not Stationary\n"
          ]
        }
      ],
      "source": [
        "# Example of the Kwiatkowski-Phillips-Schmidt-Shin test\n",
        "from statsmodels.tsa.stattools import kpss\n",
        "data = [0, 1, 2, 3, 4, 5, 6, 7, 8, 9]\n",
        "stat, p, lags, crit = kpss(data)\n",
        "print('stat=%.3f, p=%.3f' % (stat, p))\n",
        "if p > 0.05:\n",
        "\tprint('Probably Stationary')\n",
        "else:\n",
        "\tprint('Probably not Stationary')"
      ]
    },
    {
      "cell_type": "markdown",
      "id": "073af319-1698-43f6-9f31-565154a915fc",
      "metadata": {
        "id": "073af319-1698-43f6-9f31-565154a915fc"
      },
      "source": [
        "## 4. Parametric Statistical Hypothesis Tests\n",
        "\n",
        "### Student’s t-test\n",
        "Comprueba si las medias de dos muestras independientes son significativamente diferentes.\n",
        "\n",
        "**Supuestos**\n",
        "\n",
        "- Las observaciones en cada muestra son independientes e idénticamente distribuidas (iid).\n",
        "- Las observaciones en cada muestra se distribuyen normalmente.\n",
        "- Las observaciones en cada muestra tienen la misma varianza.\n",
        "**Interpretación**\n",
        "\n",
        "- H0: las medias de las muestras son iguales.\n",
        "- H1: las medias de las muestras son desiguales."
      ]
    },
    {
      "cell_type": "code",
      "execution_count": null,
      "id": "112489dc-224a-483e-82d8-fa4e3f3a8e7c",
      "metadata": {
        "id": "112489dc-224a-483e-82d8-fa4e3f3a8e7c",
        "outputId": "f7137635-3e44-48a9-9d38-2a769fdabcb0"
      },
      "outputs": [
        {
          "name": "stdout",
          "output_type": "stream",
          "text": [
            "stat=-0.326, p=0.748\n",
            "Probably the same distribution\n"
          ]
        }
      ],
      "source": [
        "# Example of the Student's t-test\n",
        "from scipy.stats import ttest_ind\n",
        "data1 = [0.873, 2.817, 0.121, -0.945, -0.055, -1.436, 0.360, -1.478, -1.637, -1.869]\n",
        "data2 = [1.142, -0.432, -0.938, -0.729, -0.846, -0.157, 0.500, 1.183, -1.075, -0.169]\n",
        "stat, p = ttest_ind(data1, data2)\n",
        "print('stat=%.3f, p=%.3f' % (stat, p))\n",
        "if p > 0.05:\n",
        "\tprint('Probably the same distribution')\n",
        "else:\n",
        "\tprint('Probably different distributions')"
      ]
    },
    {
      "cell_type": "markdown",
      "id": "3afcebff-68ea-44da-8ca8-7ac104134f75",
      "metadata": {
        "id": "3afcebff-68ea-44da-8ca8-7ac104134f75"
      },
      "source": [
        "### Paired Student’s t-test\n",
        "Comprueba si las medias de dos muestras pareadas son significativamente diferentes.\n",
        "\n",
        "**Supuestos**\n",
        "\n",
        "- Las observaciones en cada muestra son independientes e idénticamente distribuidas (iid).\n",
        "- Las observaciones en cada muestra se distribuyen normalmente.\n",
        "- Las observaciones en cada muestra tienen la misma varianza.\n",
        "- Las observaciones de cada muestra están emparejadas.\n",
        "**Interpretación**\n",
        "\n",
        "- H0: las medias de las muestras son iguales.\n",
        "- H1: las medias de las muestras son desiguales."
      ]
    },
    {
      "cell_type": "code",
      "execution_count": null,
      "id": "111e9832-41c5-4fef-8bfc-5a4140b94dcd",
      "metadata": {
        "id": "111e9832-41c5-4fef-8bfc-5a4140b94dcd",
        "outputId": "60c2442b-e944-48a2-9b40-e254c205e440"
      },
      "outputs": [
        {
          "name": "stdout",
          "output_type": "stream",
          "text": [
            "stat=-0.334, p=0.746\n",
            "Probably the same distribution\n"
          ]
        }
      ],
      "source": [
        "# Example of the Paired Student's t-test\n",
        "from scipy.stats import ttest_rel\n",
        "data1 = [0.873, 2.817, 0.121, -0.945, -0.055, -1.436, 0.360, -1.478, -1.637, -1.869]\n",
        "data2 = [1.142, -0.432, -0.938, -0.729, -0.846, -0.157, 0.500, 1.183, -1.075, -0.169]\n",
        "stat, p = ttest_rel(data1, data2)\n",
        "print('stat=%.3f, p=%.3f' % (stat, p))\n",
        "if p > 0.05:\n",
        "\tprint('Probably the same distribution')\n",
        "else:\n",
        "\tprint('Probably different distributions')"
      ]
    },
    {
      "cell_type": "markdown",
      "id": "12675c27-fec9-492b-afc5-792e7d91cd33",
      "metadata": {
        "id": "12675c27-fec9-492b-afc5-792e7d91cd33"
      },
      "source": [
        "### Analysis of Variance Test (ANOVA)\n",
        "Comprueba si las medias de dos o más muestras independientes son significativamente diferentes.\n",
        "\n",
        "**Supuestos**\n",
        "\n",
        "- Las observaciones en cada muestra son independientes e idénticamente distribuidas (iid).\n",
        "- Las observaciones en cada muestra se distribuyen normalmente.\n",
        "- Las observaciones en cada muestra tienen la misma varianza.\n",
        "**Interpretación**\n",
        "\n",
        "- H0: las medias de las muestras son iguales.\n",
        "- H1: una o más de las medias de las muestras son desiguales."
      ]
    },
    {
      "cell_type": "code",
      "execution_count": null,
      "id": "fa23b157-807b-4856-a620-a4e661a792b1",
      "metadata": {
        "id": "fa23b157-807b-4856-a620-a4e661a792b1",
        "outputId": "cd0969d0-4cb3-4791-961f-91caefc757b8"
      },
      "outputs": [
        {
          "name": "stdout",
          "output_type": "stream",
          "text": [
            "stat=0.096, p=0.908\n",
            "Probably the same distribution\n"
          ]
        }
      ],
      "source": [
        "# Example of the Analysis of Variance Test\n",
        "from scipy.stats import f_oneway\n",
        "data1 = [0.873, 2.817, 0.121, -0.945, -0.055, -1.436, 0.360, -1.478, -1.637, -1.869]\n",
        "data2 = [1.142, -0.432, -0.938, -0.729, -0.846, -0.157, 0.500, 1.183, -1.075, -0.169]\n",
        "data3 = [-0.208, 0.696, 0.928, -1.148, -0.213, 0.229, 0.137, 0.269, -0.870, -1.204]\n",
        "stat, p = f_oneway(data1, data2, data3)\n",
        "print('stat=%.3f, p=%.3f' % (stat, p))\n",
        "if p > 0.05:\n",
        "\tprint('Probably the same distribution')\n",
        "else:\n",
        "\tprint('Probably different distributions')"
      ]
    },
    {
      "cell_type": "markdown",
      "id": "84e9a309-d4e4-488d-b029-3fa4cbd077c0",
      "metadata": {
        "id": "84e9a309-d4e4-488d-b029-3fa4cbd077c0"
      },
      "source": [
        "<br><br>\n",
        "## 5. Nonparametric Statistical Hypothesis Tests\n",
        "### Mann-Whitney U Test\n",
        "Comprueba si las distribuciones de dos muestras independientes son iguales o no.\n",
        "\n",
        "**Supuestos**\n",
        "\n",
        "- Las observaciones en cada muestra son independientes e idénticamente distribuidas (iid).\n",
        "- Las observaciones en cada muestra se pueden clasificar.\n",
        "**Interpretación**\n",
        "\n",
        "- H0: las distribuciones de ambas muestras son iguales.\n",
        "- H1: las distribuciones de ambas muestras no son iguales."
      ]
    },
    {
      "cell_type": "code",
      "execution_count": null,
      "id": "d30f39b4-9381-4fb7-a481-40c179c3eb68",
      "metadata": {
        "id": "d30f39b4-9381-4fb7-a481-40c179c3eb68",
        "outputId": "c5aba7ee-5a6f-4259-c4f6-38cfa4d249a7"
      },
      "outputs": [
        {
          "name": "stdout",
          "output_type": "stream",
          "text": [
            "stat=40.000, p=0.473\n",
            "Probably the same distribution\n"
          ]
        }
      ],
      "source": [
        "# Example of the Mann-Whitney U Test\n",
        "from scipy.stats import mannwhitneyu\n",
        "data1 = [0.873, 2.817, 0.121, -0.945, -0.055, -1.436, 0.360, -1.478, -1.637, -1.869]\n",
        "data2 = [1.142, -0.432, -0.938, -0.729, -0.846, -0.157, 0.500, 1.183, -1.075, -0.169]\n",
        "stat, p = mannwhitneyu(data1, data2)\n",
        "print('stat=%.3f, p=%.3f' % (stat, p))\n",
        "if p > 0.05:\n",
        "\tprint('Probably the same distribution')\n",
        "else:\n",
        "\tprint('Probably different distributions')"
      ]
    },
    {
      "cell_type": "markdown",
      "id": "d5fa0d89-5b7a-48cc-a1b3-29b1ecbb11c3",
      "metadata": {
        "id": "d5fa0d89-5b7a-48cc-a1b3-29b1ecbb11c3"
      },
      "source": [
        "### Wilcoxon Signed-Rank Test\n",
        "Comprueba si las distribuciones de dos muestras pareadas son iguales o no.\n",
        "\n",
        "**Supuestos**\n",
        "\n",
        "- Las observaciones en cada muestra son independientes e idénticamente distribuidas (iid).\n",
        "- Las observaciones en cada muestra se pueden clasificar.\n",
        "- Las observaciones de cada muestra están emparejadas.\n",
        "**Interpretación**\n",
        "\n",
        "- H0: las distribuciones de ambas muestras son iguales.\n",
        "- H1: las distribuciones de ambas muestras no son iguales."
      ]
    },
    {
      "cell_type": "code",
      "execution_count": null,
      "id": "e8af4fae-b03a-4c55-a766-597a2190022e",
      "metadata": {
        "id": "e8af4fae-b03a-4c55-a766-597a2190022e",
        "outputId": "00a04739-b5ea-488d-86da-7a4f37b208d9"
      },
      "outputs": [
        {
          "name": "stdout",
          "output_type": "stream",
          "text": [
            "stat=21.000, p=0.557\n",
            "Probably the same distribution\n"
          ]
        }
      ],
      "source": [
        "# Example of the Wilcoxon Signed-Rank Test\n",
        "from scipy.stats import wilcoxon\n",
        "data1 = [0.873, 2.817, 0.121, -0.945, -0.055, -1.436, 0.360, -1.478, -1.637, -1.869]\n",
        "data2 = [1.142, -0.432, -0.938, -0.729, -0.846, -0.157, 0.500, 1.183, -1.075, -0.169]\n",
        "stat, p = wilcoxon(data1, data2)\n",
        "print('stat=%.3f, p=%.3f' % (stat, p))\n",
        "if p > 0.05:\n",
        "\tprint('Probably the same distribution')\n",
        "else:\n",
        "\tprint('Probably different distributions')"
      ]
    },
    {
      "cell_type": "markdown",
      "id": "9bcbfb24-fa9d-4ebd-a2c2-5915d37d4aef",
      "metadata": {
        "id": "9bcbfb24-fa9d-4ebd-a2c2-5915d37d4aef"
      },
      "source": [
        "### Kruskal-Wallis H Test\n",
        "Comprueba si las distribuciones de dos o más muestras independientes son iguales o no.\n",
        "\n",
        "**Supuestos**\n",
        "\n",
        "- Las observaciones en cada muestra son independientes e idénticamente distribuidas (iid).\n",
        "- Las observaciones en cada muestra se pueden clasificar.\n",
        "**Interpretación**\n",
        "\n",
        "- H0: las distribuciones de todas las muestras son iguales.\n",
        "- H1: las distribuciones de una o más muestras no son iguales."
      ]
    },
    {
      "cell_type": "code",
      "execution_count": null,
      "id": "4c20ae24-73f7-41f5-b69c-051af5153a39",
      "metadata": {
        "id": "4c20ae24-73f7-41f5-b69c-051af5153a39",
        "outputId": "8a84d631-3f91-4ae7-884a-06456b6db0b9"
      },
      "outputs": [
        {
          "name": "stdout",
          "output_type": "stream",
          "text": [
            "stat=0.571, p=0.450\n",
            "Probably the same distribution\n"
          ]
        }
      ],
      "source": [
        "# Example of the Kruskal-Wallis H Test\n",
        "from scipy.stats import kruskal\n",
        "data1 = [0.873, 2.817, 0.121, -0.945, -0.055, -1.436, 0.360, -1.478, -1.637, -1.869]\n",
        "data2 = [1.142, -0.432, -0.938, -0.729, -0.846, -0.157, 0.500, 1.183, -1.075, -0.169]\n",
        "stat, p = kruskal(data1, data2)\n",
        "print('stat=%.3f, p=%.3f' % (stat, p))\n",
        "if p > 0.05:\n",
        "\tprint('Probably the same distribution')\n",
        "else:\n",
        "\tprint('Probably different distributions')"
      ]
    },
    {
      "cell_type": "markdown",
      "id": "53d5e120-db75-4130-ba0a-b28e2442be3b",
      "metadata": {
        "id": "53d5e120-db75-4130-ba0a-b28e2442be3b"
      },
      "source": [
        "### Friedman Test\n",
        "Comprueba si las distribuciones de dos o más muestras pareadas son iguales o no.\n",
        "\n",
        "**Supuestos**\n",
        "\n",
        "- Las observaciones en cada muestra son independientes e idénticamente distribuidas (iid).\n",
        "- Las observaciones en cada muestra se pueden clasificar.\n",
        "- Las observaciones de cada muestra están emparejadas.\n",
        "**Interpretación**\n",
        "\n",
        "- H0: las distribuciones de todas las muestras son iguales.\n",
        "- H1: las distribuciones de una o más muestras no son iguales."
      ]
    },
    {
      "cell_type": "code",
      "execution_count": null,
      "id": "ca40cac4-7774-479a-a459-953449eba448",
      "metadata": {
        "id": "ca40cac4-7774-479a-a459-953449eba448",
        "outputId": "64b2e56d-65bf-48b3-9f3a-fd8ca0e3221b"
      },
      "outputs": [
        {
          "name": "stdout",
          "output_type": "stream",
          "text": [
            "stat=0.800, p=0.670\n",
            "Probably the same distribution\n"
          ]
        }
      ],
      "source": [
        "# Example of the Friedman Test\n",
        "from scipy.stats import friedmanchisquare\n",
        "data1 = [0.873, 2.817, 0.121, -0.945, -0.055, -1.436, 0.360, -1.478, -1.637, -1.869]\n",
        "data2 = [1.142, -0.432, -0.938, -0.729, -0.846, -0.157, 0.500, 1.183, -1.075, -0.169]\n",
        "data3 = [-0.208, 0.696, 0.928, -1.148, -0.213, 0.229, 0.137, 0.269, -0.870, -1.204]\n",
        "stat, p = friedmanchisquare(data1, data2, data3)\n",
        "print('stat=%.3f, p=%.3f' % (stat, p))\n",
        "if p > 0.05:\n",
        "\tprint('Probably the same distribution')\n",
        "else:\n",
        "\tprint('Probably different distributions')"
      ]
    }
  ],
  "metadata": {
    "kernelspec": {
      "display_name": "Python 3",
      "language": "python",
      "name": "python3"
    },
    "language_info": {
      "codemirror_mode": {
        "name": "ipython",
        "version": 3
      },
      "file_extension": ".py",
      "mimetype": "text/x-python",
      "name": "python",
      "nbconvert_exporter": "python",
      "pygments_lexer": "ipython3",
      "version": "3.8.8"
    },
    "colab": {
      "provenance": []
    }
  },
  "nbformat": 4,
  "nbformat_minor": 5
}