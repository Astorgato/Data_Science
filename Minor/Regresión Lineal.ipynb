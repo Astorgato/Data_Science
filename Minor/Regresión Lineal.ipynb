{
 "cells": [
  {
   "cell_type": "markdown",
   "metadata": {},
   "source": [
    "##### Integrantes: Cristián Astorga González, Ailine Morales Álvarez."
   ]
  },
  {
   "cell_type": "markdown",
   "metadata": {},
   "source": [
    "\n",
    "\n",
    "<h1 style=\"text-align:center;font-family: 'Computer Modern Sans';font-weight:bolder\">Proyecto Final Electivo Ciencia de Datos</h1>\n",
    "<h5 style=\"text-align:center;font-family: 'Computer Modern Sans';font-weight:bolder\">EDA y Modelamiento</h5>\n",
    "\n",
    "\n",
    "### Instrucciones:\n",
    "\n",
    "* El proyecto debe ser enviado al email gabriel.tamayo@usach.cl antes de las 23:59 horas del dia Viernes 22 de Enero 2021.\n",
    "* El proyecto puede ser resuelto en su totalidad utilizando las librerías de Python revisadas durante las clases.\n",
    "* Es libre de utilizar librerías externas a las revisadas en clases siempre y cuando sea para análisis complementario al mínimo requerido en la Rúbrica de Evaluación.\n",
    "* La copia será sancionada con nota mínima.\n",
    "* El proyecto puede realizarse en equipos de máximo 2 personas.\n",
    "\n",
    "\n",
    "\n",
    "\n",
    "### Descripción del Problema\n",
    "\n",
    "Se cuenta con un conjunto de datos (Advertising.csv) con cantidades de inversión publicitaria en diferentes canales y el impacto de dicha inversión en la venta de un producto. El objetivo del proyecto será realizar un análisis exploratorio EDA de nuestros datos para luego dar paso a dos tipos de modelamiento; modelamiento econométrico para entender cómo la inversión en diferentes canales de publicidad afecta el promedio de venta del producto y luego un modelamiento desde una perspectiva de machine Learning donde buscaremos un modelo que nos permita generalizar, predecir sobre un conjunto de datos desconocido.\n",
    "\n",
    "\n",
    "#### Objetivos específicos\n",
    "\n",
    "* Realizar una descripción del dataset utilizado (contexto) y un análisis exploratorio.\n",
    "* Elaborar un análisis económico lineal utilizando la librería Statsmodels que nos permita entender cómo las variables independientes afectan a la dependiente (sales).\n",
    "* Elaborar un Modelo de Machine Learning utilizando la librería sklearn de Python que en base a diferentes cantidades de inversión en canales de publicidad nos permita decir cuál será la venta del producto.\n",
    "* Utilizar métricas de desempeño que nos permitan evaluar la calidad de nuestros modelos.\n",
    "\n",
    "\n",
    "\n",
    "#### Rúbrica de Evaluación\n",
    "\n",
    "Se evaluará:\n",
    "\n",
    "* Buenas prácticas de programación, orden y estructura (Contexto, EDA, Modelamiento Econométrico, Modelamiento Predictivo, conclusiones finales).\n",
    "* Coherencia en la narrativa del análisis realizado.\n",
    "* Utilización de las librerías de modelamiento\n",
    "* Proceso correcto de entrenamiento y evaluación de modelo Machine Learning.\n",
    "\n",
    "    \n",
    "Como mínimo se espera:\n",
    "\n",
    "* Para EDA:\n",
    "    * Análisis exploratorio de cada variable (univariado) y la relación con la variable objetivo (multivariado).\n",
    "    * Narrativa\n",
    "\n",
    "    \n",
    "    \n",
    "* Para Modelamiento Econométrico\n",
    "    * Narrativa\n",
    "    * Generar un modelo de regresión lineal simple donde utilizaremos como variable dependiente las Ventas (Sales) y como variable independiente la inversión en publicidad en TV.\n",
    "    * Obtener el valor de los coeficientes respectivos y graficar en un mismo plot los puntos x,y y la recta obtenida.\n",
    "    * Según el modelo obtenido responder; cómo afecta a las ventas la inversión de 1000 dólares en publicidad en TV?, es decir, cuantos productos más venderé en promedio si invierto 1000 dólares en publicidad en TV?\n",
    "    * Sabemos que el modelo de regresión simple con el método OLS (Ordinary least Square) busca minimizar el RSS (residual sum of squares). Explique que es el RSS y cual es el valor mínimo de RSS que encontró su modelo?\n",
    "    * Genere un Modelo Saturado (utilizando todos los regresores) y comente los resultados.\n",
    "\n",
    "\n",
    "\n",
    "* Para Modelamiento de Machine Learning:\n",
    "    * Narrativa\n",
    "    * Separar el conjunto de datos en entrenamiento y testeo\n",
    "    * Generar un modelo de regresión Lineal utilizando solo TV como variable independiente y Sales como dependiente\n",
    "    * Evaluar el modelo sobre el conjunto de testeo utilizando las métricas MSE (Mean Square Error) y MAE (Mean Absolute Error). ¿Cuál es la diferencia de estos dos tipos de métricas y que explica cada una?. Porque el coeficiente de TV difiere en comparación al encontrado desde el punto de vista econométrico?\n",
    "    * Generar un modelo saturado (todos los regresores) y utilizar las mismas métricas de calidad.\n",
    "    * Generar un modelo con solo los regresores TV y radio y evalúe las mismas métricas de calidad.\n",
    "    *  Comparar los resultados predictivos de los tres modelos de ML.\n",
    "\n",
    "\n",
    "#### Entregables\n",
    "\n",
    "Al finalizar el proyecto se deben enviar al correo gabriel.tamayo@usach.cl un archivo comprimido con el siguiente contenido:\n",
    "* Archivo notebook de terminación .ipynb que contendrá todo el análisis realizado (incluir dentro del notebook nombres de los integrantes del equipo).\n",
    "* Archivo Advertising.csv\n",
    "* Archivos .py, si utiliza algún archivo auxiliar para almacenar sus funciones\n",
    "* Imagenes, si utiliza imágenes dentro de su Jupyter Notebook\n",
    "\n",
    " "
   ]
  },
  {
   "cell_type": "markdown",
   "metadata": {},
   "source": [
    "<h1 style=\"text-align:center;font-family: 'Computer Modern Sans';font-weight:bolder\">Proyecto Final Electivo Ciencia de Datos</h1>"
   ]
  },
  {
   "cell_type": "markdown",
   "metadata": {},
   "source": [
    "El objetivo de este trabajo es crear un modelo predictivo para el impacto de las ventas dada una cierta inversion en distintos medios como TV, radio y prensa escrita. Para ello importaremos una base de datos con información sobre productos y el impacto en sus ventas luego de una inversión en distintos medios publicitarios."
   ]
  },
  {
   "cell_type": "markdown",
   "metadata": {},
   "source": [
    "Iniciaremos este analisis con la importación de nuestras herramientas para la programación, Libreria Ds para manipular nuestros datos, Librerias de visualización para graficar, libreria Machine Learning para crear un modelo predictivo y librerias para realizar un modelo econométrico."
   ]
  },
  {
   "cell_type": "code",
   "execution_count": 1,
   "metadata": {},
   "outputs": [],
   "source": [
    "#Libreria Ds\n",
    "import pandas as pd\n",
    "import numpy as np\n",
    "\n",
    "#libreria Visualización\n",
    "import matplotlib.pyplot as plt\n",
    "import seaborn as sns\n",
    "\n",
    "#Libreria Ml\n",
    "from sklearn.model_selection import train_test_split\n",
    "from sklearn.metrics import mean_squared_error, mean_absolute_error\n",
    "from sklearn.linear_model import LinearRegression\n",
    "\n",
    "#librerias modelo econométrico\n",
    "import statsmodels.formula.api as smf\n",
    "import statsmodels.api as sm"
   ]
  },
  {
   "cell_type": "markdown",
   "metadata": {},
   "source": [
    "Leemos nuestros datos sobre los cuales haremos un analisis exploratorio"
   ]
  },
  {
   "cell_type": "code",
   "execution_count": 3,
   "metadata": {},
   "outputs": [
    {
     "data": {
      "text/html": [
       "<div>\n",
       "<style scoped>\n",
       "    .dataframe tbody tr th:only-of-type {\n",
       "        vertical-align: middle;\n",
       "    }\n",
       "\n",
       "    .dataframe tbody tr th {\n",
       "        vertical-align: top;\n",
       "    }\n",
       "\n",
       "    .dataframe thead th {\n",
       "        text-align: right;\n",
       "    }\n",
       "</style>\n",
       "<table border=\"1\" class=\"dataframe\">\n",
       "  <thead>\n",
       "    <tr style=\"text-align: right;\">\n",
       "      <th></th>\n",
       "      <th>TV</th>\n",
       "      <th>radio</th>\n",
       "      <th>newspaper</th>\n",
       "      <th>sales</th>\n",
       "    </tr>\n",
       "  </thead>\n",
       "  <tbody>\n",
       "    <tr>\n",
       "      <th>0</th>\n",
       "      <td>230.1</td>\n",
       "      <td>37.8</td>\n",
       "      <td>69.2</td>\n",
       "      <td>22.1</td>\n",
       "    </tr>\n",
       "    <tr>\n",
       "      <th>1</th>\n",
       "      <td>44.5</td>\n",
       "      <td>39.3</td>\n",
       "      <td>45.1</td>\n",
       "      <td>10.4</td>\n",
       "    </tr>\n",
       "    <tr>\n",
       "      <th>2</th>\n",
       "      <td>17.2</td>\n",
       "      <td>45.9</td>\n",
       "      <td>69.3</td>\n",
       "      <td>9.3</td>\n",
       "    </tr>\n",
       "    <tr>\n",
       "      <th>3</th>\n",
       "      <td>151.5</td>\n",
       "      <td>41.3</td>\n",
       "      <td>58.5</td>\n",
       "      <td>18.5</td>\n",
       "    </tr>\n",
       "    <tr>\n",
       "      <th>4</th>\n",
       "      <td>180.8</td>\n",
       "      <td>10.8</td>\n",
       "      <td>58.4</td>\n",
       "      <td>12.9</td>\n",
       "    </tr>\n",
       "    <tr>\n",
       "      <th>...</th>\n",
       "      <td>...</td>\n",
       "      <td>...</td>\n",
       "      <td>...</td>\n",
       "      <td>...</td>\n",
       "    </tr>\n",
       "    <tr>\n",
       "      <th>195</th>\n",
       "      <td>38.2</td>\n",
       "      <td>3.7</td>\n",
       "      <td>13.8</td>\n",
       "      <td>7.6</td>\n",
       "    </tr>\n",
       "    <tr>\n",
       "      <th>196</th>\n",
       "      <td>94.2</td>\n",
       "      <td>4.9</td>\n",
       "      <td>8.1</td>\n",
       "      <td>9.7</td>\n",
       "    </tr>\n",
       "    <tr>\n",
       "      <th>197</th>\n",
       "      <td>177.0</td>\n",
       "      <td>9.3</td>\n",
       "      <td>6.4</td>\n",
       "      <td>12.8</td>\n",
       "    </tr>\n",
       "    <tr>\n",
       "      <th>198</th>\n",
       "      <td>283.6</td>\n",
       "      <td>42.0</td>\n",
       "      <td>66.2</td>\n",
       "      <td>25.5</td>\n",
       "    </tr>\n",
       "    <tr>\n",
       "      <th>199</th>\n",
       "      <td>232.1</td>\n",
       "      <td>8.6</td>\n",
       "      <td>8.7</td>\n",
       "      <td>13.4</td>\n",
       "    </tr>\n",
       "  </tbody>\n",
       "</table>\n",
       "<p>200 rows × 4 columns</p>\n",
       "</div>"
      ],
      "text/plain": [
       "        TV  radio  newspaper  sales\n",
       "0    230.1   37.8       69.2   22.1\n",
       "1     44.5   39.3       45.1   10.4\n",
       "2     17.2   45.9       69.3    9.3\n",
       "3    151.5   41.3       58.5   18.5\n",
       "4    180.8   10.8       58.4   12.9\n",
       "..     ...    ...        ...    ...\n",
       "195   38.2    3.7       13.8    7.6\n",
       "196   94.2    4.9        8.1    9.7\n",
       "197  177.0    9.3        6.4   12.8\n",
       "198  283.6   42.0       66.2   25.5\n",
       "199  232.1    8.6        8.7   13.4\n",
       "\n",
       "[200 rows x 4 columns]"
      ]
     },
     "execution_count": 3,
     "metadata": {},
     "output_type": "execute_result"
    }
   ],
   "source": [
    "#lectura de archivo\n",
    "df = pd.read_csv(\"Advertising.csv\")\n",
    "#eliminacion de \"columna unnamed : 0\"\n",
    "df = df.drop(columns=\"Unnamed: 0\")\n",
    "#Mostramos nuestros datos\n",
    "df"
   ]
  },
  {
   "cell_type": "markdown",
   "metadata": {},
   "source": [
    "Tenemos 200 productos con inversiones en publicidad para TV, radio y/o prensa escrita en miles de dolares. En la columna sales tenemos la venta de producto dada la inversión en publicidad en miles de unidades."
   ]
  },
  {
   "cell_type": "markdown",
   "metadata": {},
   "source": [
    "<h4 style=\"font-weight:300; color: #0c8fd5;\"> EXPLORACIÓN DE DATOS</h2>"
   ]
  },
  {
   "cell_type": "code",
   "execution_count": 5,
   "metadata": {},
   "outputs": [
    {
     "data": {
      "text/html": [
       "<div>\n",
       "<style scoped>\n",
       "    .dataframe tbody tr th:only-of-type {\n",
       "        vertical-align: middle;\n",
       "    }\n",
       "\n",
       "    .dataframe tbody tr th {\n",
       "        vertical-align: top;\n",
       "    }\n",
       "\n",
       "    .dataframe thead th {\n",
       "        text-align: right;\n",
       "    }\n",
       "</style>\n",
       "<table border=\"1\" class=\"dataframe\">\n",
       "  <thead>\n",
       "    <tr style=\"text-align: right;\">\n",
       "      <th></th>\n",
       "      <th>TV</th>\n",
       "      <th>radio</th>\n",
       "      <th>newspaper</th>\n",
       "      <th>sales</th>\n",
       "    </tr>\n",
       "  </thead>\n",
       "  <tbody>\n",
       "    <tr>\n",
       "      <th>count</th>\n",
       "      <td>200.000000</td>\n",
       "      <td>200.000000</td>\n",
       "      <td>200.000000</td>\n",
       "      <td>200.000000</td>\n",
       "    </tr>\n",
       "    <tr>\n",
       "      <th>mean</th>\n",
       "      <td>147.042500</td>\n",
       "      <td>23.264000</td>\n",
       "      <td>30.554000</td>\n",
       "      <td>14.022500</td>\n",
       "    </tr>\n",
       "    <tr>\n",
       "      <th>std</th>\n",
       "      <td>85.854236</td>\n",
       "      <td>14.846809</td>\n",
       "      <td>21.778621</td>\n",
       "      <td>5.217457</td>\n",
       "    </tr>\n",
       "    <tr>\n",
       "      <th>min</th>\n",
       "      <td>0.700000</td>\n",
       "      <td>0.000000</td>\n",
       "      <td>0.300000</td>\n",
       "      <td>1.600000</td>\n",
       "    </tr>\n",
       "    <tr>\n",
       "      <th>25%</th>\n",
       "      <td>74.375000</td>\n",
       "      <td>9.975000</td>\n",
       "      <td>12.750000</td>\n",
       "      <td>10.375000</td>\n",
       "    </tr>\n",
       "    <tr>\n",
       "      <th>50%</th>\n",
       "      <td>149.750000</td>\n",
       "      <td>22.900000</td>\n",
       "      <td>25.750000</td>\n",
       "      <td>12.900000</td>\n",
       "    </tr>\n",
       "    <tr>\n",
       "      <th>75%</th>\n",
       "      <td>218.825000</td>\n",
       "      <td>36.525000</td>\n",
       "      <td>45.100000</td>\n",
       "      <td>17.400000</td>\n",
       "    </tr>\n",
       "    <tr>\n",
       "      <th>max</th>\n",
       "      <td>296.400000</td>\n",
       "      <td>49.600000</td>\n",
       "      <td>114.000000</td>\n",
       "      <td>27.000000</td>\n",
       "    </tr>\n",
       "  </tbody>\n",
       "</table>\n",
       "</div>"
      ],
      "text/plain": [
       "               TV       radio   newspaper       sales\n",
       "count  200.000000  200.000000  200.000000  200.000000\n",
       "mean   147.042500   23.264000   30.554000   14.022500\n",
       "std     85.854236   14.846809   21.778621    5.217457\n",
       "min      0.700000    0.000000    0.300000    1.600000\n",
       "25%     74.375000    9.975000   12.750000   10.375000\n",
       "50%    149.750000   22.900000   25.750000   12.900000\n",
       "75%    218.825000   36.525000   45.100000   17.400000\n",
       "max    296.400000   49.600000  114.000000   27.000000"
      ]
     },
     "execution_count": 5,
     "metadata": {},
     "output_type": "execute_result"
    }
   ],
   "source": [
    "df.describe()"
   ]
  },
  {
   "cell_type": "markdown",
   "metadata": {},
   "source": [
    "Tenemos 200 datos en cada columna, en promedio las inversiones son mayores en TV."
   ]
  },
  {
   "cell_type": "markdown",
   "metadata": {},
   "source": [
    "<h4 style=\"font-weight:300; color: purple;\"> Análisis univariado y multivariado</h2>"
   ]
  },
  {
   "cell_type": "markdown",
   "metadata": {},
   "source": [
    "Ahora definiremos funciones para generar graficos y ver la distribución de nuestros datos"
   ]
  },
  {
   "cell_type": "code",
   "execution_count": 13,
   "metadata": {},
   "outputs": [],
   "source": [
    "def distribucion(df,var):\n",
    "    \"\"\"\n",
    "    Esta función grafica un histograma y un boxplot para cada variable y los deja uno al lado del otro.\n",
    "    \"\"\"\n",
    "    plt.figure(figsize = (14,4))\n",
    "    plt.subplot(1,2,1)\n",
    "    plt.title(f\"Histograma de {var}\")\n",
    "    sns.distplot(df[var]);\n",
    "    plt.subplot(1,2,2)\n",
    "    plt.title(f\"Boxplot de {var} \")\n",
    "    sns.boxplot(df[var]);\n",
    "#Definimos una función para poder hacer los gráficos scatterplot solo cambiando la variable.\n",
    "def scatter(df,var1):\n",
    "    \"\"\"\n",
    "    Esta función grafica una distribución marcando puntos en un plano cartesiano \n",
    "    \"\"\"\n",
    "    plt.title(f\"Gráfico de dispersión Scatterplot de {var1}\")\n",
    "    sns.scatterplot(df[var1],df[\"sales\"]);"
   ]
  },
  {
   "cell_type": "code",
   "execution_count": 10,
   "metadata": {},
   "outputs": [
    {
     "data": {
      "image/png": "[encoded data removed]",
      "text/plain": [
       "<Figure size 1008x288 with 2 Axes>"
      ]
     },
     "metadata": {
      "needs_background": "light"
     },
     "output_type": "display_data"
    }
   ],
   "source": [
    "distribucion(df,\"TV\")"
   ]
  },
  {
   "cell_type": "markdown",
   "metadata": {},
   "source": [
    "En la distribucion de las inversiones en TV podemos apreciar una media de 150 y la mayoria de los datos sobre 50"
   ]
  },
  {
   "cell_type": "code",
   "execution_count": 14,
   "metadata": {},
   "outputs": [
    {
     "data": {
      "image/png": "[encoded data removed]",
      "text/plain": [
       "<Figure size 432x288 with 1 Axes>"
      ]
     },
     "metadata": {
      "needs_background": "light"
     },
     "output_type": "display_data"
    }
   ],
   "source": [
    "scatter(df,\"TV\")"
   ]
  },
  {
   "cell_type": "markdown",
   "metadata": {},
   "source": [
    "Con respecto al impacto de la inversion publicitaria en TV podemos encontrar una cierta relación lineal, a medida que aumenta la inversion, aumentan las ventas."
   ]
  },
  {
   "cell_type": "code",
   "execution_count": 12,
   "metadata": {},
   "outputs": [
    {
     "data": {
      "image/png": "[encoded data removed]",
      "text/plain": [
       "<Figure size 1008x288 with 2 Axes>"
      ]
     },
     "metadata": {
      "needs_background": "light"
     },
     "output_type": "display_data"
    }
   ],
   "source": [
    "distribucion(df,\"radio\")"
   ]
  },
  {
   "cell_type": "markdown",
   "metadata": {},
   "source": [
    "Media de 23 y mayor tendencia a bajas inversiones"
   ]
  },
  {
   "cell_type": "code",
   "execution_count": 15,
   "metadata": {},
   "outputs": [
    {
     "data": {
      "image/png": "[encoded data removed]",
      "text/plain": [
       "<Figure size 432x288 with 1 Axes>"
      ]
     },
     "metadata": {
      "needs_background": "light"
     },
     "output_type": "display_data"
    }
   ],
   "source": [
    "scatter(df,\"radio\")"
   ]
  },
  {
   "cell_type": "markdown",
   "metadata": {},
   "source": [
    "No se aprecia una relación certera, ya que observamos muchos datos con alta inversion y variados impactos en la venta."
   ]
  },
  {
   "cell_type": "code",
   "execution_count": 16,
   "metadata": {},
   "outputs": [
    {
     "data": {
      "image/png": "[encoded data removed]",
      "text/plain": [
       "<Figure size 1008x288 with 2 Axes>"
      ]
     },
     "metadata": {
      "needs_background": "light"
     },
     "output_type": "display_data"
    }
   ],
   "source": [
    "distribucion(df,\"newspaper\")"
   ]
  },
  {
   "cell_type": "markdown",
   "metadata": {},
   "source": [
    "Mayor tendencia a bajas inversiones con algunas pocas excepciones de gran inversion."
   ]
  },
  {
   "cell_type": "code",
   "execution_count": 17,
   "metadata": {},
   "outputs": [
    {
     "data": {
      "image/png": "[encoded data removed]",
      "text/plain": [
       "<Figure size 432x288 with 1 Axes>"
      ]
     },
     "metadata": {
      "needs_background": "light"
     },
     "output_type": "display_data"
    }
   ],
   "source": [
    "scatter(df,\"newspaper\")"
   ]
  },
  {
   "cell_type": "markdown",
   "metadata": {},
   "source": [
    "Con respecto a las altas inversiones excepcionales vistas en el grafico anterior, no podemos asegurar resultados positivos ya que existe una gran diferencia para ambos productos, incusive el de mayor inversion tiene mucho menos ventas que el de segunda mayor inversion.\n",
    "No se aprecía ningun atisbo de relación lineal."
   ]
  },
  {
   "cell_type": "markdown",
   "metadata": {},
   "source": [
    "<h4 style=\"font-weight:300; color: purple;\"> Análisis de correlaciones</h2>"
   ]
  },
  {
   "cell_type": "code",
   "execution_count": 21,
   "metadata": {},
   "outputs": [
    {
     "data": {
      "image/png": "[encoded data removed]",
      "text/plain": [
       "<Figure size 504x504 with 2 Axes>"
      ]
     },
     "metadata": {
      "needs_background": "light"
     },
     "output_type": "display_data"
    }
   ],
   "source": [
    "corr = df.corr()\n",
    "plt.figure(figsize = (7,7))\n",
    "sns.heatmap(corr,annot=True);"
   ]
  },
  {
   "cell_type": "markdown",
   "metadata": {},
   "source": [
    "Según la matriz de correlaciones, tenemos en orden descendente de importancia a TV, radio y periódicos."
   ]
  },
  {
   "cell_type": "markdown",
   "metadata": {},
   "source": [
    "<h4 style=\"font-weight:300; color: #0c8fd5;\"> MODELO ECONOMÉTRICO</h2>"
   ]
  },
  {
   "cell_type": "markdown",
   "metadata": {},
   "source": [
    "<h4 style=\"font-weight:300; color: purple;\"> MODELO DE REGRESIÓN LINEAL SIMPLE</h2>"
   ]
  },
  {
   "cell_type": "markdown",
   "metadata": {},
   "source": [
    "Utilizando la libreria smf, especificamente al método ols modelaremos los datos como una regresión lineal, donde la variable dependiente será \"sales\" y la independiente \"TV\"."
   ]
  },
  {
   "cell_type": "code",
   "execution_count": 24,
   "metadata": {},
   "outputs": [],
   "source": [
    "modelo = smf.ols(\"sales ~ TV \", data = df).fit()"
   ]
  },
  {
   "cell_type": "markdown",
   "metadata": {},
   "source": [
    "Para obtener el valor de los coeficientes de nuestro modelo de regresión utilizaremos la función summary(), que nos estregará un modelo del resumen que incluye los datos que necesitamos:"
   ]
  },
  {
   "cell_type": "code",
   "execution_count": 25,
   "metadata": {},
   "outputs": [
    {
     "data": {
      "text/html": [
       "<table class=\"simpletable\">\n",
       "<caption>OLS Regression Results</caption>\n",
       "<tr>\n",
       "  <th>Dep. Variable:</th>          <td>sales</td>      <th>  R-squared:         </th> <td>   0.612</td>\n",
       "</tr>\n",
       "<tr>\n",
       "  <th>Model:</th>                   <td>OLS</td>       <th>  Adj. R-squared:    </th> <td>   0.610</td>\n",
       "</tr>\n",
       "<tr>\n",
       "  <th>Method:</th>             <td>Least Squares</td>  <th>  F-statistic:       </th> <td>   312.1</td>\n",
       "</tr>\n",
       "<tr>\n",
       "  <th>Date:</th>             <td>Fri, 22 Jan 2021</td> <th>  Prob (F-statistic):</th> <td>1.47e-42</td>\n",
       "</tr>\n",
       "<tr>\n",
       "  <th>Time:</th>                 <td>18:55:16</td>     <th>  Log-Likelihood:    </th> <td> -519.05</td>\n",
       "</tr>\n",
       "<tr>\n",
       "  <th>No. Observations:</th>      <td>   200</td>      <th>  AIC:               </th> <td>   1042.</td>\n",
       "</tr>\n",
       "<tr>\n",
       "  <th>Df Residuals:</th>          <td>   198</td>      <th>  BIC:               </th> <td>   1049.</td>\n",
       "</tr>\n",
       "<tr>\n",
       "  <th>Df Model:</th>              <td>     1</td>      <th>                     </th>     <td> </td>   \n",
       "</tr>\n",
       "<tr>\n",
       "  <th>Covariance Type:</th>      <td>nonrobust</td>    <th>                     </th>     <td> </td>   \n",
       "</tr>\n",
       "</table>\n",
       "<table class=\"simpletable\">\n",
       "<tr>\n",
       "      <td></td>         <th>coef</th>     <th>std err</th>      <th>t</th>      <th>P>|t|</th>  <th>[0.025</th>    <th>0.975]</th>  \n",
       "</tr>\n",
       "<tr>\n",
       "  <th>Intercept</th> <td>    7.0326</td> <td>    0.458</td> <td>   15.360</td> <td> 0.000</td> <td>    6.130</td> <td>    7.935</td>\n",
       "</tr>\n",
       "<tr>\n",
       "  <th>TV</th>        <td>    0.0475</td> <td>    0.003</td> <td>   17.668</td> <td> 0.000</td> <td>    0.042</td> <td>    0.053</td>\n",
       "</tr>\n",
       "</table>\n",
       "<table class=\"simpletable\">\n",
       "<tr>\n",
       "  <th>Omnibus:</th>       <td> 0.531</td> <th>  Durbin-Watson:     </th> <td>   1.935</td>\n",
       "</tr>\n",
       "<tr>\n",
       "  <th>Prob(Omnibus):</th> <td> 0.767</td> <th>  Jarque-Bera (JB):  </th> <td>   0.669</td>\n",
       "</tr>\n",
       "<tr>\n",
       "  <th>Skew:</th>          <td>-0.089</td> <th>  Prob(JB):          </th> <td>   0.716</td>\n",
       "</tr>\n",
       "<tr>\n",
       "  <th>Kurtosis:</th>      <td> 2.779</td> <th>  Cond. No.          </th> <td>    338.</td>\n",
       "</tr>\n",
       "</table><br/><br/>Warnings:<br/>[1] Standard Errors assume that the covariance matrix of the errors is correctly specified."
      ],
      "text/plain": [
       "<class 'statsmodels.iolib.summary.Summary'>\n",
       "\"\"\"\n",
       "                            OLS Regression Results                            \n",
       "==============================================================================\n",
       "Dep. Variable:                  sales   R-squared:                       0.612\n",
       "Model:                            OLS   Adj. R-squared:                  0.610\n",
       "Method:                 Least Squares   F-statistic:                     312.1\n",
       "Date:                Fri, 22 Jan 2021   Prob (F-statistic):           1.47e-42\n",
       "Time:                        18:55:16   Log-Likelihood:                -519.05\n",
       "No. Observations:                 200   AIC:                             1042.\n",
       "Df Residuals:                     198   BIC:                             1049.\n",
       "Df Model:                           1                                         \n",
       "Covariance Type:            nonrobust                                         \n",
       "==============================================================================\n",
       "                 coef    std err          t      P>|t|      [0.025      0.975]\n",
       "------------------------------------------------------------------------------\n",
       "Intercept      7.0326      0.458     15.360      0.000       6.130       7.935\n",
       "TV             0.0475      0.003     17.668      0.000       0.042       0.053\n",
       "==============================================================================\n",
       "Omnibus:                        0.531   Durbin-Watson:                   1.935\n",
       "Prob(Omnibus):                  0.767   Jarque-Bera (JB):                0.669\n",
       "Skew:                          -0.089   Prob(JB):                        0.716\n",
       "Kurtosis:                       2.779   Cond. No.                         338.\n",
       "==============================================================================\n",
       "\n",
       "Warnings:\n",
       "[1] Standard Errors assume that the covariance matrix of the errors is correctly specified.\n",
       "\"\"\""
      ]
     },
     "execution_count": 25,
     "metadata": {},
     "output_type": "execute_result"
    }
   ],
   "source": [
    "modelo.summary()"
   ]
  },
  {
   "cell_type": "markdown",
   "metadata": {},
   "source": [
    "Los coeficientes que nos interesarán para el siguiente gráfico son coef Intercept = B0 = 7.0326 y coef TV =  B1 = 0.0475. "
   ]
  },
  {
   "cell_type": "markdown",
   "metadata": {},
   "source": [
    "La siguiente función corresponde al ajuste lineal y_pred(x) = B1x + B0: "
   ]
  },
  {
   "cell_type": "code",
   "execution_count": 79,
   "metadata": {},
   "outputs": [],
   "source": [
    " def y_pred(x):\n",
    "    \"\"\"\n",
    "    Esta función nos entrega el impacto en las ventas dada una inversión en TV.\n",
    "    \"\"\"\n",
    "    return B1*x+ B0"
   ]
  },
  {
   "cell_type": "code",
   "execution_count": 27,
   "metadata": {},
   "outputs": [
    {
     "data": {
      "image/png": "[encoded data removed]",
      "text/plain": [
       "<Figure size 432x288 with 1 Axes>"
      ]
     },
     "metadata": {
      "needs_background": "light"
     },
     "output_type": "display_data"
    }
   ],
   "source": [
    "B1 = 0.0475\n",
    "B0 = 7.0326\n",
    "sns.scatterplot(x = \"TV\",y = \"sales\",data = df, color=\"red\") #creamos el gráfico \n",
    "plt.plot([0,300],[0*B1+B0 ,B1*300+B0 ],color=\"blue\") #Agregamos una recta que describe el modelo econométrico\n",
    "plt.title(\"Ventas vs inversión publicitaria en TV\")\n",
    "plt.xlabel(\"Inversión en TV (miles de dolares)\")\n",
    "plt.ylabel(\"Ventas (miles de unidades)\");"
   ]
  },
  {
   "cell_type": "markdown",
   "metadata": {},
   "source": [
    "Consideremos una inversión de 1000 dolares en publicidad en TV y veamos como se comporta en nuestro ajuste lineal mediante la función y_pred(x) antes definida. Como la inversión está en miles de dolares, nuestro x será 1:"
   ]
  },
  {
   "cell_type": "code",
   "execution_count": 28,
   "metadata": {},
   "outputs": [
    {
     "data": {
      "text/plain": [
       "7.080100000000001"
      ]
     },
     "execution_count": 28,
     "metadata": {},
     "output_type": "execute_result"
    }
   ],
   "source": [
    "y_pred(1)"
   ]
  },
  {
   "cell_type": "markdown",
   "metadata": {},
   "source": [
    "Según nuestro modelo invertir 1000 dólares en publicidad en TV se ve reflejado en la venta de aproximadamente 7 mil unidades más de productos en promedio."
   ]
  },
  {
   "cell_type": "markdown",
   "metadata": {},
   "source": [
    "Otro valor importante que nos entrega summary() será el error standar de TV. Este error corresponde a a la minimización del modelo RSS."
   ]
  },
  {
   "cell_type": "markdown",
   "metadata": {},
   "source": [
    "Podemos definir el RSS como la suma de los residuos al cuadrado, donde residuo está definido como (y - y_pred), es decir, la distancia entre el valor real de los datos y el valor predicho por nuestro modelo de regresión lineal. Cuando nos referimos a minimizar, hablamos del método OLS en donde obtenemos el residuo más pequeño lo que nos asegura que el ajuste de la recta al conjunto de puntos será el mejor. "
   ]
  },
  {
   "cell_type": "markdown",
   "metadata": {},
   "source": [
    "Para nuestro modelo el valor mínimo de RSS encontrado es de 0.003. Lo que nos falta analizar es si nuestro error y el coeficiente B1(coef TV) son plausibles, esto lo haremos mediante el siguiente gráfico de residuos vs valores ajustados, donde los valores ajustados corresponden al y_pred."
   ]
  },
  {
   "cell_type": "code",
   "execution_count": 29,
   "metadata": {},
   "outputs": [
    {
     "data": {
      "image/png": "[encoded data removed]",
      "text/plain": [
       "<Figure size 432x288 with 1 Axes>"
      ]
     },
     "metadata": {
      "needs_background": "light"
     },
     "output_type": "display_data"
    }
   ],
   "source": [
    "plt.plot(modelo.predict(df[\"TV\"]),modelo.resid,\"bo\") #creación del gráfico\n",
    "plt.title(\"Residuos vs Valores ajustados\")\n",
    "plt.xlabel(\"valores ajustados\")\n",
    "plt.ylabel(\"residuos\");"
   ]
  },
  {
   "cell_type": "markdown",
   "metadata": {},
   "source": [
    "Podemos notar que el coeficiente B1 y el error standar son plausibles pues el gráfico tiene una distribución random de los errores al rededor de cero, sin tendencia ni a la media de los residuos ni a su variabilidad a medida que su valor incrementa."
   ]
  },
  {
   "cell_type": "markdown",
   "metadata": {},
   "source": [
    "<h4 style=\"font-weight:300; color: purple;\"> MODELO DE REGRESIÓN LINEAL SATURADO</h2>"
   ]
  },
  {
   "cell_type": "markdown",
   "metadata": {},
   "source": [
    "Realizamos un modelo de regresión lineal saturado con variables independientes \"TV\",\"newspaper\" y \"radio\"y variable dependiente \"sales. Al igual que en el modelo de regresión lineal simple, usaremos el método ols."
   ]
  },
  {
   "cell_type": "code",
   "execution_count": 31,
   "metadata": {},
   "outputs": [],
   "source": [
    "modelo1 = smf.ols(\"sales ~ TV + radio + newspaper \", data = df).fit()"
   ]
  },
  {
   "cell_type": "code",
   "execution_count": 32,
   "metadata": {},
   "outputs": [
    {
     "data": {
      "text/html": [
       "<table class=\"simpletable\">\n",
       "<caption>OLS Regression Results</caption>\n",
       "<tr>\n",
       "  <th>Dep. Variable:</th>          <td>sales</td>      <th>  R-squared:         </th> <td>   0.897</td>\n",
       "</tr>\n",
       "<tr>\n",
       "  <th>Model:</th>                   <td>OLS</td>       <th>  Adj. R-squared:    </th> <td>   0.896</td>\n",
       "</tr>\n",
       "<tr>\n",
       "  <th>Method:</th>             <td>Least Squares</td>  <th>  F-statistic:       </th> <td>   570.3</td>\n",
       "</tr>\n",
       "<tr>\n",
       "  <th>Date:</th>             <td>Fri, 22 Jan 2021</td> <th>  Prob (F-statistic):</th> <td>1.58e-96</td>\n",
       "</tr>\n",
       "<tr>\n",
       "  <th>Time:</th>                 <td>18:59:21</td>     <th>  Log-Likelihood:    </th> <td> -386.18</td>\n",
       "</tr>\n",
       "<tr>\n",
       "  <th>No. Observations:</th>      <td>   200</td>      <th>  AIC:               </th> <td>   780.4</td>\n",
       "</tr>\n",
       "<tr>\n",
       "  <th>Df Residuals:</th>          <td>   196</td>      <th>  BIC:               </th> <td>   793.6</td>\n",
       "</tr>\n",
       "<tr>\n",
       "  <th>Df Model:</th>              <td>     3</td>      <th>                     </th>     <td> </td>   \n",
       "</tr>\n",
       "<tr>\n",
       "  <th>Covariance Type:</th>      <td>nonrobust</td>    <th>                     </th>     <td> </td>   \n",
       "</tr>\n",
       "</table>\n",
       "<table class=\"simpletable\">\n",
       "<tr>\n",
       "      <td></td>         <th>coef</th>     <th>std err</th>      <th>t</th>      <th>P>|t|</th>  <th>[0.025</th>    <th>0.975]</th>  \n",
       "</tr>\n",
       "<tr>\n",
       "  <th>Intercept</th> <td>    2.9389</td> <td>    0.312</td> <td>    9.422</td> <td> 0.000</td> <td>    2.324</td> <td>    3.554</td>\n",
       "</tr>\n",
       "<tr>\n",
       "  <th>TV</th>        <td>    0.0458</td> <td>    0.001</td> <td>   32.809</td> <td> 0.000</td> <td>    0.043</td> <td>    0.049</td>\n",
       "</tr>\n",
       "<tr>\n",
       "  <th>radio</th>     <td>    0.1885</td> <td>    0.009</td> <td>   21.893</td> <td> 0.000</td> <td>    0.172</td> <td>    0.206</td>\n",
       "</tr>\n",
       "<tr>\n",
       "  <th>newspaper</th> <td>   -0.0010</td> <td>    0.006</td> <td>   -0.177</td> <td> 0.860</td> <td>   -0.013</td> <td>    0.011</td>\n",
       "</tr>\n",
       "</table>\n",
       "<table class=\"simpletable\">\n",
       "<tr>\n",
       "  <th>Omnibus:</th>       <td>60.414</td> <th>  Durbin-Watson:     </th> <td>   2.084</td>\n",
       "</tr>\n",
       "<tr>\n",
       "  <th>Prob(Omnibus):</th> <td> 0.000</td> <th>  Jarque-Bera (JB):  </th> <td> 151.241</td>\n",
       "</tr>\n",
       "<tr>\n",
       "  <th>Skew:</th>          <td>-1.327</td> <th>  Prob(JB):          </th> <td>1.44e-33</td>\n",
       "</tr>\n",
       "<tr>\n",
       "  <th>Kurtosis:</th>      <td> 6.332</td> <th>  Cond. No.          </th> <td>    454.</td>\n",
       "</tr>\n",
       "</table><br/><br/>Warnings:<br/>[1] Standard Errors assume that the covariance matrix of the errors is correctly specified."
      ],
      "text/plain": [
       "<class 'statsmodels.iolib.summary.Summary'>\n",
       "\"\"\"\n",
       "                            OLS Regression Results                            \n",
       "==============================================================================\n",
       "Dep. Variable:                  sales   R-squared:                       0.897\n",
       "Model:                            OLS   Adj. R-squared:                  0.896\n",
       "Method:                 Least Squares   F-statistic:                     570.3\n",
       "Date:                Fri, 22 Jan 2021   Prob (F-statistic):           1.58e-96\n",
       "Time:                        18:59:21   Log-Likelihood:                -386.18\n",
       "No. Observations:                 200   AIC:                             780.4\n",
       "Df Residuals:                     196   BIC:                             793.6\n",
       "Df Model:                           3                                         \n",
       "Covariance Type:            nonrobust                                         \n",
       "==============================================================================\n",
       "                 coef    std err          t      P>|t|      [0.025      0.975]\n",
       "------------------------------------------------------------------------------\n",
       "Intercept      2.9389      0.312      9.422      0.000       2.324       3.554\n",
       "TV             0.0458      0.001     32.809      0.000       0.043       0.049\n",
       "radio          0.1885      0.009     21.893      0.000       0.172       0.206\n",
       "newspaper     -0.0010      0.006     -0.177      0.860      -0.013       0.011\n",
       "==============================================================================\n",
       "Omnibus:                       60.414   Durbin-Watson:                   2.084\n",
       "Prob(Omnibus):                  0.000   Jarque-Bera (JB):              151.241\n",
       "Skew:                          -1.327   Prob(JB):                     1.44e-33\n",
       "Kurtosis:                       6.332   Cond. No.                         454.\n",
       "==============================================================================\n",
       "\n",
       "Warnings:\n",
       "[1] Standard Errors assume that the covariance matrix of the errors is correctly specified.\n",
       "\"\"\""
      ]
     },
     "execution_count": 32,
     "metadata": {},
     "output_type": "execute_result"
    }
   ],
   "source": [
    "modelo1.summary()"
   ]
  },
  {
   "cell_type": "markdown",
   "metadata": {},
   "source": [
    "Graficamos para cada una de las variables independientes:"
   ]
  },
  {
   "cell_type": "code",
   "execution_count": 33,
   "metadata": {},
   "outputs": [
    {
     "data": {
      "image/png": "[encoded data removed]",
      "text/plain": [
       "<Figure size 432x288 with 1 Axes>"
      ]
     },
     "metadata": {
      "needs_background": "light"
     },
     "output_type": "display_data"
    }
   ],
   "source": [
    "B1 = 0.0458\n",
    "B0 = 2.9389\n",
    "sns.scatterplot(x = \"TV\",y = \"sales\",data = df, color=\"purple\") #creamos el gráfico \n",
    "plt.plot([0,300],[0*B1+B0 ,B1*300+B0 ],color=\"blue\")#Agregamos una recta que describe el modelo econométrico\n",
    "plt.title(\"Ventas vs inversión publicitaria en TV\")\n",
    "plt.xlabel(\"Inversión en TV (miles de dolares)\")\n",
    "plt.ylabel(\"Ventas (miles de unidades)\");"
   ]
  },
  {
   "cell_type": "markdown",
   "metadata": {},
   "source": [
    "A diferencia del gráfico del modelo lineal simple, esta recta pasa por debajo de la mayoría de los punto, pero aún asi sigue la tendencia de los puntos a crecer."
   ]
  },
  {
   "cell_type": "code",
   "execution_count": 72,
   "metadata": {},
   "outputs": [
    {
     "data": {
      "image/png": "[encoded data removed]",
      "text/plain": [
       "<Figure size 432x288 with 1 Axes>"
      ]
     },
     "metadata": {
      "needs_background": "light"
     },
     "output_type": "display_data"
    }
   ],
   "source": [
    "B1 = 0.1885\n",
    "B0 =  2.9389\n",
    "sns.scatterplot(x = \"radio\",y = \"sales\",data = df, color=\"purple\") #creamos el gráfico \n",
    "plt.plot([0,60],[0*B1+B0 ,B1*60+B0 ],color=\"blue\") #Agregamos una recta que describe el modelo econométrico\n",
    "plt.title(\"Ventas vs inversión publicitaria en radio\")\n",
    "plt.xlabel(\"Inversión en radio (miles de dolares)\")\n",
    "plt.ylabel(\"Ventas (miles de unidades)\");"
   ]
  },
  {
   "cell_type": "markdown",
   "metadata": {},
   "source": [
    "Notemos que a pesar que la recta queda muy alejada de la mayoría de los puntos(error std alto) sigue su tendencia a crecer. "
   ]
  },
  {
   "cell_type": "code",
   "execution_count": 82,
   "metadata": {},
   "outputs": [
    {
     "data": {
      "image/png": "[encoded data removed]",
      "text/plain": [
       "<Figure size 432x288 with 1 Axes>"
      ]
     },
     "metadata": {
      "needs_background": "light"
     },
     "output_type": "display_data"
    }
   ],
   "source": [
    "B1 = -0.010\n",
    "B0 =  2.9389\n",
    "sns.scatterplot(x = \"radio\",y = \"sales\",data = df, color=\"purple\") #creamos el gráfico \n",
    "plt.plot([0,60],[0*B1+B0 ,B1*60+B0 ],color=\"blue\") #Agregamos una recta que describe el modelo econométrico\n",
    "plt.title(\"Ventas vs inversión publicitaria en newspaper\")\n",
    "plt.xlabel(\"Inversión en newspaper (miles de dolares)\")\n",
    "plt.ylabel(\"Ventas (miles de unidades)\");"
   ]
  },
  {
   "cell_type": "markdown",
   "metadata": {},
   "source": [
    "Esta recta no se ajusta para nada a los datos de newspaper. La recta tiene tendencia de decrecer y los puntos a crecer."
   ]
  },
  {
   "cell_type": "markdown",
   "metadata": {},
   "source": [
    " <h4 style=\"font-weight:300; color: blue;\"> CONCLUSIONES SOBRE EL MODELO ECONOMÉTRICO</h2>"
   ]
  },
  {
   "cell_type": "markdown",
   "metadata": {},
   "source": [
    "Podemos decir que al comparar el gráfico \"Ventas vs inversión en TV\" con ambos modelos el primero visualmente parece mejor ajustado pero el error std del modelo saturado es menor(0.003 vs 0.001). El problema del modelo saturado viene de que el error std de sus otras variables independiente es muy alto(a comparación de los otros errores). Por lo tanto el modelo saturado no se ajusta a todas sus variables independiente, osea si a un cliente le pides información sobre(TV, radio, newspaper) la predicción sería más correcta si solo usaramos la columna TV y radio, pues en el gráfico de inversiones en radio vs sales también tiende a ajustarse al modelo regresión lineal(con respecto al crecimiento)."
   ]
  },
  {
   "cell_type": "markdown",
   "metadata": {},
   "source": [
    "Con esto concluimos que el modelo econométrico de regresión lineal simple es mejor que el saturado para todo el conjunto de datos."
   ]
  },
  {
   "cell_type": "markdown",
   "metadata": {},
   "source": [
    "<h4 style=\"font-weight:300; color: #0c8fd5;\"> MODELO MACHINE LEARNING</h2>"
   ]
  },
  {
   "cell_type": "markdown",
   "metadata": {},
   "source": [
    "Definimos diferentes variables para entrenar distintos modelos"
   ]
  },
  {
   "cell_type": "code",
   "execution_count": 36,
   "metadata": {},
   "outputs": [],
   "source": [
    "X = df[[\"TV\",\"radio\",\"newspaper\"]] #modelo saturado\n",
    "y = df[\"sales\"]\n",
    "X1= df[[\"TV\",\"radio\"]] #Modelo de TV  y radio.\n",
    "X2 = df[[\"TV\"]] #Modelo solo TV."
   ]
  },
  {
   "cell_type": "markdown",
   "metadata": {},
   "source": [
    "Separamos en datos para entrenar y datos para probar nuestro modelo"
   ]
  },
  {
   "cell_type": "code",
   "execution_count": 61,
   "metadata": {},
   "outputs": [],
   "source": [
    "X_train,X_test,y_train,y_test = train_test_split(X,y,test_size = .3, random_state =505) #modelo saturado\n",
    "X1_train,X1_test,y1_train,y1_test = train_test_split(X1,y,test_size = .3,random_state =505) #Modelo de TV  y radio.\n",
    "X2_train,X2_test,y2_train,y2_test = train_test_split(X2,y,test_size = .3,random_state =505)#Modelo solo TV."
   ]
  },
  {
   "cell_type": "code",
   "execution_count": 62,
   "metadata": {},
   "outputs": [
    {
     "data": {
      "text/html": [
       "<div>\n",
       "<style scoped>\n",
       "    .dataframe tbody tr th:only-of-type {\n",
       "        vertical-align: middle;\n",
       "    }\n",
       "\n",
       "    .dataframe tbody tr th {\n",
       "        vertical-align: top;\n",
       "    }\n",
       "\n",
       "    .dataframe thead th {\n",
       "        text-align: right;\n",
       "    }\n",
       "</style>\n",
       "<table border=\"1\" class=\"dataframe\">\n",
       "  <thead>\n",
       "    <tr style=\"text-align: right;\">\n",
       "      <th></th>\n",
       "      <th>TV</th>\n",
       "      <th>radio</th>\n",
       "    </tr>\n",
       "  </thead>\n",
       "  <tbody>\n",
       "    <tr>\n",
       "      <th>150</th>\n",
       "      <td>280.7</td>\n",
       "      <td>13.9</td>\n",
       "    </tr>\n",
       "    <tr>\n",
       "      <th>8</th>\n",
       "      <td>8.6</td>\n",
       "      <td>2.1</td>\n",
       "    </tr>\n",
       "    <tr>\n",
       "      <th>154</th>\n",
       "      <td>187.8</td>\n",
       "      <td>21.1</td>\n",
       "    </tr>\n",
       "    <tr>\n",
       "      <th>24</th>\n",
       "      <td>62.3</td>\n",
       "      <td>12.6</td>\n",
       "    </tr>\n",
       "    <tr>\n",
       "      <th>194</th>\n",
       "      <td>149.7</td>\n",
       "      <td>35.6</td>\n",
       "    </tr>\n",
       "    <tr>\n",
       "      <th>...</th>\n",
       "      <td>...</td>\n",
       "      <td>...</td>\n",
       "    </tr>\n",
       "    <tr>\n",
       "      <th>158</th>\n",
       "      <td>11.7</td>\n",
       "      <td>36.9</td>\n",
       "    </tr>\n",
       "    <tr>\n",
       "      <th>115</th>\n",
       "      <td>75.1</td>\n",
       "      <td>35.0</td>\n",
       "    </tr>\n",
       "    <tr>\n",
       "      <th>149</th>\n",
       "      <td>44.7</td>\n",
       "      <td>25.8</td>\n",
       "    </tr>\n",
       "    <tr>\n",
       "      <th>156</th>\n",
       "      <td>93.9</td>\n",
       "      <td>43.5</td>\n",
       "    </tr>\n",
       "    <tr>\n",
       "      <th>137</th>\n",
       "      <td>273.7</td>\n",
       "      <td>28.9</td>\n",
       "    </tr>\n",
       "  </tbody>\n",
       "</table>\n",
       "<p>140 rows × 2 columns</p>\n",
       "</div>"
      ],
      "text/plain": [
       "        TV  radio\n",
       "150  280.7   13.9\n",
       "8      8.6    2.1\n",
       "154  187.8   21.1\n",
       "24    62.3   12.6\n",
       "194  149.7   35.6\n",
       "..     ...    ...\n",
       "158   11.7   36.9\n",
       "115   75.1   35.0\n",
       "149   44.7   25.8\n",
       "156   93.9   43.5\n",
       "137  273.7   28.9\n",
       "\n",
       "[140 rows x 2 columns]"
      ]
     },
     "execution_count": 62,
     "metadata": {},
     "output_type": "execute_result"
    }
   ],
   "source": [
    "X1_train "
   ]
  },
  {
   "cell_type": "code",
   "execution_count": 63,
   "metadata": {},
   "outputs": [],
   "source": [
    "# Definición del modelo de regresión lineal \n",
    "Regresion = LinearRegression(fit_intercept = True)"
   ]
  },
  {
   "cell_type": "code",
   "execution_count": 64,
   "metadata": {},
   "outputs": [],
   "source": [
    "# Entrenamiento del modelo de regresión lineal 1\n",
    "Modelo1 = Regresion.fit(X_train,y_train) #modelo saturado\n",
    "y_pred = Modelo1.predict(X_test)"
   ]
  },
  {
   "cell_type": "code",
   "execution_count": 65,
   "metadata": {},
   "outputs": [],
   "source": [
    "# Entrenamiento del modelo de regresión lineal 2\n",
    "Modelo2 = Regresion.fit(X1_train,y1_train) #Modelo de TV  y radio.\n",
    "y1_pred = Modelo2.predict(X1_test)"
   ]
  },
  {
   "cell_type": "code",
   "execution_count": 66,
   "metadata": {},
   "outputs": [],
   "source": [
    "# Entrenamiento del modelo de regresión lineal 3\n",
    "Modelo3 = Regresion.fit(X2_train,y2_train)#Modelo solo TV.\n",
    "y2_pred = Modelo3.predict(X2_test)"
   ]
  },
  {
   "cell_type": "markdown",
   "metadata": {},
   "source": [
    "Luego de entrenar nuestros modelos procedemos a hacer las comparaciones entre ellos. Para esto introduciremos 3 tipos de errores: el error cuadrático medio, el error absoluto medio y la raíz del error cuadrático medio."
   ]
  },
  {
   "cell_type": "markdown",
   "metadata": {},
   "source": [
    "La diferencia entre el error cuadrático medio y el error absoluto medio es que el primero al elevar al cuadrado las componentes de la distancia genera un mayor valor si es que la distancia es muy grande, en comparación con el segundo error."
   ]
  },
  {
   "cell_type": "markdown",
   "metadata": {},
   "source": [
    "CÁLCULO DE ERRORES"
   ]
  },
  {
   "cell_type": "code",
   "execution_count": 80,
   "metadata": {},
   "outputs": [],
   "source": [
    "def Calcula_errores(var1,var2):\n",
    "    \"\"\"\n",
    "    Esta función calcula los tres tipos de error.\n",
    "    \"\"\"\n",
    "    print(f\"El error cuadrático medio es: {mean_squared_error(var1,var2)}\")\n",
    "    print(f\"El error absoluto medio es: {mean_absolute_error(var1,var2)}\")\n",
    "    print(f\"La raíz del error cuadrático medio es: {np.sqrt(mean_squared_error(var1,var2))}\")"
   ]
  },
  {
   "cell_type": "code",
   "execution_count": 68,
   "metadata": {},
   "outputs": [
    {
     "name": "stdout",
     "output_type": "stream",
     "text": [
      "El error cuadrático medio es: 2.5702760821382964\n",
      "El error absoluto medio es: 1.2572460501521978\n",
      "La raíz del error cuadrático medio es: 1.6032080595288611\n"
     ]
    }
   ],
   "source": [
    "#Calculamos errores del modelo saturado\n",
    "Calcula_errores(y_test,y_pred)"
   ]
  },
  {
   "cell_type": "code",
   "execution_count": 69,
   "metadata": {},
   "outputs": [
    {
     "name": "stdout",
     "output_type": "stream",
     "text": [
      "El error cuadrático medio es: 2.564266381797401\n",
      "El error absoluto medio es: 1.2645294850680904\n",
      "La raíz del error cuadrático medio es: 1.6013326892927031\n"
     ]
    }
   ],
   "source": [
    "#Calculamos errores del modelo TV y radio\n",
    "Calcula_errores(y1_test,y1_pred)"
   ]
  },
  {
   "cell_type": "code",
   "execution_count": 70,
   "metadata": {},
   "outputs": [
    {
     "name": "stdout",
     "output_type": "stream",
     "text": [
      "El error cuadrático medio es: 10.587340438327901\n",
      "El error absoluto medio es: 2.5169112453722855\n",
      "La raíz del error cuadrático medio es: 3.2538193616622144\n"
     ]
    }
   ],
   "source": [
    "#Calculamos errores del modelo SOLO TV\n",
    "Calcula_errores(y2_test,y2_pred)"
   ]
  },
  {
   "cell_type": "markdown",
   "metadata": {},
   "source": [
    "<h4 style=\"font-weight:300; color: blue;\"> COMPARACIÓN DE ERRORES DE LOS 3 MODELOS DE MACHINE LEARNING</h2>"
   ]
  },
  {
   "cell_type": "markdown",
   "metadata": {},
   "source": [
    "Primero mencionar que para comparar el error cuadrático medio y el error absoluto medio es necesario sacar la raíz, en nuestro caso el error cuadratico medio es el mayor en todos los modelos. Esto nos indica que algunas predicciones estan muy alejadas de su valor real."
   ]
  },
  {
   "cell_type": "markdown",
   "metadata": {},
   "source": [
    "El menor error absoluto medio es el del modelo saturado, pero como los errores entre este modelo y el de (TV,radio) son muy similares, consideraremos que el modelo (TV,radio) es el mejor."
   ]
  },
  {
   "cell_type": "markdown",
   "metadata": {},
   "source": [
    "Los errores del modelo de TV son mayores que el del modelo (TV,radio) ya que la columna radio parece disipar los errores. "
   ]
  },
  {
   "cell_type": "markdown",
   "metadata": {},
   "source": [
    "<h4 style=\"font-weight:300; color: #0c8fd5;\"> CONCLUSIONES MODELO MACHINE LEARNING Y MODELO ECONOMÉTRICO</h2>"
   ]
  },
  {
   "cell_type": "markdown",
   "metadata": {},
   "source": [
    "Sabemos que el coeficiente de TV que el modelo econométrico nos entrega es de 0.0475 y el del modelo de machine learning es de 0.04951191"
   ]
  },
  {
   "cell_type": "code",
   "execution_count": 78,
   "metadata": {},
   "outputs": [
    {
     "data": {
      "text/plain": [
       "array([0.04951191])"
      ]
     },
     "execution_count": 78,
     "metadata": {},
     "output_type": "execute_result"
    }
   ],
   "source": [
    "Modelo3.coef_"
   ]
  },
  {
   "cell_type": "markdown",
   "metadata": {},
   "source": [
    "Estos coeficientes son distintos porque en el modelo econométrico hicimos uso de todos los datos que nos entregaba el dataframe, en cambio en el modelo de machine learning usamos el 30% para para el testeo."
   ]
  },
  {
   "cell_type": "markdown",
   "metadata": {},
   "source": [
    "Para poder decidir si nuestro modelo es lo suficientemente bueno deberíamos probarlo con datos externos a nuestra base de datos original y analizar los respectivos errores, pero el modelo (TV,radio) presenta un estandar aceptable para los modelos de tipo lineal."
   ]
  }
 ],
 "metadata": {
  "kernelspec": {
   "display_name": "Python 3",
   "language": "python",
   "name": "python3"
  },
  "language_info": {
   "codemirror_mode": {
    "name": "ipython",
    "version": 3
   },
   "file_extension": ".py",
   "mimetype": "text/x-python",
   "name": "python",
   "nbconvert_exporter": "python",
   "pygments_lexer": "ipython3",
   "version": "3.8.3"
  }
 },
 "nbformat": 4,
 "nbformat_minor": 4
}
